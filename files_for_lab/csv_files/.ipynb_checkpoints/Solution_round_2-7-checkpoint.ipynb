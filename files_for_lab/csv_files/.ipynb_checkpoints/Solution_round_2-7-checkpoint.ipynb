{
 "cells": [
  {
   "cell_type": "markdown",
   "id": "0685a5d2",
   "metadata": {},
   "source": [
    "# Marketing Customer Analysis"
   ]
  },
  {
   "cell_type": "markdown",
   "id": "6c9ac6dd",
   "metadata": {},
   "source": [
    "### 1. Import libraries and dataframe"
   ]
  },
  {
   "cell_type": "code",
   "execution_count": 1,
   "id": "03d0561c",
   "metadata": {},
   "outputs": [],
   "source": [
    "import pandas as pd\n",
    "import numpy as np\n",
    "from sklearn import linear_model\n",
    "marketing_data = pd.read_csv('marketing_customer_analysis.csv')"
   ]
  },
  {
   "cell_type": "markdown",
   "id": "a1d0f84b",
   "metadata": {},
   "source": [
    "### Round 1\n",
    "\n",
    "1. Show the dataframe shape\n",
    "2. Standardize header names\n",
    "3. Which columns are numerical?\n",
    "4. Which columns are categorical\n",
    "5. Check and deal with NaN values\n",
    "6. Datetime format - extract the months from the dataset and store in a seperate column, filter to show Q1\n",
    "7. Put all the previous mentioned data transformations into a function"
   ]
  },
  {
   "cell_type": "markdown",
   "id": "d0f73e78",
   "metadata": {},
   "source": [
    "#### Exercise 1 - show the dataframe shape"
   ]
  },
  {
   "cell_type": "code",
   "execution_count": 2,
   "id": "b1004b5b",
   "metadata": {},
   "outputs": [
    {
     "data": {
      "text/plain": [
       "<bound method NDFrame.head of        Unnamed: 0 Customer       State  Customer Lifetime Value Response  \\\n",
       "0               0  DK49336     Arizona              4809.216960       No   \n",
       "1               1  KX64629  California              2228.525238       No   \n",
       "2               2  LZ68649  Washington             14947.917300       No   \n",
       "3               3  XL78013      Oregon             22332.439460      Yes   \n",
       "4               4  QA50777      Oregon              9025.067525       No   \n",
       "...           ...      ...         ...                      ...      ...   \n",
       "10905       10905  FE99816      Nevada             15563.369440       No   \n",
       "10906       10906  KX53892      Oregon              5259.444853       No   \n",
       "10907       10907  TL39050     Arizona             23893.304100       No   \n",
       "10908       10908  WA60547  California             11971.977650       No   \n",
       "10909       10909  IV32877         NaN              6857.519928      NaN   \n",
       "\n",
       "       Coverage Education Effective To Date EmploymentStatus Gender  ...  \\\n",
       "0         Basic   College           2/18/11         Employed      M  ...   \n",
       "1         Basic   College           1/18/11       Unemployed      F  ...   \n",
       "2         Basic  Bachelor           2/10/11         Employed      M  ...   \n",
       "3      Extended   College           1/11/11         Employed      M  ...   \n",
       "4       Premium  Bachelor           1/17/11    Medical Leave      F  ...   \n",
       "...         ...       ...               ...              ...    ...  ...   \n",
       "10905   Premium  Bachelor           1/19/11       Unemployed      F  ...   \n",
       "10906     Basic   College            1/6/11         Employed      F  ...   \n",
       "10907  Extended  Bachelor            2/6/11         Employed      F  ...   \n",
       "10908   Premium   College           2/13/11         Employed      F  ...   \n",
       "10909     Basic  Bachelor            1/8/11       Unemployed      M  ...   \n",
       "\n",
       "       Number of Open Complaints Number of Policies     Policy Type  \\\n",
       "0                            0.0                  9  Corporate Auto   \n",
       "1                            0.0                  1   Personal Auto   \n",
       "2                            0.0                  2   Personal Auto   \n",
       "3                            0.0                  2  Corporate Auto   \n",
       "4                            NaN                  7   Personal Auto   \n",
       "...                          ...                ...             ...   \n",
       "10905                        NaN                  7   Personal Auto   \n",
       "10906                        0.0                  6   Personal Auto   \n",
       "10907                        0.0                  2  Corporate Auto   \n",
       "10908                        4.0                  6   Personal Auto   \n",
       "10909                        0.0                  3   Personal Auto   \n",
       "\n",
       "             Policy  Renew Offer Type  Sales Channel  Total Claim Amount  \\\n",
       "0      Corporate L3            Offer3          Agent          292.800000   \n",
       "1       Personal L3            Offer4    Call Center          744.924331   \n",
       "2       Personal L3            Offer3    Call Center          480.000000   \n",
       "3      Corporate L3            Offer2         Branch          484.013411   \n",
       "4       Personal L2            Offer1         Branch          707.925645   \n",
       "...             ...               ...            ...                 ...   \n",
       "10905   Personal L1            Offer3            Web         1214.400000   \n",
       "10906   Personal L3            Offer2         Branch          273.018929   \n",
       "10907  Corporate L3            Offer1            Web          381.306996   \n",
       "10908   Personal L1            Offer1         Branch          618.288849   \n",
       "10909   Personal L1            Offer4            Web         1021.719397   \n",
       "\n",
       "       Vehicle Class Vehicle Size Vehicle Type  \n",
       "0      Four-Door Car      Medsize          NaN  \n",
       "1      Four-Door Car      Medsize          NaN  \n",
       "2                SUV      Medsize            A  \n",
       "3      Four-Door Car      Medsize            A  \n",
       "4      Four-Door Car      Medsize          NaN  \n",
       "...              ...          ...          ...  \n",
       "10905     Luxury Car      Medsize            A  \n",
       "10906  Four-Door Car      Medsize            A  \n",
       "10907     Luxury SUV      Medsize          NaN  \n",
       "10908            SUV      Medsize            A  \n",
       "10909            SUV      Medsize          NaN  \n",
       "\n",
       "[10910 rows x 26 columns]>"
      ]
     },
     "execution_count": 2,
     "metadata": {},
     "output_type": "execute_result"
    }
   ],
   "source": [
    "marketing_data.shape\n",
    "marketing_data.head"
   ]
  },
  {
   "cell_type": "code",
   "execution_count": 3,
   "id": "7ed9bf87",
   "metadata": {},
   "outputs": [],
   "source": [
    "marketing_data = marketing_data.drop(['Unnamed: 0'], axis = 1)"
   ]
  },
  {
   "cell_type": "markdown",
   "id": "ef001beb",
   "metadata": {},
   "source": [
    "#### Exercise 2 - standardize header names"
   ]
  },
  {
   "cell_type": "code",
   "execution_count": 4,
   "id": "db21c44c",
   "metadata": {},
   "outputs": [
    {
     "data": {
      "text/plain": [
       "Index(['Customer', 'State', 'Customer Lifetime Value', 'Response', 'Coverage',\n",
       "       'Education', 'Effective To Date', 'EmploymentStatus', 'Gender',\n",
       "       'Income', 'Location Code', 'Marital Status', 'Monthly Premium Auto',\n",
       "       'Months Since Last Claim', 'Months Since Policy Inception',\n",
       "       'Number of Open Complaints', 'Number of Policies', 'Policy Type',\n",
       "       'Policy', 'Renew Offer Type', 'Sales Channel', 'Total Claim Amount',\n",
       "       'Vehicle Class', 'Vehicle Size', 'Vehicle Type'],\n",
       "      dtype='object')"
      ]
     },
     "metadata": {},
     "output_type": "display_data"
    },
    {
     "data": {
      "text/plain": [
       "Index(['customer', 'state', 'customer lifetime value', 'response', 'coverage',\n",
       "       'education', 'effective to date', 'employmentstatus', 'gender',\n",
       "       'income', 'location code', 'marital status', 'monthly premium auto',\n",
       "       'months since last claim', 'months since policy inception',\n",
       "       'number of open complaints', 'number of policies', 'policy type',\n",
       "       'policy', 'renew offer type', 'sales channel', 'total claim amount',\n",
       "       'vehicle class', 'vehicle size', 'vehicle type'],\n",
       "      dtype='object')"
      ]
     },
     "metadata": {},
     "output_type": "display_data"
    }
   ],
   "source": [
    "#First display the headers and check what needs to be done\n",
    "display(marketing_data.columns)\n",
    "\n",
    "#Put everything in lower cases\n",
    "cols = []\n",
    "for colname in marketing_data.columns:\n",
    "    cols.append(colname.lower())\n",
    "marketing_data.columns = cols\n",
    "\n",
    "# check if it worked\n",
    "display(marketing_data.columns)"
   ]
  },
  {
   "cell_type": "markdown",
   "id": "ba285d75",
   "metadata": {},
   "source": [
    "#### Exercise 3 - which columns are numerical"
   ]
  },
  {
   "cell_type": "code",
   "execution_count": 5,
   "id": "15cfe62b",
   "metadata": {},
   "outputs": [
    {
     "data": {
      "text/plain": [
       "Index(['customer lifetime value', 'income', 'monthly premium auto',\n",
       "       'months since last claim', 'months since policy inception',\n",
       "       'number of open complaints', 'number of policies',\n",
       "       'total claim amount'],\n",
       "      dtype='object')"
      ]
     },
     "execution_count": 5,
     "metadata": {},
     "output_type": "execute_result"
    }
   ],
   "source": [
    "marketing_data.select_dtypes('number').columns\n",
    "numerical = marketing_data.select_dtypes('number').columns\n",
    "numerical"
   ]
  },
  {
   "cell_type": "markdown",
   "id": "570037ea",
   "metadata": {},
   "source": [
    "#### Exercise 4 - which columns are categorical"
   ]
  },
  {
   "cell_type": "code",
   "execution_count": 6,
   "id": "4bf32827",
   "metadata": {},
   "outputs": [
    {
     "data": {
      "text/plain": [
       "Index(['customer', 'state', 'response', 'coverage', 'education',\n",
       "       'effective to date', 'employmentstatus', 'gender', 'location code',\n",
       "       'marital status', 'policy type', 'policy', 'renew offer type',\n",
       "       'sales channel', 'vehicle class', 'vehicle size', 'vehicle type'],\n",
       "      dtype='object')"
      ]
     },
     "execution_count": 6,
     "metadata": {},
     "output_type": "execute_result"
    }
   ],
   "source": [
    "marketing_data.select_dtypes('object').columns\n",
    "categorical = marketing_data.select_dtypes('object').columns\n",
    "categorical"
   ]
  },
  {
   "cell_type": "markdown",
   "id": "ba5ee06f",
   "metadata": {},
   "source": [
    "#### Exercise 5 - check and deal with NaN values (no values) - decide what to do with them and comment"
   ]
  },
  {
   "cell_type": "code",
   "execution_count": 7,
   "id": "5002903a",
   "metadata": {
    "scrolled": true
   },
   "outputs": [
    {
     "data": {
      "text/plain": [
       "customer                            0\n",
       "state                             631\n",
       "customer lifetime value             0\n",
       "response                          631\n",
       "coverage                            0\n",
       "education                           0\n",
       "effective to date                   0\n",
       "employmentstatus                    0\n",
       "gender                              0\n",
       "income                              0\n",
       "location code                       0\n",
       "marital status                      0\n",
       "monthly premium auto                0\n",
       "months since last claim           633\n",
       "months since policy inception       0\n",
       "number of open complaints         633\n",
       "number of policies                  0\n",
       "policy type                         0\n",
       "policy                              0\n",
       "renew offer type                    0\n",
       "sales channel                       0\n",
       "total claim amount                  0\n",
       "vehicle class                     622\n",
       "vehicle size                      622\n",
       "vehicle type                     5482\n",
       "dtype: int64"
      ]
     },
     "metadata": {},
     "output_type": "display_data"
    },
    {
     "data": {
      "text/html": [
       "<div>\n",
       "<style scoped>\n",
       "    .dataframe tbody tr th:only-of-type {\n",
       "        vertical-align: middle;\n",
       "    }\n",
       "\n",
       "    .dataframe tbody tr th {\n",
       "        vertical-align: top;\n",
       "    }\n",
       "\n",
       "    .dataframe thead th {\n",
       "        text-align: right;\n",
       "    }\n",
       "</style>\n",
       "<table border=\"1\" class=\"dataframe\">\n",
       "  <thead>\n",
       "    <tr style=\"text-align: right;\">\n",
       "      <th></th>\n",
       "      <th>header_name</th>\n",
       "      <th>percent_nulls</th>\n",
       "    </tr>\n",
       "  </thead>\n",
       "  <tbody>\n",
       "    <tr>\n",
       "      <th>0</th>\n",
       "      <td>customer</td>\n",
       "      <td>0.00</td>\n",
       "    </tr>\n",
       "    <tr>\n",
       "      <th>1</th>\n",
       "      <td>state</td>\n",
       "      <td>5.78</td>\n",
       "    </tr>\n",
       "    <tr>\n",
       "      <th>2</th>\n",
       "      <td>customer lifetime value</td>\n",
       "      <td>0.00</td>\n",
       "    </tr>\n",
       "    <tr>\n",
       "      <th>3</th>\n",
       "      <td>response</td>\n",
       "      <td>5.78</td>\n",
       "    </tr>\n",
       "    <tr>\n",
       "      <th>4</th>\n",
       "      <td>coverage</td>\n",
       "      <td>0.00</td>\n",
       "    </tr>\n",
       "    <tr>\n",
       "      <th>5</th>\n",
       "      <td>education</td>\n",
       "      <td>0.00</td>\n",
       "    </tr>\n",
       "    <tr>\n",
       "      <th>6</th>\n",
       "      <td>effective to date</td>\n",
       "      <td>0.00</td>\n",
       "    </tr>\n",
       "    <tr>\n",
       "      <th>7</th>\n",
       "      <td>employmentstatus</td>\n",
       "      <td>0.00</td>\n",
       "    </tr>\n",
       "    <tr>\n",
       "      <th>8</th>\n",
       "      <td>gender</td>\n",
       "      <td>0.00</td>\n",
       "    </tr>\n",
       "    <tr>\n",
       "      <th>9</th>\n",
       "      <td>income</td>\n",
       "      <td>0.00</td>\n",
       "    </tr>\n",
       "    <tr>\n",
       "      <th>10</th>\n",
       "      <td>location code</td>\n",
       "      <td>0.00</td>\n",
       "    </tr>\n",
       "    <tr>\n",
       "      <th>11</th>\n",
       "      <td>marital status</td>\n",
       "      <td>0.00</td>\n",
       "    </tr>\n",
       "    <tr>\n",
       "      <th>12</th>\n",
       "      <td>monthly premium auto</td>\n",
       "      <td>0.00</td>\n",
       "    </tr>\n",
       "    <tr>\n",
       "      <th>13</th>\n",
       "      <td>months since last claim</td>\n",
       "      <td>5.80</td>\n",
       "    </tr>\n",
       "    <tr>\n",
       "      <th>14</th>\n",
       "      <td>months since policy inception</td>\n",
       "      <td>0.00</td>\n",
       "    </tr>\n",
       "    <tr>\n",
       "      <th>15</th>\n",
       "      <td>number of open complaints</td>\n",
       "      <td>5.80</td>\n",
       "    </tr>\n",
       "    <tr>\n",
       "      <th>16</th>\n",
       "      <td>number of policies</td>\n",
       "      <td>0.00</td>\n",
       "    </tr>\n",
       "    <tr>\n",
       "      <th>17</th>\n",
       "      <td>policy type</td>\n",
       "      <td>0.00</td>\n",
       "    </tr>\n",
       "    <tr>\n",
       "      <th>18</th>\n",
       "      <td>policy</td>\n",
       "      <td>0.00</td>\n",
       "    </tr>\n",
       "    <tr>\n",
       "      <th>19</th>\n",
       "      <td>renew offer type</td>\n",
       "      <td>0.00</td>\n",
       "    </tr>\n",
       "    <tr>\n",
       "      <th>20</th>\n",
       "      <td>sales channel</td>\n",
       "      <td>0.00</td>\n",
       "    </tr>\n",
       "    <tr>\n",
       "      <th>21</th>\n",
       "      <td>total claim amount</td>\n",
       "      <td>0.00</td>\n",
       "    </tr>\n",
       "    <tr>\n",
       "      <th>22</th>\n",
       "      <td>vehicle class</td>\n",
       "      <td>5.70</td>\n",
       "    </tr>\n",
       "    <tr>\n",
       "      <th>23</th>\n",
       "      <td>vehicle size</td>\n",
       "      <td>5.70</td>\n",
       "    </tr>\n",
       "    <tr>\n",
       "      <th>24</th>\n",
       "      <td>vehicle type</td>\n",
       "      <td>50.25</td>\n",
       "    </tr>\n",
       "  </tbody>\n",
       "</table>\n",
       "</div>"
      ],
      "text/plain": [
       "                      header_name  percent_nulls\n",
       "0                        customer           0.00\n",
       "1                           state           5.78\n",
       "2         customer lifetime value           0.00\n",
       "3                        response           5.78\n",
       "4                        coverage           0.00\n",
       "5                       education           0.00\n",
       "6               effective to date           0.00\n",
       "7                employmentstatus           0.00\n",
       "8                          gender           0.00\n",
       "9                          income           0.00\n",
       "10                  location code           0.00\n",
       "11                 marital status           0.00\n",
       "12           monthly premium auto           0.00\n",
       "13        months since last claim           5.80\n",
       "14  months since policy inception           0.00\n",
       "15      number of open complaints           5.80\n",
       "16             number of policies           0.00\n",
       "17                    policy type           0.00\n",
       "18                         policy           0.00\n",
       "19               renew offer type           0.00\n",
       "20                  sales channel           0.00\n",
       "21             total claim amount           0.00\n",
       "22                  vehicle class           5.70\n",
       "23                   vehicle size           5.70\n",
       "24                   vehicle type          50.25"
      ]
     },
     "execution_count": 7,
     "metadata": {},
     "output_type": "execute_result"
    }
   ],
   "source": [
    "# use isna to show if there are na values - show in a sum\n",
    "marketing_data.isna()\n",
    "display(marketing_data.isna().sum())\n",
    "\n",
    "# Check what percentage that is from the total values\n",
    "round(marketing_data.isna().sum()/len(marketing_data),4)*100  # shows the percentage of null values in a column\n",
    "nulls_df = pd.DataFrame(round(marketing_data.isna().sum()/len(marketing_data),4)*100)\n",
    "nulls_df\n",
    "nulls_df = nulls_df.reset_index()\n",
    "nulls_df\n",
    "nulls_df.columns = ['header_name', 'percent_nulls'] #creates a table that looks nicer than the first code (round...)\n",
    "nulls_df"
   ]
  },
  {
   "cell_type": "code",
   "execution_count": 8,
   "id": "4c25cf8e",
   "metadata": {},
   "outputs": [],
   "source": [
    "### HOW DO I START?\n",
    "\n",
    "# 1. Look at the categorical values\n",
    "# 2. Consider the numerical values\n",
    "# 3. Consider the value 'vehicle type' that is missing most of the values"
   ]
  },
  {
   "cell_type": "code",
   "execution_count": 9,
   "id": "ab7b2f1c",
   "metadata": {},
   "outputs": [
    {
     "data": {
      "text/plain": [
       "array(['Arizona', 'California', 'Washington', 'Oregon', nan, 'Nevada'],\n",
       "      dtype=object)"
      ]
     },
     "metadata": {},
     "output_type": "display_data"
    },
    {
     "data": {
      "text/plain": [
       "California    3552\n",
       "Oregon        2909\n",
       "Arizona       1937\n",
       "Nevada         993\n",
       "Washington     888\n",
       "NaN            631\n",
       "Name: state, dtype: int64"
      ]
     },
     "metadata": {},
     "output_type": "display_data"
    },
    {
     "data": {
      "text/plain": [
       "array(['No', 'Yes', nan], dtype=object)"
      ]
     },
     "metadata": {},
     "output_type": "display_data"
    },
    {
     "data": {
      "text/plain": [
       "No     8813\n",
       "Yes    1466\n",
       "NaN     631\n",
       "Name: response, dtype: int64"
      ]
     },
     "metadata": {},
     "output_type": "display_data"
    },
    {
     "data": {
      "text/plain": [
       "array(['Four-Door Car', 'SUV', 'Two-Door Car', 'Sports Car', 'Luxury Car',\n",
       "       'Luxury SUV', nan], dtype=object)"
      ]
     },
     "metadata": {},
     "output_type": "display_data"
    },
    {
     "data": {
      "text/plain": [
       "Four-Door Car    5212\n",
       "Two-Door Car     2118\n",
       "SUV              2012\n",
       "NaN               622\n",
       "Sports Car        550\n",
       "Luxury SUV        208\n",
       "Luxury Car        188\n",
       "Name: vehicle class, dtype: int64"
      ]
     },
     "metadata": {},
     "output_type": "display_data"
    },
    {
     "data": {
      "text/plain": [
       "array(['Medsize', 'Small', 'Large', nan], dtype=object)"
      ]
     },
     "metadata": {},
     "output_type": "display_data"
    },
    {
     "data": {
      "text/plain": [
       "Medsize    7251\n",
       "Small      1966\n",
       "Large      1071\n",
       "NaN         622\n",
       "Name: vehicle size, dtype: int64"
      ]
     },
     "metadata": {},
     "output_type": "display_data"
    },
    {
     "data": {
      "text/plain": [
       "NaN    5482\n",
       "A      5428\n",
       "Name: vehicle type, dtype: int64"
      ]
     },
     "metadata": {},
     "output_type": "display_data"
    }
   ],
   "source": [
    "## CONSIDER CATEGORICAL VALUES \n",
    "\n",
    "# 1. Check the count for state values, and response values - the same rows miss the same two values\n",
    "    #However between state and response there no obvious relationship\n",
    "display(marketing_data['state'].unique())\n",
    "display(marketing_data['state'].value_counts(dropna=False))\n",
    "\n",
    "display(marketing_data['response'].unique())\n",
    "display(marketing_data['response'].value_counts(dropna=False))\n",
    "\n",
    "# 2. Check the count for vehicle class, and vehicle size values - the same rows miss the same two values\n",
    "    #Between vehicle class and vehicle size there is an obvious relationship\n",
    "\n",
    "display(marketing_data['vehicle class'].unique())\n",
    "display(marketing_data['vehicle class'].value_counts(dropna=False))\n",
    "\n",
    "display(marketing_data['vehicle size'].unique())\n",
    "display(marketing_data['vehicle size'].value_counts(dropna=False))\n",
    "\n",
    "# 3. Show the vehicle type\n",
    "display(marketing_data['vehicle type'].value_counts(dropna=False))"
   ]
  },
  {
   "cell_type": "code",
   "execution_count": 10,
   "id": "ae1e3064",
   "metadata": {},
   "outputs": [
    {
     "data": {
      "text/plain": [
       "No     9444\n",
       "Yes    1466\n",
       "Name: response, dtype: int64"
      ]
     },
     "metadata": {},
     "output_type": "display_data"
    },
    {
     "data": {
      "text/plain": [
       "Four-Door Car    5834\n",
       "Two-Door Car     2118\n",
       "SUV              2012\n",
       "Sports Car        550\n",
       "Luxury SUV        208\n",
       "Luxury Car        188\n",
       "Name: vehicle class, dtype: int64"
      ]
     },
     "metadata": {},
     "output_type": "display_data"
    },
    {
     "data": {
      "text/plain": [
       "Medsize    7873\n",
       "Small      1966\n",
       "Large      1071\n",
       "Name: vehicle size, dtype: int64"
      ]
     },
     "metadata": {},
     "output_type": "display_data"
    },
    {
     "data": {
      "text/plain": [
       "M    5482\n",
       "A    5428\n",
       "Name: vehicle type, dtype: int64"
      ]
     },
     "metadata": {},
     "output_type": "display_data"
    },
    {
     "data": {
      "text/plain": [
       "California    4183\n",
       "Oregon        2909\n",
       "Arizona       1937\n",
       "Nevada         993\n",
       "Washington     888\n",
       "Name: state, dtype: int64"
      ]
     },
     "metadata": {},
     "output_type": "display_data"
    }
   ],
   "source": [
    "## CONSIDER CATEGORICAL VALUES \n",
    "\n",
    "# 4. FILL IN THE MISSING VALUE WITH THE MOST USED VALUE, where it makes sense - FOR RESPONSE, VEHICLE CLASS AND SIZE, TYPE\n",
    "\n",
    "marketing_data['response'] = marketing_data['response'].fillna('No')\n",
    "\n",
    "marketing_data['vehicle class'] = marketing_data['vehicle class'].fillna('Four-Door Car')\n",
    "marketing_data['vehicle size'] = marketing_data['vehicle size'].fillna('Medsize')\n",
    "marketing_data['vehicle type'] = marketing_data['vehicle type'].fillna('M')\n",
    "marketing_data['state'] = marketing_data['state'].fillna('California')\n",
    "# 5. Check if this is now true\n",
    "\n",
    "display(marketing_data['response'].value_counts())\n",
    "\n",
    "display(marketing_data['vehicle class'].value_counts())\n",
    "display(marketing_data['vehicle size'].value_counts())\n",
    "display(marketing_data['vehicle type'].value_counts())\n",
    "display(marketing_data['state'].value_counts())\n"
   ]
  },
  {
   "cell_type": "code",
   "execution_count": 11,
   "id": "ff3f9c4d",
   "metadata": {},
   "outputs": [
    {
     "data": {
      "text/plain": [
       "customer                           0\n",
       "state                              0\n",
       "customer lifetime value            0\n",
       "response                           0\n",
       "coverage                           0\n",
       "education                          0\n",
       "effective to date                  0\n",
       "employmentstatus                   0\n",
       "gender                             0\n",
       "income                             0\n",
       "location code                      0\n",
       "marital status                     0\n",
       "monthly premium auto               0\n",
       "months since last claim          633\n",
       "months since policy inception      0\n",
       "number of open complaints        633\n",
       "number of policies                 0\n",
       "policy type                        0\n",
       "policy                             0\n",
       "renew offer type                   0\n",
       "sales channel                      0\n",
       "total claim amount                 0\n",
       "vehicle class                      0\n",
       "vehicle size                       0\n",
       "vehicle type                       0\n",
       "dtype: int64"
      ]
     },
     "metadata": {},
     "output_type": "display_data"
    }
   ],
   "source": [
    "# Check how many values are na in the whole dataset\n",
    "\n",
    "display(marketing_data.isna().sum())"
   ]
  },
  {
   "cell_type": "code",
   "execution_count": 12,
   "id": "57001bdf",
   "metadata": {},
   "outputs": [
    {
     "name": "stdout",
     "output_type": "stream",
     "text": [
      "15.149070740488469\n",
      "0.38425610586747105\n"
     ]
    },
    {
     "data": {
      "text/plain": [
       "(10910, 25)"
      ]
     },
     "metadata": {},
     "output_type": "display_data"
    },
    {
     "data": {
      "text/plain": [
       "(10910, 25)"
      ]
     },
     "metadata": {},
     "output_type": "display_data"
    },
    {
     "data": {
      "text/plain": [
       "customer                         0\n",
       "state                            0\n",
       "customer lifetime value          0\n",
       "response                         0\n",
       "coverage                         0\n",
       "education                        0\n",
       "effective to date                0\n",
       "employmentstatus                 0\n",
       "gender                           0\n",
       "income                           0\n",
       "location code                    0\n",
       "marital status                   0\n",
       "monthly premium auto             0\n",
       "months since last claim          0\n",
       "months since policy inception    0\n",
       "number of open complaints        0\n",
       "number of policies               0\n",
       "policy type                      0\n",
       "policy                           0\n",
       "renew offer type                 0\n",
       "sales channel                    0\n",
       "total claim amount               0\n",
       "vehicle class                    0\n",
       "vehicle size                     0\n",
       "vehicle type                     0\n",
       "dtype: int64"
      ]
     },
     "metadata": {},
     "output_type": "display_data"
    }
   ],
   "source": [
    "## NOW CONSIDER THE NUMERICAL VALUES 'months since last claim', 'number of open complaints'\n",
    "\n",
    "# They seem to have an obvious relationship as well\n",
    "#Get the mean for the 'months since last claim' and 'number of open complaints' and fill in the missing values\n",
    "\n",
    "import numpy as np\n",
    "\n",
    "# 1. Calculate the mean of the column 'months since last claim'\n",
    "mean_months_since_last_claim = marketing_data['months since last claim'].mean()\n",
    "print(mean_months_since_last_claim)\n",
    "\n",
    "mean_number_of_open_complaints = marketing_data['number of open complaints'].mean()\n",
    "print(mean_number_of_open_complaints)\n",
    "\n",
    "# 2. Fill in the missing values\n",
    "marketing_data['months since last claim'] = marketing_data['months since last claim'].fillna(mean_months_since_last_claim)\n",
    "display(marketing_data.shape)\n",
    "\n",
    "marketing_data['number of open complaints'] = marketing_data['number of open complaints'].fillna(mean_number_of_open_complaints)\n",
    "display(marketing_data.shape)\n",
    "\n",
    "# 3. Check for na values\n",
    "# Check how many values are na in the whole dataset\n",
    "\n",
    "display(marketing_data.isna().sum())"
   ]
  },
  {
   "cell_type": "code",
   "execution_count": 13,
   "id": "0e80b4cf",
   "metadata": {},
   "outputs": [
    {
     "data": {
      "text/plain": [
       "customer                         0\n",
       "state                            0\n",
       "customer lifetime value          0\n",
       "response                         0\n",
       "coverage                         0\n",
       "education                        0\n",
       "effective to date                0\n",
       "employmentstatus                 0\n",
       "gender                           0\n",
       "income                           0\n",
       "location code                    0\n",
       "marital status                   0\n",
       "monthly premium auto             0\n",
       "months since last claim          0\n",
       "months since policy inception    0\n",
       "number of open complaints        0\n",
       "number of policies               0\n",
       "policy type                      0\n",
       "policy                           0\n",
       "renew offer type                 0\n",
       "sales channel                    0\n",
       "total claim amount               0\n",
       "vehicle class                    0\n",
       "vehicle size                     0\n",
       "vehicle type                     0\n",
       "dtype: int64"
      ]
     },
     "metadata": {},
     "output_type": "display_data"
    },
    {
     "data": {
      "text/plain": [
       "(10910, 25)"
      ]
     },
     "metadata": {},
     "output_type": "display_data"
    }
   ],
   "source": [
    "## Control the dataframe for missing values\n",
    "\n",
    "#5% of the original values are now deleted which is okay... maybe i could have created an unknown value for the states..\n",
    "\n",
    "display(marketing_data.isna().sum())\n",
    "display(marketing_data.shape)"
   ]
  },
  {
   "cell_type": "markdown",
   "id": "55b0db00",
   "metadata": {},
   "source": [
    "#### Exercise 6 - create a new column with just the month"
   ]
  },
  {
   "cell_type": "code",
   "execution_count": 14,
   "id": "4f579f5d",
   "metadata": {},
   "outputs": [
    {
     "data": {
      "text/plain": [
       "customer                          object\n",
       "state                             object\n",
       "customer lifetime value          float64\n",
       "response                          object\n",
       "coverage                          object\n",
       "education                         object\n",
       "effective to date                 object\n",
       "employmentstatus                  object\n",
       "gender                            object\n",
       "income                             int64\n",
       "location code                     object\n",
       "marital status                    object\n",
       "monthly premium auto               int64\n",
       "months since last claim          float64\n",
       "months since policy inception      int64\n",
       "number of open complaints        float64\n",
       "number of policies                 int64\n",
       "policy type                       object\n",
       "policy                            object\n",
       "renew offer type                  object\n",
       "sales channel                     object\n",
       "total claim amount               float64\n",
       "vehicle class                     object\n",
       "vehicle size                      object\n",
       "vehicle type                      object\n",
       "dtype: object"
      ]
     },
     "metadata": {},
     "output_type": "display_data"
    },
    {
     "data": {
      "text/html": [
       "<div>\n",
       "<style scoped>\n",
       "    .dataframe tbody tr th:only-of-type {\n",
       "        vertical-align: middle;\n",
       "    }\n",
       "\n",
       "    .dataframe tbody tr th {\n",
       "        vertical-align: top;\n",
       "    }\n",
       "\n",
       "    .dataframe thead th {\n",
       "        text-align: right;\n",
       "    }\n",
       "</style>\n",
       "<table border=\"1\" class=\"dataframe\">\n",
       "  <thead>\n",
       "    <tr style=\"text-align: right;\">\n",
       "      <th></th>\n",
       "      <th>customer</th>\n",
       "      <th>state</th>\n",
       "      <th>customer lifetime value</th>\n",
       "      <th>response</th>\n",
       "      <th>coverage</th>\n",
       "      <th>education</th>\n",
       "      <th>effective to date</th>\n",
       "      <th>employmentstatus</th>\n",
       "      <th>gender</th>\n",
       "      <th>income</th>\n",
       "      <th>...</th>\n",
       "      <th>number of open complaints</th>\n",
       "      <th>number of policies</th>\n",
       "      <th>policy type</th>\n",
       "      <th>policy</th>\n",
       "      <th>renew offer type</th>\n",
       "      <th>sales channel</th>\n",
       "      <th>total claim amount</th>\n",
       "      <th>vehicle class</th>\n",
       "      <th>vehicle size</th>\n",
       "      <th>vehicle type</th>\n",
       "    </tr>\n",
       "  </thead>\n",
       "  <tbody>\n",
       "    <tr>\n",
       "      <th>0</th>\n",
       "      <td>DK49336</td>\n",
       "      <td>Arizona</td>\n",
       "      <td>4809.216960</td>\n",
       "      <td>No</td>\n",
       "      <td>Basic</td>\n",
       "      <td>College</td>\n",
       "      <td>2/18/11</td>\n",
       "      <td>Employed</td>\n",
       "      <td>M</td>\n",
       "      <td>48029</td>\n",
       "      <td>...</td>\n",
       "      <td>0.0</td>\n",
       "      <td>9</td>\n",
       "      <td>Corporate Auto</td>\n",
       "      <td>Corporate L3</td>\n",
       "      <td>Offer3</td>\n",
       "      <td>Agent</td>\n",
       "      <td>292.800000</td>\n",
       "      <td>Four-Door Car</td>\n",
       "      <td>Medsize</td>\n",
       "      <td>M</td>\n",
       "    </tr>\n",
       "    <tr>\n",
       "      <th>1</th>\n",
       "      <td>KX64629</td>\n",
       "      <td>California</td>\n",
       "      <td>2228.525238</td>\n",
       "      <td>No</td>\n",
       "      <td>Basic</td>\n",
       "      <td>College</td>\n",
       "      <td>1/18/11</td>\n",
       "      <td>Unemployed</td>\n",
       "      <td>F</td>\n",
       "      <td>0</td>\n",
       "      <td>...</td>\n",
       "      <td>0.0</td>\n",
       "      <td>1</td>\n",
       "      <td>Personal Auto</td>\n",
       "      <td>Personal L3</td>\n",
       "      <td>Offer4</td>\n",
       "      <td>Call Center</td>\n",
       "      <td>744.924331</td>\n",
       "      <td>Four-Door Car</td>\n",
       "      <td>Medsize</td>\n",
       "      <td>M</td>\n",
       "    </tr>\n",
       "  </tbody>\n",
       "</table>\n",
       "<p>2 rows × 25 columns</p>\n",
       "</div>"
      ],
      "text/plain": [
       "  customer       state  customer lifetime value response coverage education  \\\n",
       "0  DK49336     Arizona              4809.216960       No    Basic   College   \n",
       "1  KX64629  California              2228.525238       No    Basic   College   \n",
       "\n",
       "  effective to date employmentstatus gender  income  ...  \\\n",
       "0           2/18/11         Employed      M   48029  ...   \n",
       "1           1/18/11       Unemployed      F       0  ...   \n",
       "\n",
       "  number of open complaints number of policies     policy type        policy  \\\n",
       "0                       0.0                  9  Corporate Auto  Corporate L3   \n",
       "1                       0.0                  1   Personal Auto   Personal L3   \n",
       "\n",
       "   renew offer type  sales channel  total claim amount  vehicle class  \\\n",
       "0            Offer3          Agent          292.800000  Four-Door Car   \n",
       "1            Offer4    Call Center          744.924331  Four-Door Car   \n",
       "\n",
       "  vehicle size vehicle type  \n",
       "0      Medsize            M  \n",
       "1      Medsize            M  \n",
       "\n",
       "[2 rows x 25 columns]"
      ]
     },
     "metadata": {},
     "output_type": "display_data"
    },
    {
     "data": {
      "text/html": [
       "<div>\n",
       "<style scoped>\n",
       "    .dataframe tbody tr th:only-of-type {\n",
       "        vertical-align: middle;\n",
       "    }\n",
       "\n",
       "    .dataframe tbody tr th {\n",
       "        vertical-align: top;\n",
       "    }\n",
       "\n",
       "    .dataframe thead th {\n",
       "        text-align: right;\n",
       "    }\n",
       "</style>\n",
       "<table border=\"1\" class=\"dataframe\">\n",
       "  <thead>\n",
       "    <tr style=\"text-align: right;\">\n",
       "      <th></th>\n",
       "      <th>customer</th>\n",
       "      <th>state</th>\n",
       "      <th>customer lifetime value</th>\n",
       "      <th>response</th>\n",
       "      <th>coverage</th>\n",
       "      <th>education</th>\n",
       "      <th>effective to date</th>\n",
       "      <th>employmentstatus</th>\n",
       "      <th>gender</th>\n",
       "      <th>income</th>\n",
       "      <th>...</th>\n",
       "      <th>number of open complaints</th>\n",
       "      <th>number of policies</th>\n",
       "      <th>policy type</th>\n",
       "      <th>policy</th>\n",
       "      <th>renew offer type</th>\n",
       "      <th>sales channel</th>\n",
       "      <th>total claim amount</th>\n",
       "      <th>vehicle class</th>\n",
       "      <th>vehicle size</th>\n",
       "      <th>vehicle type</th>\n",
       "    </tr>\n",
       "  </thead>\n",
       "  <tbody>\n",
       "    <tr>\n",
       "      <th>0</th>\n",
       "      <td>DK49336</td>\n",
       "      <td>Arizona</td>\n",
       "      <td>4809.216960</td>\n",
       "      <td>No</td>\n",
       "      <td>Basic</td>\n",
       "      <td>College</td>\n",
       "      <td>2011-02-18</td>\n",
       "      <td>Employed</td>\n",
       "      <td>M</td>\n",
       "      <td>48029</td>\n",
       "      <td>...</td>\n",
       "      <td>0.0</td>\n",
       "      <td>9</td>\n",
       "      <td>Corporate Auto</td>\n",
       "      <td>Corporate L3</td>\n",
       "      <td>Offer3</td>\n",
       "      <td>Agent</td>\n",
       "      <td>292.800000</td>\n",
       "      <td>Four-Door Car</td>\n",
       "      <td>Medsize</td>\n",
       "      <td>M</td>\n",
       "    </tr>\n",
       "    <tr>\n",
       "      <th>1</th>\n",
       "      <td>KX64629</td>\n",
       "      <td>California</td>\n",
       "      <td>2228.525238</td>\n",
       "      <td>No</td>\n",
       "      <td>Basic</td>\n",
       "      <td>College</td>\n",
       "      <td>2011-01-18</td>\n",
       "      <td>Unemployed</td>\n",
       "      <td>F</td>\n",
       "      <td>0</td>\n",
       "      <td>...</td>\n",
       "      <td>0.0</td>\n",
       "      <td>1</td>\n",
       "      <td>Personal Auto</td>\n",
       "      <td>Personal L3</td>\n",
       "      <td>Offer4</td>\n",
       "      <td>Call Center</td>\n",
       "      <td>744.924331</td>\n",
       "      <td>Four-Door Car</td>\n",
       "      <td>Medsize</td>\n",
       "      <td>M</td>\n",
       "    </tr>\n",
       "  </tbody>\n",
       "</table>\n",
       "<p>2 rows × 25 columns</p>\n",
       "</div>"
      ],
      "text/plain": [
       "  customer       state  customer lifetime value response coverage education  \\\n",
       "0  DK49336     Arizona              4809.216960       No    Basic   College   \n",
       "1  KX64629  California              2228.525238       No    Basic   College   \n",
       "\n",
       "  effective to date employmentstatus gender  income  ...  \\\n",
       "0        2011-02-18         Employed      M   48029  ...   \n",
       "1        2011-01-18       Unemployed      F       0  ...   \n",
       "\n",
       "  number of open complaints number of policies     policy type        policy  \\\n",
       "0                       0.0                  9  Corporate Auto  Corporate L3   \n",
       "1                       0.0                  1   Personal Auto   Personal L3   \n",
       "\n",
       "   renew offer type  sales channel  total claim amount  vehicle class  \\\n",
       "0            Offer3          Agent          292.800000  Four-Door Car   \n",
       "1            Offer4    Call Center          744.924331  Four-Door Car   \n",
       "\n",
       "  vehicle size vehicle type  \n",
       "0      Medsize            M  \n",
       "1      Medsize            M  \n",
       "\n",
       "[2 rows x 25 columns]"
      ]
     },
     "metadata": {},
     "output_type": "display_data"
    }
   ],
   "source": [
    "# 1. Check out the data type\n",
    "display(marketing_data.dtypes) #We see that effective to date is an object, we need to convert into a date\n",
    "display(marketing_data.head(2))\n",
    "\n",
    "marketing_data['effective to date'] = pd.to_datetime(marketing_data['effective to date'], errors='coerce')\n",
    "# check if the values look like a date now\n",
    "display(marketing_data.head(2))"
   ]
  },
  {
   "cell_type": "code",
   "execution_count": 15,
   "id": "becdbfcc",
   "metadata": {},
   "outputs": [
    {
     "data": {
      "text/plain": [
       "customer                                 object\n",
       "state                                    object\n",
       "customer lifetime value                 float64\n",
       "response                                 object\n",
       "coverage                                 object\n",
       "education                                object\n",
       "effective to date                datetime64[ns]\n",
       "employmentstatus                         object\n",
       "gender                                   object\n",
       "income                                    int64\n",
       "location code                            object\n",
       "marital status                           object\n",
       "monthly premium auto                      int64\n",
       "months since last claim                 float64\n",
       "months since policy inception             int64\n",
       "number of open complaints               float64\n",
       "number of policies                        int64\n",
       "policy type                              object\n",
       "policy                                   object\n",
       "renew offer type                         object\n",
       "sales channel                            object\n",
       "total claim amount                      float64\n",
       "vehicle class                            object\n",
       "vehicle size                             object\n",
       "vehicle type                             object\n",
       "dtype: object"
      ]
     },
     "execution_count": 15,
     "metadata": {},
     "output_type": "execute_result"
    }
   ],
   "source": [
    "marketing_data['effective to date'].head(4)\n",
    "marketing_data.dtypes"
   ]
  },
  {
   "cell_type": "code",
   "execution_count": 16,
   "id": "2fa832cd",
   "metadata": {},
   "outputs": [
    {
     "data": {
      "text/plain": [
       "0        2\n",
       "1        1\n",
       "2        2\n",
       "3        1\n",
       "4        1\n",
       "        ..\n",
       "10905    1\n",
       "10906    1\n",
       "10907    2\n",
       "10908    2\n",
       "10909    1\n",
       "Name: effective to month, Length: 10910, dtype: int64"
      ]
     },
     "execution_count": 16,
     "metadata": {},
     "output_type": "execute_result"
    }
   ],
   "source": [
    "# 2. Create a new column 'effective to month' that stores only the months\n",
    "import datetime\n",
    "\n",
    "marketing_data['effective to month'] = pd.DatetimeIndex(marketing_data['effective to date']).month\n",
    "\n",
    "marketing_data['effective to month']"
   ]
  },
  {
   "cell_type": "code",
   "execution_count": 17,
   "id": "be5c795f",
   "metadata": {},
   "outputs": [
    {
     "data": {
      "text/plain": [
       "1    5818\n",
       "2    5092\n",
       "Name: effective to month, dtype: int64"
      ]
     },
     "execution_count": 17,
     "metadata": {},
     "output_type": "execute_result"
    }
   ],
   "source": [
    "# 3. Filter the data only for the first quarter, but first we need to convert the column into datatime\n",
    "\n",
    "#months = pd.date_range(start='01-JAN-2011', end='24-JAN-2011')\n",
    "\n",
    "marketing_data['effective to month'][marketing_data['effective to date'].map(lambda x: x.month) <= 3].value_counts()\n",
    "\n",
    "#marketing_data['effective to month'].value_counts()\n",
    "#marketing_data['effective to month'][marketing_data['effective to month'].index.month >=(marketing['effective to month'].index.date[-1].month-3)]"
   ]
  },
  {
   "cell_type": "markdown",
   "id": "db1f7dcc",
   "metadata": {},
   "source": [
    "#### Exercise 7 - Put everything into a data transformation function, put everything i cleaned into a "
   ]
  },
  {
   "cell_type": "code",
   "execution_count": 18,
   "id": "955a900f",
   "metadata": {},
   "outputs": [],
   "source": [
    "def clean_data(df):\n",
    "    \n",
    "    #standardize columns names\n",
    "    df.columns = [e.lower().replace(' ','_') for e in df.columns]\n",
    "    \n",
    "    #drop columns\n",
    "    df = df.drop(columns =['unnamed:_0'])\n",
    "    \n",
    "    #change dtype to date to datetime/ create new column 'month'\n",
    "    df['effective_to_date']=pd.to_datetime(df('effective to date'), errors = 'coerce')\n",
    "    \n",
    "    return df"
   ]
  },
  {
   "cell_type": "markdown",
   "id": "c7b58ecb",
   "metadata": {},
   "source": [
    "### Round 3\n",
    "\n",
    "1. Show the dataframe \n",
    "2. Describe Dataframe\n",
    "3. Show a plot of the total number of responses\n",
    "4. Show a plot of the response rate by the sales channel\n",
    "5. Show a plot of the response rate by the total claim amount\n",
    "6. Show a plot of the response rate by income"
   ]
  },
  {
   "cell_type": "code",
   "execution_count": 19,
   "id": "ae9c6934",
   "metadata": {},
   "outputs": [],
   "source": [
    "# Exporting this processed data to a csv\n",
    "\n",
    "marketing_data.to_csv('marketing_customer_analysis_round2.csv')"
   ]
  },
  {
   "cell_type": "markdown",
   "id": "6a878541",
   "metadata": {},
   "source": [
    "ROUND 3\n",
    "\n",
    "plot1 = yes and no diagram\n",
    "\n",
    "Create a new column called response rate put answer yes = 1 and no = 0\n",
    "- calculate the response rate, by creating a new column that gets a 1 when it is yes and a 0 when it is no\n",
    "\n",
    "plot 2 = x = sales \n",
    "plot 3 = x = total claim amount (might need to do something to those)\n",
    "plot 4 = x = income (might need to do something to those)"
   ]
  },
  {
   "cell_type": "markdown",
   "id": "e6b7e300",
   "metadata": {},
   "source": [
    "#### Exercise 1 - show the dataframe info"
   ]
  },
  {
   "cell_type": "code",
   "execution_count": 20,
   "id": "cbfc6d65",
   "metadata": {},
   "outputs": [
    {
     "data": {
      "text/html": [
       "<div>\n",
       "<style scoped>\n",
       "    .dataframe tbody tr th:only-of-type {\n",
       "        vertical-align: middle;\n",
       "    }\n",
       "\n",
       "    .dataframe tbody tr th {\n",
       "        vertical-align: top;\n",
       "    }\n",
       "\n",
       "    .dataframe thead th {\n",
       "        text-align: right;\n",
       "    }\n",
       "</style>\n",
       "<table border=\"1\" class=\"dataframe\">\n",
       "  <thead>\n",
       "    <tr style=\"text-align: right;\">\n",
       "      <th></th>\n",
       "      <th>customer</th>\n",
       "      <th>state</th>\n",
       "      <th>customer lifetime value</th>\n",
       "      <th>response</th>\n",
       "      <th>coverage</th>\n",
       "      <th>education</th>\n",
       "      <th>effective to date</th>\n",
       "      <th>employmentstatus</th>\n",
       "      <th>gender</th>\n",
       "      <th>income</th>\n",
       "      <th>...</th>\n",
       "      <th>number of policies</th>\n",
       "      <th>policy type</th>\n",
       "      <th>policy</th>\n",
       "      <th>renew offer type</th>\n",
       "      <th>sales channel</th>\n",
       "      <th>total claim amount</th>\n",
       "      <th>vehicle class</th>\n",
       "      <th>vehicle size</th>\n",
       "      <th>vehicle type</th>\n",
       "      <th>effective to month</th>\n",
       "    </tr>\n",
       "  </thead>\n",
       "  <tbody>\n",
       "    <tr>\n",
       "      <th>0</th>\n",
       "      <td>DK49336</td>\n",
       "      <td>Arizona</td>\n",
       "      <td>4809.216960</td>\n",
       "      <td>No</td>\n",
       "      <td>Basic</td>\n",
       "      <td>College</td>\n",
       "      <td>2011-02-18</td>\n",
       "      <td>Employed</td>\n",
       "      <td>M</td>\n",
       "      <td>48029</td>\n",
       "      <td>...</td>\n",
       "      <td>9</td>\n",
       "      <td>Corporate Auto</td>\n",
       "      <td>Corporate L3</td>\n",
       "      <td>Offer3</td>\n",
       "      <td>Agent</td>\n",
       "      <td>292.800000</td>\n",
       "      <td>Four-Door Car</td>\n",
       "      <td>Medsize</td>\n",
       "      <td>M</td>\n",
       "      <td>2</td>\n",
       "    </tr>\n",
       "    <tr>\n",
       "      <th>1</th>\n",
       "      <td>KX64629</td>\n",
       "      <td>California</td>\n",
       "      <td>2228.525238</td>\n",
       "      <td>No</td>\n",
       "      <td>Basic</td>\n",
       "      <td>College</td>\n",
       "      <td>2011-01-18</td>\n",
       "      <td>Unemployed</td>\n",
       "      <td>F</td>\n",
       "      <td>0</td>\n",
       "      <td>...</td>\n",
       "      <td>1</td>\n",
       "      <td>Personal Auto</td>\n",
       "      <td>Personal L3</td>\n",
       "      <td>Offer4</td>\n",
       "      <td>Call Center</td>\n",
       "      <td>744.924331</td>\n",
       "      <td>Four-Door Car</td>\n",
       "      <td>Medsize</td>\n",
       "      <td>M</td>\n",
       "      <td>1</td>\n",
       "    </tr>\n",
       "    <tr>\n",
       "      <th>2</th>\n",
       "      <td>LZ68649</td>\n",
       "      <td>Washington</td>\n",
       "      <td>14947.917300</td>\n",
       "      <td>No</td>\n",
       "      <td>Basic</td>\n",
       "      <td>Bachelor</td>\n",
       "      <td>2011-02-10</td>\n",
       "      <td>Employed</td>\n",
       "      <td>M</td>\n",
       "      <td>22139</td>\n",
       "      <td>...</td>\n",
       "      <td>2</td>\n",
       "      <td>Personal Auto</td>\n",
       "      <td>Personal L3</td>\n",
       "      <td>Offer3</td>\n",
       "      <td>Call Center</td>\n",
       "      <td>480.000000</td>\n",
       "      <td>SUV</td>\n",
       "      <td>Medsize</td>\n",
       "      <td>A</td>\n",
       "      <td>2</td>\n",
       "    </tr>\n",
       "    <tr>\n",
       "      <th>3</th>\n",
       "      <td>XL78013</td>\n",
       "      <td>Oregon</td>\n",
       "      <td>22332.439460</td>\n",
       "      <td>Yes</td>\n",
       "      <td>Extended</td>\n",
       "      <td>College</td>\n",
       "      <td>2011-01-11</td>\n",
       "      <td>Employed</td>\n",
       "      <td>M</td>\n",
       "      <td>49078</td>\n",
       "      <td>...</td>\n",
       "      <td>2</td>\n",
       "      <td>Corporate Auto</td>\n",
       "      <td>Corporate L3</td>\n",
       "      <td>Offer2</td>\n",
       "      <td>Branch</td>\n",
       "      <td>484.013411</td>\n",
       "      <td>Four-Door Car</td>\n",
       "      <td>Medsize</td>\n",
       "      <td>A</td>\n",
       "      <td>1</td>\n",
       "    </tr>\n",
       "    <tr>\n",
       "      <th>4</th>\n",
       "      <td>QA50777</td>\n",
       "      <td>Oregon</td>\n",
       "      <td>9025.067525</td>\n",
       "      <td>No</td>\n",
       "      <td>Premium</td>\n",
       "      <td>Bachelor</td>\n",
       "      <td>2011-01-17</td>\n",
       "      <td>Medical Leave</td>\n",
       "      <td>F</td>\n",
       "      <td>23675</td>\n",
       "      <td>...</td>\n",
       "      <td>7</td>\n",
       "      <td>Personal Auto</td>\n",
       "      <td>Personal L2</td>\n",
       "      <td>Offer1</td>\n",
       "      <td>Branch</td>\n",
       "      <td>707.925645</td>\n",
       "      <td>Four-Door Car</td>\n",
       "      <td>Medsize</td>\n",
       "      <td>M</td>\n",
       "      <td>1</td>\n",
       "    </tr>\n",
       "  </tbody>\n",
       "</table>\n",
       "<p>5 rows × 26 columns</p>\n",
       "</div>"
      ],
      "text/plain": [
       "  customer       state  customer lifetime value response  coverage education  \\\n",
       "0  DK49336     Arizona              4809.216960       No     Basic   College   \n",
       "1  KX64629  California              2228.525238       No     Basic   College   \n",
       "2  LZ68649  Washington             14947.917300       No     Basic  Bachelor   \n",
       "3  XL78013      Oregon             22332.439460      Yes  Extended   College   \n",
       "4  QA50777      Oregon              9025.067525       No   Premium  Bachelor   \n",
       "\n",
       "  effective to date employmentstatus gender  income  ... number of policies  \\\n",
       "0        2011-02-18         Employed      M   48029  ...                  9   \n",
       "1        2011-01-18       Unemployed      F       0  ...                  1   \n",
       "2        2011-02-10         Employed      M   22139  ...                  2   \n",
       "3        2011-01-11         Employed      M   49078  ...                  2   \n",
       "4        2011-01-17    Medical Leave      F   23675  ...                  7   \n",
       "\n",
       "      policy type        policy  renew offer type  sales channel  \\\n",
       "0  Corporate Auto  Corporate L3            Offer3          Agent   \n",
       "1   Personal Auto   Personal L3            Offer4    Call Center   \n",
       "2   Personal Auto   Personal L3            Offer3    Call Center   \n",
       "3  Corporate Auto  Corporate L3            Offer2         Branch   \n",
       "4   Personal Auto   Personal L2            Offer1         Branch   \n",
       "\n",
       "   total claim amount  vehicle class vehicle size vehicle type  \\\n",
       "0          292.800000  Four-Door Car      Medsize            M   \n",
       "1          744.924331  Four-Door Car      Medsize            M   \n",
       "2          480.000000            SUV      Medsize            A   \n",
       "3          484.013411  Four-Door Car      Medsize            A   \n",
       "4          707.925645  Four-Door Car      Medsize            M   \n",
       "\n",
       "  effective to month  \n",
       "0                  2  \n",
       "1                  1  \n",
       "2                  2  \n",
       "3                  1  \n",
       "4                  1  \n",
       "\n",
       "[5 rows x 26 columns]"
      ]
     },
     "metadata": {},
     "output_type": "display_data"
    },
    {
     "data": {
      "text/plain": [
       "(10910, 26)"
      ]
     },
     "execution_count": 20,
     "metadata": {},
     "output_type": "execute_result"
    }
   ],
   "source": [
    "import pandas as pd\n",
    "import numpy as np\n",
    "import matplotlib.pyplot as plt\n",
    "import seaborn as sns\n",
    "%matplotlib inline\n",
    "\n",
    "display(marketing_data.head())\n",
    "marketing_data.shape"
   ]
  },
  {
   "cell_type": "markdown",
   "id": "4b5af8ca",
   "metadata": {},
   "source": [
    "#### Exercise 2 - Describe the dataframe"
   ]
  },
  {
   "cell_type": "code",
   "execution_count": 21,
   "id": "fbfc6edb",
   "metadata": {},
   "outputs": [
    {
     "data": {
      "text/html": [
       "<div>\n",
       "<style scoped>\n",
       "    .dataframe tbody tr th:only-of-type {\n",
       "        vertical-align: middle;\n",
       "    }\n",
       "\n",
       "    .dataframe tbody tr th {\n",
       "        vertical-align: top;\n",
       "    }\n",
       "\n",
       "    .dataframe thead th {\n",
       "        text-align: right;\n",
       "    }\n",
       "</style>\n",
       "<table border=\"1\" class=\"dataframe\">\n",
       "  <thead>\n",
       "    <tr style=\"text-align: right;\">\n",
       "      <th></th>\n",
       "      <th>count</th>\n",
       "      <th>mean</th>\n",
       "      <th>std</th>\n",
       "      <th>min</th>\n",
       "      <th>25%</th>\n",
       "      <th>50%</th>\n",
       "      <th>75%</th>\n",
       "      <th>max</th>\n",
       "    </tr>\n",
       "  </thead>\n",
       "  <tbody>\n",
       "    <tr>\n",
       "      <th>customer lifetime value</th>\n",
       "      <td>10910.0</td>\n",
       "      <td>8018.241094</td>\n",
       "      <td>6885.081434</td>\n",
       "      <td>1898.007675</td>\n",
       "      <td>4014.453113</td>\n",
       "      <td>5771.147235</td>\n",
       "      <td>8992.779137</td>\n",
       "      <td>83325.381190</td>\n",
       "    </tr>\n",
       "    <tr>\n",
       "      <th>income</th>\n",
       "      <td>10910.0</td>\n",
       "      <td>37536.284785</td>\n",
       "      <td>30359.195670</td>\n",
       "      <td>0.000000</td>\n",
       "      <td>0.000000</td>\n",
       "      <td>33813.500000</td>\n",
       "      <td>62250.750000</td>\n",
       "      <td>99981.000000</td>\n",
       "    </tr>\n",
       "    <tr>\n",
       "      <th>monthly premium auto</th>\n",
       "      <td>10910.0</td>\n",
       "      <td>93.196059</td>\n",
       "      <td>34.442532</td>\n",
       "      <td>61.000000</td>\n",
       "      <td>68.000000</td>\n",
       "      <td>83.000000</td>\n",
       "      <td>109.000000</td>\n",
       "      <td>298.000000</td>\n",
       "    </tr>\n",
       "    <tr>\n",
       "      <th>months since last claim</th>\n",
       "      <td>10910.0</td>\n",
       "      <td>15.149071</td>\n",
       "      <td>9.783520</td>\n",
       "      <td>0.000000</td>\n",
       "      <td>7.000000</td>\n",
       "      <td>15.000000</td>\n",
       "      <td>23.000000</td>\n",
       "      <td>35.000000</td>\n",
       "    </tr>\n",
       "    <tr>\n",
       "      <th>months since policy inception</th>\n",
       "      <td>10910.0</td>\n",
       "      <td>48.091934</td>\n",
       "      <td>27.940675</td>\n",
       "      <td>0.000000</td>\n",
       "      <td>24.000000</td>\n",
       "      <td>48.000000</td>\n",
       "      <td>71.000000</td>\n",
       "      <td>99.000000</td>\n",
       "    </tr>\n",
       "    <tr>\n",
       "      <th>number of open complaints</th>\n",
       "      <td>10910.0</td>\n",
       "      <td>0.384256</td>\n",
       "      <td>0.885589</td>\n",
       "      <td>0.000000</td>\n",
       "      <td>0.000000</td>\n",
       "      <td>0.000000</td>\n",
       "      <td>0.384256</td>\n",
       "      <td>5.000000</td>\n",
       "    </tr>\n",
       "    <tr>\n",
       "      <th>number of policies</th>\n",
       "      <td>10910.0</td>\n",
       "      <td>2.979193</td>\n",
       "      <td>2.399359</td>\n",
       "      <td>1.000000</td>\n",
       "      <td>1.000000</td>\n",
       "      <td>2.000000</td>\n",
       "      <td>4.000000</td>\n",
       "      <td>9.000000</td>\n",
       "    </tr>\n",
       "    <tr>\n",
       "      <th>total claim amount</th>\n",
       "      <td>10910.0</td>\n",
       "      <td>434.888330</td>\n",
       "      <td>292.180556</td>\n",
       "      <td>0.099007</td>\n",
       "      <td>271.082527</td>\n",
       "      <td>382.564630</td>\n",
       "      <td>547.200000</td>\n",
       "      <td>2893.239678</td>\n",
       "    </tr>\n",
       "    <tr>\n",
       "      <th>effective to month</th>\n",
       "      <td>10910.0</td>\n",
       "      <td>1.466728</td>\n",
       "      <td>0.498915</td>\n",
       "      <td>1.000000</td>\n",
       "      <td>1.000000</td>\n",
       "      <td>1.000000</td>\n",
       "      <td>2.000000</td>\n",
       "      <td>2.000000</td>\n",
       "    </tr>\n",
       "  </tbody>\n",
       "</table>\n",
       "</div>"
      ],
      "text/plain": [
       "                                 count          mean           std  \\\n",
       "customer lifetime value        10910.0   8018.241094   6885.081434   \n",
       "income                         10910.0  37536.284785  30359.195670   \n",
       "monthly premium auto           10910.0     93.196059     34.442532   \n",
       "months since last claim        10910.0     15.149071      9.783520   \n",
       "months since policy inception  10910.0     48.091934     27.940675   \n",
       "number of open complaints      10910.0      0.384256      0.885589   \n",
       "number of policies             10910.0      2.979193      2.399359   \n",
       "total claim amount             10910.0    434.888330    292.180556   \n",
       "effective to month             10910.0      1.466728      0.498915   \n",
       "\n",
       "                                       min          25%           50%  \\\n",
       "customer lifetime value        1898.007675  4014.453113   5771.147235   \n",
       "income                            0.000000     0.000000  33813.500000   \n",
       "monthly premium auto             61.000000    68.000000     83.000000   \n",
       "months since last claim           0.000000     7.000000     15.000000   \n",
       "months since policy inception     0.000000    24.000000     48.000000   \n",
       "number of open complaints         0.000000     0.000000      0.000000   \n",
       "number of policies                1.000000     1.000000      2.000000   \n",
       "total claim amount                0.099007   271.082527    382.564630   \n",
       "effective to month                1.000000     1.000000      1.000000   \n",
       "\n",
       "                                        75%           max  \n",
       "customer lifetime value         8992.779137  83325.381190  \n",
       "income                         62250.750000  99981.000000  \n",
       "monthly premium auto             109.000000    298.000000  \n",
       "months since last claim           23.000000     35.000000  \n",
       "months since policy inception     71.000000     99.000000  \n",
       "number of open complaints          0.384256      5.000000  \n",
       "number of policies                 4.000000      9.000000  \n",
       "total claim amount               547.200000   2893.239678  \n",
       "effective to month                 2.000000      2.000000  "
      ]
     },
     "metadata": {},
     "output_type": "display_data"
    },
    {
     "name": "stderr",
     "output_type": "stream",
     "text": [
      "/var/folders/15/hgt62pt91txfslsjk64n8zd40000gp/T/ipykernel_40241/208329617.py:3: DeprecationWarning: `np.object` is a deprecated alias for the builtin `object`. To silence this warning, use `object` by itself. Doing this will not modify any behavior and is safe. \n",
      "Deprecated in NumPy 1.20; for more details and guidance: https://numpy.org/devdocs/release/1.20.0-notes.html#deprecations\n",
      "  display(marketing_data.describe(include=[np.object]).T)\n"
     ]
    },
    {
     "data": {
      "text/html": [
       "<div>\n",
       "<style scoped>\n",
       "    .dataframe tbody tr th:only-of-type {\n",
       "        vertical-align: middle;\n",
       "    }\n",
       "\n",
       "    .dataframe tbody tr th {\n",
       "        vertical-align: top;\n",
       "    }\n",
       "\n",
       "    .dataframe thead th {\n",
       "        text-align: right;\n",
       "    }\n",
       "</style>\n",
       "<table border=\"1\" class=\"dataframe\">\n",
       "  <thead>\n",
       "    <tr style=\"text-align: right;\">\n",
       "      <th></th>\n",
       "      <th>count</th>\n",
       "      <th>unique</th>\n",
       "      <th>top</th>\n",
       "      <th>freq</th>\n",
       "    </tr>\n",
       "  </thead>\n",
       "  <tbody>\n",
       "    <tr>\n",
       "      <th>customer</th>\n",
       "      <td>10910</td>\n",
       "      <td>9134</td>\n",
       "      <td>ID89933</td>\n",
       "      <td>7</td>\n",
       "    </tr>\n",
       "    <tr>\n",
       "      <th>state</th>\n",
       "      <td>10910</td>\n",
       "      <td>5</td>\n",
       "      <td>California</td>\n",
       "      <td>4183</td>\n",
       "    </tr>\n",
       "    <tr>\n",
       "      <th>response</th>\n",
       "      <td>10910</td>\n",
       "      <td>2</td>\n",
       "      <td>No</td>\n",
       "      <td>9444</td>\n",
       "    </tr>\n",
       "    <tr>\n",
       "      <th>coverage</th>\n",
       "      <td>10910</td>\n",
       "      <td>3</td>\n",
       "      <td>Basic</td>\n",
       "      <td>6660</td>\n",
       "    </tr>\n",
       "    <tr>\n",
       "      <th>education</th>\n",
       "      <td>10910</td>\n",
       "      <td>5</td>\n",
       "      <td>Bachelor</td>\n",
       "      <td>3272</td>\n",
       "    </tr>\n",
       "    <tr>\n",
       "      <th>employmentstatus</th>\n",
       "      <td>10910</td>\n",
       "      <td>5</td>\n",
       "      <td>Employed</td>\n",
       "      <td>6789</td>\n",
       "    </tr>\n",
       "    <tr>\n",
       "      <th>gender</th>\n",
       "      <td>10910</td>\n",
       "      <td>2</td>\n",
       "      <td>F</td>\n",
       "      <td>5573</td>\n",
       "    </tr>\n",
       "    <tr>\n",
       "      <th>location code</th>\n",
       "      <td>10910</td>\n",
       "      <td>3</td>\n",
       "      <td>Suburban</td>\n",
       "      <td>6902</td>\n",
       "    </tr>\n",
       "    <tr>\n",
       "      <th>marital status</th>\n",
       "      <td>10910</td>\n",
       "      <td>3</td>\n",
       "      <td>Married</td>\n",
       "      <td>6319</td>\n",
       "    </tr>\n",
       "    <tr>\n",
       "      <th>policy type</th>\n",
       "      <td>10910</td>\n",
       "      <td>3</td>\n",
       "      <td>Personal Auto</td>\n",
       "      <td>8128</td>\n",
       "    </tr>\n",
       "    <tr>\n",
       "      <th>policy</th>\n",
       "      <td>10910</td>\n",
       "      <td>9</td>\n",
       "      <td>Personal L3</td>\n",
       "      <td>4118</td>\n",
       "    </tr>\n",
       "    <tr>\n",
       "      <th>renew offer type</th>\n",
       "      <td>10910</td>\n",
       "      <td>4</td>\n",
       "      <td>Offer1</td>\n",
       "      <td>4483</td>\n",
       "    </tr>\n",
       "    <tr>\n",
       "      <th>sales channel</th>\n",
       "      <td>10910</td>\n",
       "      <td>4</td>\n",
       "      <td>Agent</td>\n",
       "      <td>4121</td>\n",
       "    </tr>\n",
       "    <tr>\n",
       "      <th>vehicle class</th>\n",
       "      <td>10910</td>\n",
       "      <td>6</td>\n",
       "      <td>Four-Door Car</td>\n",
       "      <td>5834</td>\n",
       "    </tr>\n",
       "    <tr>\n",
       "      <th>vehicle size</th>\n",
       "      <td>10910</td>\n",
       "      <td>3</td>\n",
       "      <td>Medsize</td>\n",
       "      <td>7873</td>\n",
       "    </tr>\n",
       "    <tr>\n",
       "      <th>vehicle type</th>\n",
       "      <td>10910</td>\n",
       "      <td>2</td>\n",
       "      <td>M</td>\n",
       "      <td>5482</td>\n",
       "    </tr>\n",
       "  </tbody>\n",
       "</table>\n",
       "</div>"
      ],
      "text/plain": [
       "                  count unique            top  freq\n",
       "customer          10910   9134        ID89933     7\n",
       "state             10910      5     California  4183\n",
       "response          10910      2             No  9444\n",
       "coverage          10910      3          Basic  6660\n",
       "education         10910      5       Bachelor  3272\n",
       "employmentstatus  10910      5       Employed  6789\n",
       "gender            10910      2              F  5573\n",
       "location code     10910      3       Suburban  6902\n",
       "marital status    10910      3        Married  6319\n",
       "policy type       10910      3  Personal Auto  8128\n",
       "policy            10910      9    Personal L3  4118\n",
       "renew offer type  10910      4         Offer1  4483\n",
       "sales channel     10910      4          Agent  4121\n",
       "vehicle class     10910      6  Four-Door Car  5834\n",
       "vehicle size      10910      3        Medsize  7873\n",
       "vehicle type      10910      2              M  5482"
      ]
     },
     "metadata": {},
     "output_type": "display_data"
    },
    {
     "name": "stdout",
     "output_type": "stream",
     "text": [
      "<class 'pandas.core.frame.DataFrame'>\n",
      "RangeIndex: 10910 entries, 0 to 10909\n",
      "Data columns (total 26 columns):\n",
      " #   Column                         Non-Null Count  Dtype         \n",
      "---  ------                         --------------  -----         \n",
      " 0   customer                       10910 non-null  object        \n",
      " 1   state                          10910 non-null  object        \n",
      " 2   customer lifetime value        10910 non-null  float64       \n",
      " 3   response                       10910 non-null  object        \n",
      " 4   coverage                       10910 non-null  object        \n",
      " 5   education                      10910 non-null  object        \n",
      " 6   effective to date              10910 non-null  datetime64[ns]\n",
      " 7   employmentstatus               10910 non-null  object        \n",
      " 8   gender                         10910 non-null  object        \n",
      " 9   income                         10910 non-null  int64         \n",
      " 10  location code                  10910 non-null  object        \n",
      " 11  marital status                 10910 non-null  object        \n",
      " 12  monthly premium auto           10910 non-null  int64         \n",
      " 13  months since last claim        10910 non-null  float64       \n",
      " 14  months since policy inception  10910 non-null  int64         \n",
      " 15  number of open complaints      10910 non-null  float64       \n",
      " 16  number of policies             10910 non-null  int64         \n",
      " 17  policy type                    10910 non-null  object        \n",
      " 18  policy                         10910 non-null  object        \n",
      " 19  renew offer type               10910 non-null  object        \n",
      " 20  sales channel                  10910 non-null  object        \n",
      " 21  total claim amount             10910 non-null  float64       \n",
      " 22  vehicle class                  10910 non-null  object        \n",
      " 23  vehicle size                   10910 non-null  object        \n",
      " 24  vehicle type                   10910 non-null  object        \n",
      " 25  effective to month             10910 non-null  int64         \n",
      "dtypes: datetime64[ns](1), float64(4), int64(5), object(16)\n",
      "memory usage: 2.2+ MB\n"
     ]
    },
    {
     "data": {
      "text/plain": [
       "None"
      ]
     },
     "metadata": {},
     "output_type": "display_data"
    }
   ],
   "source": [
    "# get a picture of the numerical variables\n",
    "display(marketing_data.describe().T) #turn the table around to get a clear picture of the dataframe\n",
    "display(marketing_data.describe(include=[np.object]).T)\n",
    "display(marketing_data.info())"
   ]
  },
  {
   "cell_type": "code",
   "execution_count": 22,
   "id": "4b7e1caa",
   "metadata": {},
   "outputs": [
    {
     "name": "stderr",
     "output_type": "stream",
     "text": [
      "/var/folders/15/hgt62pt91txfslsjk64n8zd40000gp/T/ipykernel_40241/3023195842.py:2: FutureWarning: Treating datetime data as categorical rather than numeric in `.describe` is deprecated and will be removed in a future version of pandas. Specify `datetime_is_numeric=True` to silence this warning and adopt the future behavior now.\n",
      "  display(marketing_data.describe(include='all').T)\n"
     ]
    },
    {
     "data": {
      "text/html": [
       "<div>\n",
       "<style scoped>\n",
       "    .dataframe tbody tr th:only-of-type {\n",
       "        vertical-align: middle;\n",
       "    }\n",
       "\n",
       "    .dataframe tbody tr th {\n",
       "        vertical-align: top;\n",
       "    }\n",
       "\n",
       "    .dataframe thead th {\n",
       "        text-align: right;\n",
       "    }\n",
       "</style>\n",
       "<table border=\"1\" class=\"dataframe\">\n",
       "  <thead>\n",
       "    <tr style=\"text-align: right;\">\n",
       "      <th></th>\n",
       "      <th>count</th>\n",
       "      <th>unique</th>\n",
       "      <th>top</th>\n",
       "      <th>freq</th>\n",
       "      <th>first</th>\n",
       "      <th>last</th>\n",
       "      <th>mean</th>\n",
       "      <th>std</th>\n",
       "      <th>min</th>\n",
       "      <th>25%</th>\n",
       "      <th>50%</th>\n",
       "      <th>75%</th>\n",
       "      <th>max</th>\n",
       "    </tr>\n",
       "  </thead>\n",
       "  <tbody>\n",
       "    <tr>\n",
       "      <th>customer</th>\n",
       "      <td>10910</td>\n",
       "      <td>9134</td>\n",
       "      <td>ID89933</td>\n",
       "      <td>7</td>\n",
       "      <td>NaT</td>\n",
       "      <td>NaT</td>\n",
       "      <td>NaN</td>\n",
       "      <td>NaN</td>\n",
       "      <td>NaN</td>\n",
       "      <td>NaN</td>\n",
       "      <td>NaN</td>\n",
       "      <td>NaN</td>\n",
       "      <td>NaN</td>\n",
       "    </tr>\n",
       "    <tr>\n",
       "      <th>state</th>\n",
       "      <td>10910</td>\n",
       "      <td>5</td>\n",
       "      <td>California</td>\n",
       "      <td>4183</td>\n",
       "      <td>NaT</td>\n",
       "      <td>NaT</td>\n",
       "      <td>NaN</td>\n",
       "      <td>NaN</td>\n",
       "      <td>NaN</td>\n",
       "      <td>NaN</td>\n",
       "      <td>NaN</td>\n",
       "      <td>NaN</td>\n",
       "      <td>NaN</td>\n",
       "    </tr>\n",
       "    <tr>\n",
       "      <th>customer lifetime value</th>\n",
       "      <td>10910.0</td>\n",
       "      <td>NaN</td>\n",
       "      <td>NaN</td>\n",
       "      <td>NaN</td>\n",
       "      <td>NaT</td>\n",
       "      <td>NaT</td>\n",
       "      <td>8018.241094</td>\n",
       "      <td>6885.081434</td>\n",
       "      <td>1898.007675</td>\n",
       "      <td>4014.453113</td>\n",
       "      <td>5771.147235</td>\n",
       "      <td>8992.779137</td>\n",
       "      <td>83325.38119</td>\n",
       "    </tr>\n",
       "    <tr>\n",
       "      <th>response</th>\n",
       "      <td>10910</td>\n",
       "      <td>2</td>\n",
       "      <td>No</td>\n",
       "      <td>9444</td>\n",
       "      <td>NaT</td>\n",
       "      <td>NaT</td>\n",
       "      <td>NaN</td>\n",
       "      <td>NaN</td>\n",
       "      <td>NaN</td>\n",
       "      <td>NaN</td>\n",
       "      <td>NaN</td>\n",
       "      <td>NaN</td>\n",
       "      <td>NaN</td>\n",
       "    </tr>\n",
       "    <tr>\n",
       "      <th>coverage</th>\n",
       "      <td>10910</td>\n",
       "      <td>3</td>\n",
       "      <td>Basic</td>\n",
       "      <td>6660</td>\n",
       "      <td>NaT</td>\n",
       "      <td>NaT</td>\n",
       "      <td>NaN</td>\n",
       "      <td>NaN</td>\n",
       "      <td>NaN</td>\n",
       "      <td>NaN</td>\n",
       "      <td>NaN</td>\n",
       "      <td>NaN</td>\n",
       "      <td>NaN</td>\n",
       "    </tr>\n",
       "    <tr>\n",
       "      <th>education</th>\n",
       "      <td>10910</td>\n",
       "      <td>5</td>\n",
       "      <td>Bachelor</td>\n",
       "      <td>3272</td>\n",
       "      <td>NaT</td>\n",
       "      <td>NaT</td>\n",
       "      <td>NaN</td>\n",
       "      <td>NaN</td>\n",
       "      <td>NaN</td>\n",
       "      <td>NaN</td>\n",
       "      <td>NaN</td>\n",
       "      <td>NaN</td>\n",
       "      <td>NaN</td>\n",
       "    </tr>\n",
       "    <tr>\n",
       "      <th>effective to date</th>\n",
       "      <td>10910</td>\n",
       "      <td>59</td>\n",
       "      <td>2011-01-10 00:00:00</td>\n",
       "      <td>239</td>\n",
       "      <td>2011-01-01</td>\n",
       "      <td>2011-02-28</td>\n",
       "      <td>NaN</td>\n",
       "      <td>NaN</td>\n",
       "      <td>NaN</td>\n",
       "      <td>NaN</td>\n",
       "      <td>NaN</td>\n",
       "      <td>NaN</td>\n",
       "      <td>NaN</td>\n",
       "    </tr>\n",
       "    <tr>\n",
       "      <th>employmentstatus</th>\n",
       "      <td>10910</td>\n",
       "      <td>5</td>\n",
       "      <td>Employed</td>\n",
       "      <td>6789</td>\n",
       "      <td>NaT</td>\n",
       "      <td>NaT</td>\n",
       "      <td>NaN</td>\n",
       "      <td>NaN</td>\n",
       "      <td>NaN</td>\n",
       "      <td>NaN</td>\n",
       "      <td>NaN</td>\n",
       "      <td>NaN</td>\n",
       "      <td>NaN</td>\n",
       "    </tr>\n",
       "    <tr>\n",
       "      <th>gender</th>\n",
       "      <td>10910</td>\n",
       "      <td>2</td>\n",
       "      <td>F</td>\n",
       "      <td>5573</td>\n",
       "      <td>NaT</td>\n",
       "      <td>NaT</td>\n",
       "      <td>NaN</td>\n",
       "      <td>NaN</td>\n",
       "      <td>NaN</td>\n",
       "      <td>NaN</td>\n",
       "      <td>NaN</td>\n",
       "      <td>NaN</td>\n",
       "      <td>NaN</td>\n",
       "    </tr>\n",
       "    <tr>\n",
       "      <th>income</th>\n",
       "      <td>10910.0</td>\n",
       "      <td>NaN</td>\n",
       "      <td>NaN</td>\n",
       "      <td>NaN</td>\n",
       "      <td>NaT</td>\n",
       "      <td>NaT</td>\n",
       "      <td>37536.284785</td>\n",
       "      <td>30359.19567</td>\n",
       "      <td>0.0</td>\n",
       "      <td>0.0</td>\n",
       "      <td>33813.5</td>\n",
       "      <td>62250.75</td>\n",
       "      <td>99981.0</td>\n",
       "    </tr>\n",
       "    <tr>\n",
       "      <th>location code</th>\n",
       "      <td>10910</td>\n",
       "      <td>3</td>\n",
       "      <td>Suburban</td>\n",
       "      <td>6902</td>\n",
       "      <td>NaT</td>\n",
       "      <td>NaT</td>\n",
       "      <td>NaN</td>\n",
       "      <td>NaN</td>\n",
       "      <td>NaN</td>\n",
       "      <td>NaN</td>\n",
       "      <td>NaN</td>\n",
       "      <td>NaN</td>\n",
       "      <td>NaN</td>\n",
       "    </tr>\n",
       "    <tr>\n",
       "      <th>marital status</th>\n",
       "      <td>10910</td>\n",
       "      <td>3</td>\n",
       "      <td>Married</td>\n",
       "      <td>6319</td>\n",
       "      <td>NaT</td>\n",
       "      <td>NaT</td>\n",
       "      <td>NaN</td>\n",
       "      <td>NaN</td>\n",
       "      <td>NaN</td>\n",
       "      <td>NaN</td>\n",
       "      <td>NaN</td>\n",
       "      <td>NaN</td>\n",
       "      <td>NaN</td>\n",
       "    </tr>\n",
       "    <tr>\n",
       "      <th>monthly premium auto</th>\n",
       "      <td>10910.0</td>\n",
       "      <td>NaN</td>\n",
       "      <td>NaN</td>\n",
       "      <td>NaN</td>\n",
       "      <td>NaT</td>\n",
       "      <td>NaT</td>\n",
       "      <td>93.196059</td>\n",
       "      <td>34.442532</td>\n",
       "      <td>61.0</td>\n",
       "      <td>68.0</td>\n",
       "      <td>83.0</td>\n",
       "      <td>109.0</td>\n",
       "      <td>298.0</td>\n",
       "    </tr>\n",
       "    <tr>\n",
       "      <th>months since last claim</th>\n",
       "      <td>10910.0</td>\n",
       "      <td>NaN</td>\n",
       "      <td>NaN</td>\n",
       "      <td>NaN</td>\n",
       "      <td>NaT</td>\n",
       "      <td>NaT</td>\n",
       "      <td>15.149071</td>\n",
       "      <td>9.78352</td>\n",
       "      <td>0.0</td>\n",
       "      <td>7.0</td>\n",
       "      <td>15.0</td>\n",
       "      <td>23.0</td>\n",
       "      <td>35.0</td>\n",
       "    </tr>\n",
       "    <tr>\n",
       "      <th>months since policy inception</th>\n",
       "      <td>10910.0</td>\n",
       "      <td>NaN</td>\n",
       "      <td>NaN</td>\n",
       "      <td>NaN</td>\n",
       "      <td>NaT</td>\n",
       "      <td>NaT</td>\n",
       "      <td>48.091934</td>\n",
       "      <td>27.940675</td>\n",
       "      <td>0.0</td>\n",
       "      <td>24.0</td>\n",
       "      <td>48.0</td>\n",
       "      <td>71.0</td>\n",
       "      <td>99.0</td>\n",
       "    </tr>\n",
       "    <tr>\n",
       "      <th>number of open complaints</th>\n",
       "      <td>10910.0</td>\n",
       "      <td>NaN</td>\n",
       "      <td>NaN</td>\n",
       "      <td>NaN</td>\n",
       "      <td>NaT</td>\n",
       "      <td>NaT</td>\n",
       "      <td>0.384256</td>\n",
       "      <td>0.885589</td>\n",
       "      <td>0.0</td>\n",
       "      <td>0.0</td>\n",
       "      <td>0.0</td>\n",
       "      <td>0.384256</td>\n",
       "      <td>5.0</td>\n",
       "    </tr>\n",
       "    <tr>\n",
       "      <th>number of policies</th>\n",
       "      <td>10910.0</td>\n",
       "      <td>NaN</td>\n",
       "      <td>NaN</td>\n",
       "      <td>NaN</td>\n",
       "      <td>NaT</td>\n",
       "      <td>NaT</td>\n",
       "      <td>2.979193</td>\n",
       "      <td>2.399359</td>\n",
       "      <td>1.0</td>\n",
       "      <td>1.0</td>\n",
       "      <td>2.0</td>\n",
       "      <td>4.0</td>\n",
       "      <td>9.0</td>\n",
       "    </tr>\n",
       "    <tr>\n",
       "      <th>policy type</th>\n",
       "      <td>10910</td>\n",
       "      <td>3</td>\n",
       "      <td>Personal Auto</td>\n",
       "      <td>8128</td>\n",
       "      <td>NaT</td>\n",
       "      <td>NaT</td>\n",
       "      <td>NaN</td>\n",
       "      <td>NaN</td>\n",
       "      <td>NaN</td>\n",
       "      <td>NaN</td>\n",
       "      <td>NaN</td>\n",
       "      <td>NaN</td>\n",
       "      <td>NaN</td>\n",
       "    </tr>\n",
       "    <tr>\n",
       "      <th>policy</th>\n",
       "      <td>10910</td>\n",
       "      <td>9</td>\n",
       "      <td>Personal L3</td>\n",
       "      <td>4118</td>\n",
       "      <td>NaT</td>\n",
       "      <td>NaT</td>\n",
       "      <td>NaN</td>\n",
       "      <td>NaN</td>\n",
       "      <td>NaN</td>\n",
       "      <td>NaN</td>\n",
       "      <td>NaN</td>\n",
       "      <td>NaN</td>\n",
       "      <td>NaN</td>\n",
       "    </tr>\n",
       "    <tr>\n",
       "      <th>renew offer type</th>\n",
       "      <td>10910</td>\n",
       "      <td>4</td>\n",
       "      <td>Offer1</td>\n",
       "      <td>4483</td>\n",
       "      <td>NaT</td>\n",
       "      <td>NaT</td>\n",
       "      <td>NaN</td>\n",
       "      <td>NaN</td>\n",
       "      <td>NaN</td>\n",
       "      <td>NaN</td>\n",
       "      <td>NaN</td>\n",
       "      <td>NaN</td>\n",
       "      <td>NaN</td>\n",
       "    </tr>\n",
       "    <tr>\n",
       "      <th>sales channel</th>\n",
       "      <td>10910</td>\n",
       "      <td>4</td>\n",
       "      <td>Agent</td>\n",
       "      <td>4121</td>\n",
       "      <td>NaT</td>\n",
       "      <td>NaT</td>\n",
       "      <td>NaN</td>\n",
       "      <td>NaN</td>\n",
       "      <td>NaN</td>\n",
       "      <td>NaN</td>\n",
       "      <td>NaN</td>\n",
       "      <td>NaN</td>\n",
       "      <td>NaN</td>\n",
       "    </tr>\n",
       "    <tr>\n",
       "      <th>total claim amount</th>\n",
       "      <td>10910.0</td>\n",
       "      <td>NaN</td>\n",
       "      <td>NaN</td>\n",
       "      <td>NaN</td>\n",
       "      <td>NaT</td>\n",
       "      <td>NaT</td>\n",
       "      <td>434.88833</td>\n",
       "      <td>292.180556</td>\n",
       "      <td>0.099007</td>\n",
       "      <td>271.082527</td>\n",
       "      <td>382.56463</td>\n",
       "      <td>547.2</td>\n",
       "      <td>2893.239678</td>\n",
       "    </tr>\n",
       "    <tr>\n",
       "      <th>vehicle class</th>\n",
       "      <td>10910</td>\n",
       "      <td>6</td>\n",
       "      <td>Four-Door Car</td>\n",
       "      <td>5834</td>\n",
       "      <td>NaT</td>\n",
       "      <td>NaT</td>\n",
       "      <td>NaN</td>\n",
       "      <td>NaN</td>\n",
       "      <td>NaN</td>\n",
       "      <td>NaN</td>\n",
       "      <td>NaN</td>\n",
       "      <td>NaN</td>\n",
       "      <td>NaN</td>\n",
       "    </tr>\n",
       "    <tr>\n",
       "      <th>vehicle size</th>\n",
       "      <td>10910</td>\n",
       "      <td>3</td>\n",
       "      <td>Medsize</td>\n",
       "      <td>7873</td>\n",
       "      <td>NaT</td>\n",
       "      <td>NaT</td>\n",
       "      <td>NaN</td>\n",
       "      <td>NaN</td>\n",
       "      <td>NaN</td>\n",
       "      <td>NaN</td>\n",
       "      <td>NaN</td>\n",
       "      <td>NaN</td>\n",
       "      <td>NaN</td>\n",
       "    </tr>\n",
       "    <tr>\n",
       "      <th>vehicle type</th>\n",
       "      <td>10910</td>\n",
       "      <td>2</td>\n",
       "      <td>M</td>\n",
       "      <td>5482</td>\n",
       "      <td>NaT</td>\n",
       "      <td>NaT</td>\n",
       "      <td>NaN</td>\n",
       "      <td>NaN</td>\n",
       "      <td>NaN</td>\n",
       "      <td>NaN</td>\n",
       "      <td>NaN</td>\n",
       "      <td>NaN</td>\n",
       "      <td>NaN</td>\n",
       "    </tr>\n",
       "    <tr>\n",
       "      <th>effective to month</th>\n",
       "      <td>10910.0</td>\n",
       "      <td>NaN</td>\n",
       "      <td>NaN</td>\n",
       "      <td>NaN</td>\n",
       "      <td>NaT</td>\n",
       "      <td>NaT</td>\n",
       "      <td>1.466728</td>\n",
       "      <td>0.498915</td>\n",
       "      <td>1.0</td>\n",
       "      <td>1.0</td>\n",
       "      <td>1.0</td>\n",
       "      <td>2.0</td>\n",
       "      <td>2.0</td>\n",
       "    </tr>\n",
       "  </tbody>\n",
       "</table>\n",
       "</div>"
      ],
      "text/plain": [
       "                                 count unique                  top  freq  \\\n",
       "customer                         10910   9134              ID89933     7   \n",
       "state                            10910      5           California  4183   \n",
       "customer lifetime value        10910.0    NaN                  NaN   NaN   \n",
       "response                         10910      2                   No  9444   \n",
       "coverage                         10910      3                Basic  6660   \n",
       "education                        10910      5             Bachelor  3272   \n",
       "effective to date                10910     59  2011-01-10 00:00:00   239   \n",
       "employmentstatus                 10910      5             Employed  6789   \n",
       "gender                           10910      2                    F  5573   \n",
       "income                         10910.0    NaN                  NaN   NaN   \n",
       "location code                    10910      3             Suburban  6902   \n",
       "marital status                   10910      3              Married  6319   \n",
       "monthly premium auto           10910.0    NaN                  NaN   NaN   \n",
       "months since last claim        10910.0    NaN                  NaN   NaN   \n",
       "months since policy inception  10910.0    NaN                  NaN   NaN   \n",
       "number of open complaints      10910.0    NaN                  NaN   NaN   \n",
       "number of policies             10910.0    NaN                  NaN   NaN   \n",
       "policy type                      10910      3        Personal Auto  8128   \n",
       "policy                           10910      9          Personal L3  4118   \n",
       "renew offer type                 10910      4               Offer1  4483   \n",
       "sales channel                    10910      4                Agent  4121   \n",
       "total claim amount             10910.0    NaN                  NaN   NaN   \n",
       "vehicle class                    10910      6        Four-Door Car  5834   \n",
       "vehicle size                     10910      3              Medsize  7873   \n",
       "vehicle type                     10910      2                    M  5482   \n",
       "effective to month             10910.0    NaN                  NaN   NaN   \n",
       "\n",
       "                                   first       last          mean  \\\n",
       "customer                             NaT        NaT           NaN   \n",
       "state                                NaT        NaT           NaN   \n",
       "customer lifetime value              NaT        NaT   8018.241094   \n",
       "response                             NaT        NaT           NaN   \n",
       "coverage                             NaT        NaT           NaN   \n",
       "education                            NaT        NaT           NaN   \n",
       "effective to date             2011-01-01 2011-02-28           NaN   \n",
       "employmentstatus                     NaT        NaT           NaN   \n",
       "gender                               NaT        NaT           NaN   \n",
       "income                               NaT        NaT  37536.284785   \n",
       "location code                        NaT        NaT           NaN   \n",
       "marital status                       NaT        NaT           NaN   \n",
       "monthly premium auto                 NaT        NaT     93.196059   \n",
       "months since last claim              NaT        NaT     15.149071   \n",
       "months since policy inception        NaT        NaT     48.091934   \n",
       "number of open complaints            NaT        NaT      0.384256   \n",
       "number of policies                   NaT        NaT      2.979193   \n",
       "policy type                          NaT        NaT           NaN   \n",
       "policy                               NaT        NaT           NaN   \n",
       "renew offer type                     NaT        NaT           NaN   \n",
       "sales channel                        NaT        NaT           NaN   \n",
       "total claim amount                   NaT        NaT     434.88833   \n",
       "vehicle class                        NaT        NaT           NaN   \n",
       "vehicle size                         NaT        NaT           NaN   \n",
       "vehicle type                         NaT        NaT           NaN   \n",
       "effective to month                   NaT        NaT      1.466728   \n",
       "\n",
       "                                       std          min          25%  \\\n",
       "customer                               NaN          NaN          NaN   \n",
       "state                                  NaN          NaN          NaN   \n",
       "customer lifetime value        6885.081434  1898.007675  4014.453113   \n",
       "response                               NaN          NaN          NaN   \n",
       "coverage                               NaN          NaN          NaN   \n",
       "education                              NaN          NaN          NaN   \n",
       "effective to date                      NaN          NaN          NaN   \n",
       "employmentstatus                       NaN          NaN          NaN   \n",
       "gender                                 NaN          NaN          NaN   \n",
       "income                         30359.19567          0.0          0.0   \n",
       "location code                          NaN          NaN          NaN   \n",
       "marital status                         NaN          NaN          NaN   \n",
       "monthly premium auto             34.442532         61.0         68.0   \n",
       "months since last claim            9.78352          0.0          7.0   \n",
       "months since policy inception    27.940675          0.0         24.0   \n",
       "number of open complaints         0.885589          0.0          0.0   \n",
       "number of policies                2.399359          1.0          1.0   \n",
       "policy type                            NaN          NaN          NaN   \n",
       "policy                                 NaN          NaN          NaN   \n",
       "renew offer type                       NaN          NaN          NaN   \n",
       "sales channel                          NaN          NaN          NaN   \n",
       "total claim amount              292.180556     0.099007   271.082527   \n",
       "vehicle class                          NaN          NaN          NaN   \n",
       "vehicle size                           NaN          NaN          NaN   \n",
       "vehicle type                           NaN          NaN          NaN   \n",
       "effective to month                0.498915          1.0          1.0   \n",
       "\n",
       "                                       50%          75%          max  \n",
       "customer                               NaN          NaN          NaN  \n",
       "state                                  NaN          NaN          NaN  \n",
       "customer lifetime value        5771.147235  8992.779137  83325.38119  \n",
       "response                               NaN          NaN          NaN  \n",
       "coverage                               NaN          NaN          NaN  \n",
       "education                              NaN          NaN          NaN  \n",
       "effective to date                      NaN          NaN          NaN  \n",
       "employmentstatus                       NaN          NaN          NaN  \n",
       "gender                                 NaN          NaN          NaN  \n",
       "income                             33813.5     62250.75      99981.0  \n",
       "location code                          NaN          NaN          NaN  \n",
       "marital status                         NaN          NaN          NaN  \n",
       "monthly premium auto                  83.0        109.0        298.0  \n",
       "months since last claim               15.0         23.0         35.0  \n",
       "months since policy inception         48.0         71.0         99.0  \n",
       "number of open complaints              0.0     0.384256          5.0  \n",
       "number of policies                     2.0          4.0          9.0  \n",
       "policy type                            NaN          NaN          NaN  \n",
       "policy                                 NaN          NaN          NaN  \n",
       "renew offer type                       NaN          NaN          NaN  \n",
       "sales channel                          NaN          NaN          NaN  \n",
       "total claim amount               382.56463        547.2  2893.239678  \n",
       "vehicle class                          NaN          NaN          NaN  \n",
       "vehicle size                           NaN          NaN          NaN  \n",
       "vehicle type                           NaN          NaN          NaN  \n",
       "effective to month                     1.0          2.0          2.0  "
      ]
     },
     "metadata": {},
     "output_type": "display_data"
    }
   ],
   "source": [
    "# get a picture of all the variables \n",
    "display(marketing_data.describe(include='all').T)"
   ]
  },
  {
   "cell_type": "markdown",
   "id": "293d9415",
   "metadata": {},
   "source": [
    "#### Exercise 3 - show a plot of the total number of responses"
   ]
  },
  {
   "cell_type": "code",
   "execution_count": 23,
   "id": "1f471ecd",
   "metadata": {},
   "outputs": [
    {
     "data": {
      "image/png": "[encoded data removed]",
      "text/plain": [
       "<Figure size 500x500 with 1 Axes>"
      ]
     },
     "metadata": {},
     "output_type": "display_data"
    }
   ],
   "source": [
    "sns.displot(marketing_data['response'], bins=2) #the distribution is 2 because it is either yes or no\n",
    "plt.show()"
   ]
  },
  {
   "cell_type": "markdown",
   "id": "8ff6ed0a",
   "metadata": {},
   "source": [
    "#### Exercise 4 - show a plot of the response rate by the sales channel"
   ]
  },
  {
   "cell_type": "code",
   "execution_count": 24,
   "id": "ffeac6ac",
   "metadata": {},
   "outputs": [
    {
     "data": {
      "text/plain": [
       "array([0, 1])"
      ]
     },
     "metadata": {},
     "output_type": "display_data"
    },
    {
     "data": {
      "text/plain": [
       "0    9444\n",
       "1    1466\n",
       "Name: response rate, dtype: int64"
      ]
     },
     "execution_count": 24,
     "metadata": {},
     "output_type": "execute_result"
    }
   ],
   "source": [
    "#Create a new column called response rate put answer yes = 1 and no = 0\n",
    "\n",
    "def clean_response(x):\n",
    "    if x == 'Yes':\n",
    "        return 1\n",
    "    else:\n",
    "        return 0\n",
    "    \n",
    "# Now create a new column 'response rate'\n",
    "marketing_data['response rate'] = list(map(clean_response, marketing_data['response']))\n",
    "display(marketing_data['response rate'].unique())\n",
    "\n",
    "# check dataframe\n",
    "marketing_data['response rate'].value_counts()"
   ]
  },
  {
   "cell_type": "code",
   "execution_count": 25,
   "id": "a297aeab",
   "metadata": {},
   "outputs": [
    {
     "data": {
      "text/plain": [
       "array(['Agent', 'Call Center', 'Branch', 'Web'], dtype=object)"
      ]
     },
     "execution_count": 25,
     "metadata": {},
     "output_type": "execute_result"
    }
   ],
   "source": [
    "# x = sales channel and y = response rate\n",
    "marketing_data['sales channel'].unique()"
   ]
  },
  {
   "cell_type": "code",
   "execution_count": 26,
   "id": "f1da95e9",
   "metadata": {},
   "outputs": [
    {
     "data": {
      "text/plain": [
       "<AxesSubplot:xlabel='sales channel', ylabel='response rate'>"
      ]
     },
     "execution_count": 26,
     "metadata": {},
     "output_type": "execute_result"
    },
    {
     "data": {
      "image/png": "[encoded data removed]",
      "text/plain": [
       "<Figure size 640x480 with 1 Axes>"
      ]
     },
     "metadata": {},
     "output_type": "display_data"
    }
   ],
   "source": [
    "sns.barplot(x= \"sales channel\", y=\"response rate\", data =marketing_data)\n",
    "\n",
    "#here I see what percentage of the responses is a Yes"
   ]
  },
  {
   "cell_type": "code",
   "execution_count": 27,
   "id": "a3c246ab",
   "metadata": {},
   "outputs": [
    {
     "data": {
      "text/plain": [
       "<AxesSubplot:xlabel='sales channel', ylabel='count'>"
      ]
     },
     "execution_count": 27,
     "metadata": {},
     "output_type": "execute_result"
    },
    {
     "data": {
      "image/png": "[encoded data removed]",
      "text/plain": [
       "<Figure size 640x480 with 1 Axes>"
      ]
     },
     "metadata": {},
     "output_type": "display_data"
    }
   ],
   "source": [
    "sns.countplot(data=marketing_data, x =\"sales channel\", hue=\"response rate\")\n",
    "\n",
    "# 0 = no and 1 = yes"
   ]
  },
  {
   "cell_type": "code",
   "execution_count": 28,
   "id": "ec77ea68",
   "metadata": {},
   "outputs": [
    {
     "data": {
      "image/png": "[encoded data removed]",
      "text/plain": [
       "<Figure size 606.736x500 with 1 Axes>"
      ]
     },
     "metadata": {},
     "output_type": "display_data"
    }
   ],
   "source": [
    "sales_response = sns.displot(data=marketing_data, x =\"sales channel\", hue=\"response rate\", multiple=\"stack\")\n"
   ]
  },
  {
   "cell_type": "markdown",
   "id": "65a8e690",
   "metadata": {},
   "source": [
    "#### Exercise 5 - show a plot of the response rate by the total claim amount"
   ]
  },
  {
   "cell_type": "code",
   "execution_count": 29,
   "id": "d24d5c97",
   "metadata": {},
   "outputs": [
    {
     "data": {
      "text/plain": [
       "count    10910.000000\n",
       "mean       434.888330\n",
       "std        292.180556\n",
       "min          0.099007\n",
       "25%        271.082527\n",
       "50%        382.564630\n",
       "75%        547.200000\n",
       "max       2893.239678\n",
       "Name: total claim amount, dtype: float64"
      ]
     },
     "metadata": {},
     "output_type": "display_data"
    }
   ],
   "source": [
    "display(marketing_data['total claim amount'].describe().T)"
   ]
  },
  {
   "cell_type": "code",
   "execution_count": 30,
   "id": "e5f3ba7c",
   "metadata": {},
   "outputs": [
    {
     "data": {
      "image/png": "[encoded data removed]",
      "text/plain": [
       "<Figure size 500x500 with 1 Axes>"
      ]
     },
     "metadata": {},
     "output_type": "display_data"
    },
    {
     "data": {
      "image/png": "[encoded data removed]",
      "text/plain": [
       "<Figure size 606.736x500 with 1 Axes>"
      ]
     },
     "metadata": {},
     "output_type": "display_data"
    }
   ],
   "source": [
    "# It would make sense to look at the data in a boxplot and see the outliers depending on the quartiles\n",
    "\n",
    "#We need to do something with the total claim amount\n",
    "# I would group the total claims in the different quartiles\n",
    "#sns.boxplot(data=marketing_data, x=\"total claim amount\", y = \"response rate\", hue =\"response rate\")\n",
    "# bin my claimns\n",
    "sns.displot(data=marketing_data['total claim amount'], bins = 4)\n",
    "tcm_response = sns.displot(data=marketing_data, x =\"total claim amount\", hue=\"response rate\", multiple=\"stack\", bins=8)"
   ]
  },
  {
   "cell_type": "markdown",
   "id": "746ee451",
   "metadata": {},
   "source": [
    "#### Exercise 6 - Plot the response rate by income"
   ]
  },
  {
   "cell_type": "code",
   "execution_count": 31,
   "id": "f556f6ee",
   "metadata": {},
   "outputs": [
    {
     "data": {
      "text/plain": [
       "count    10910.000000\n",
       "mean     37536.284785\n",
       "std      30359.195670\n",
       "min          0.000000\n",
       "25%          0.000000\n",
       "50%      33813.500000\n",
       "75%      62250.750000\n",
       "max      99981.000000\n",
       "Name: income, dtype: float64"
      ]
     },
     "metadata": {},
     "output_type": "display_data"
    },
    {
     "data": {
      "image/png": "[encoded data removed]",
      "text/plain": [
       "<Figure size 606.736x500 with 1 Axes>"
      ]
     },
     "metadata": {},
     "output_type": "display_data"
    }
   ],
   "source": [
    "display(marketing_data['income'].describe().T)\n",
    "inc_response = sns.displot(data=marketing_data, x =\"income\", hue=\"response rate\", multiple=\"stack\", bins=5)"
   ]
  },
  {
   "cell_type": "code",
   "execution_count": 32,
   "id": "e19e2a99",
   "metadata": {},
   "outputs": [],
   "source": [
    "# HOW TO BIN IN GROUPS\n",
    "#data2['bins_incomes'] = pd.qcut(data2['income'], q=10, duplicates ='drop'"
   ]
  },
  {
   "cell_type": "markdown",
   "id": "f7b3e18e",
   "metadata": {},
   "source": [
    "### Round 4\n",
    "\n",
    "1. Check the data types of the columns - get the numeric data into a dataframe called numerical and categorical into categorical\n",
    "2. Check normality of the numerical variables\n",
    "a. Use SNS for distribution plots\n",
    "b. Use matplotlib for histograms\n",
    "c. Do the variables look like normal distributions?\n",
    "3. Check for multicollinearity\n",
    "4. Drop features if needed"
   ]
  },
  {
   "cell_type": "markdown",
   "id": "3dab022d",
   "metadata": {},
   "source": [
    "ROUND 4\n",
    "\n",
    "1. \n",
    "2. seaborn to plot distribution plots - you can use a for loop for that\n",
    "    for i in numerical:\n",
    "        sns.distplot(marketing_data[['i']])\n",
    "        plt.boxplot(marketing_data[['i']])\n",
    "    Do histograms\n",
    "    - Do they appear to be normally distributed? \n",
    "3. Check for multicolinerarity\n",
    "    - Consider total_claim_amount\n",
    "4. Drop one if necessary\n",
    "\n",
    "ROUND 5\n",
    "\n",
    "1. Create X, y, X_num and Y_num - y = total claim amount\n",
    "2. Use option 1 normalize"
   ]
  },
  {
   "cell_type": "code",
   "execution_count": 33,
   "id": "98cdab82",
   "metadata": {},
   "outputs": [],
   "source": [
    "# All the needed libraries are imported"
   ]
  },
  {
   "cell_type": "markdown",
   "id": "38e09f22",
   "metadata": {},
   "source": [
    "#### Exercise 1 - Check the data for .dtypes and save numerical columns under numerical and categorical columns in categorical"
   ]
  },
  {
   "cell_type": "code",
   "execution_count": 34,
   "id": "f05a1583",
   "metadata": {},
   "outputs": [
    {
     "data": {
      "text/plain": [
       "customer                                 object\n",
       "state                                    object\n",
       "customer lifetime value                 float64\n",
       "response                                 object\n",
       "coverage                                 object\n",
       "education                                object\n",
       "effective to date                datetime64[ns]\n",
       "employmentstatus                         object\n",
       "gender                                   object\n",
       "income                                    int64\n",
       "location code                            object\n",
       "marital status                           object\n",
       "monthly premium auto                      int64\n",
       "months since last claim                 float64\n",
       "months since policy inception             int64\n",
       "number of open complaints               float64\n",
       "number of policies                        int64\n",
       "policy type                              object\n",
       "policy                                   object\n",
       "renew offer type                         object\n",
       "sales channel                            object\n",
       "total claim amount                      float64\n",
       "vehicle class                            object\n",
       "vehicle size                             object\n",
       "vehicle type                             object\n",
       "effective to month                        int64\n",
       "response rate                             int64\n",
       "dtype: object"
      ]
     },
     "metadata": {},
     "output_type": "display_data"
    },
    {
     "name": "stdout",
     "output_type": "stream",
     "text": [
      "       customer lifetime value  income  monthly premium auto  \\\n",
      "0                  4809.216960   48029                    61   \n",
      "1                  2228.525238       0                    64   \n",
      "2                 14947.917300   22139                   100   \n",
      "3                 22332.439460   49078                    97   \n",
      "4                  9025.067525   23675                   117   \n",
      "...                        ...     ...                   ...   \n",
      "10905             15563.369440       0                   253   \n",
      "10906              5259.444853   61146                    65   \n",
      "10907             23893.304100   39837                   201   \n",
      "10908             11971.977650   64195                   158   \n",
      "10909              6857.519928       0                   101   \n",
      "\n",
      "       months since last claim  months since policy inception  \\\n",
      "0                     7.000000                             52   \n",
      "1                     3.000000                             26   \n",
      "2                    34.000000                             31   \n",
      "3                    10.000000                              3   \n",
      "4                    15.149071                             31   \n",
      "...                        ...                            ...   \n",
      "10905                15.149071                             40   \n",
      "10906                 7.000000                             68   \n",
      "10907                11.000000                             63   \n",
      "10908                 0.000000                             27   \n",
      "10909                31.000000                              1   \n",
      "\n",
      "       number of open complaints  number of policies  total claim amount  \\\n",
      "0                       0.000000                   9          292.800000   \n",
      "1                       0.000000                   1          744.924331   \n",
      "2                       0.000000                   2          480.000000   \n",
      "3                       0.000000                   2          484.013411   \n",
      "4                       0.384256                   7          707.925645   \n",
      "...                          ...                 ...                 ...   \n",
      "10905                   0.384256                   7         1214.400000   \n",
      "10906                   0.000000                   6          273.018929   \n",
      "10907                   0.000000                   2          381.306996   \n",
      "10908                   4.000000                   6          618.288849   \n",
      "10909                   0.000000                   3         1021.719397   \n",
      "\n",
      "       effective to month  response rate  \n",
      "0                       2              0  \n",
      "1                       1              0  \n",
      "2                       2              0  \n",
      "3                       1              1  \n",
      "4                       1              0  \n",
      "...                   ...            ...  \n",
      "10905                   1              0  \n",
      "10906                   1              0  \n",
      "10907                   2              0  \n",
      "10908                   2              0  \n",
      "10909                   1              0  \n",
      "\n",
      "[10910 rows x 10 columns]\n",
      "      customer       state response  coverage education employmentstatus  \\\n",
      "0      DK49336     Arizona       No     Basic   College         Employed   \n",
      "1      KX64629  California       No     Basic   College       Unemployed   \n",
      "2      LZ68649  Washington       No     Basic  Bachelor         Employed   \n",
      "3      XL78013      Oregon      Yes  Extended   College         Employed   \n",
      "4      QA50777      Oregon       No   Premium  Bachelor    Medical Leave   \n",
      "...        ...         ...      ...       ...       ...              ...   \n",
      "10905  FE99816      Nevada       No   Premium  Bachelor       Unemployed   \n",
      "10906  KX53892      Oregon       No     Basic   College         Employed   \n",
      "10907  TL39050     Arizona       No  Extended  Bachelor         Employed   \n",
      "10908  WA60547  California       No   Premium   College         Employed   \n",
      "10909  IV32877  California       No     Basic  Bachelor       Unemployed   \n",
      "\n",
      "      gender location code marital status     policy type        policy  \\\n",
      "0          M      Suburban        Married  Corporate Auto  Corporate L3   \n",
      "1          F      Suburban         Single   Personal Auto   Personal L3   \n",
      "2          M      Suburban         Single   Personal Auto   Personal L3   \n",
      "3          M      Suburban         Single  Corporate Auto  Corporate L3   \n",
      "4          F      Suburban        Married   Personal Auto   Personal L2   \n",
      "...      ...           ...            ...             ...           ...   \n",
      "10905      F      Suburban        Married   Personal Auto   Personal L1   \n",
      "10906      F         Urban        Married   Personal Auto   Personal L3   \n",
      "10907      F         Rural        Married  Corporate Auto  Corporate L3   \n",
      "10908      F         Urban       Divorced   Personal Auto   Personal L1   \n",
      "10909      M      Suburban         Single   Personal Auto   Personal L1   \n",
      "\n",
      "      renew offer type sales channel  vehicle class vehicle size vehicle type  \n",
      "0               Offer3         Agent  Four-Door Car      Medsize            M  \n",
      "1               Offer4   Call Center  Four-Door Car      Medsize            M  \n",
      "2               Offer3   Call Center            SUV      Medsize            A  \n",
      "3               Offer2        Branch  Four-Door Car      Medsize            A  \n",
      "4               Offer1        Branch  Four-Door Car      Medsize            M  \n",
      "...                ...           ...            ...          ...          ...  \n",
      "10905           Offer3           Web     Luxury Car      Medsize            A  \n",
      "10906           Offer2        Branch  Four-Door Car      Medsize            A  \n",
      "10907           Offer1           Web     Luxury SUV      Medsize            M  \n",
      "10908           Offer1        Branch            SUV      Medsize            A  \n",
      "10909           Offer4           Web            SUV      Medsize            M  \n",
      "\n",
      "[10910 rows x 16 columns]\n"
     ]
    },
    {
     "name": "stderr",
     "output_type": "stream",
     "text": [
      "/var/folders/15/hgt62pt91txfslsjk64n8zd40000gp/T/ipykernel_40241/851852776.py:6: DeprecationWarning: `np.object` is a deprecated alias for the builtin `object`. To silence this warning, use `object` by itself. Doing this will not modify any behavior and is safe. \n",
      "Deprecated in NumPy 1.20; for more details and guidance: https://numpy.org/devdocs/release/1.20.0-notes.html#deprecations\n",
      "  categorical=marketing_data.select_dtypes(include= np.object)\n"
     ]
    }
   ],
   "source": [
    "display(marketing_data.dtypes)\n",
    "\n",
    "numerical=marketing_data.select_dtypes(include= np.number)\n",
    "print(numerical)\n",
    "\n",
    "categorical=marketing_data.select_dtypes(include= np.object)\n",
    "print(categorical)"
   ]
  },
  {
   "cell_type": "markdown",
   "id": "466b7e38",
   "metadata": {},
   "source": [
    "#### Exercise 2 - Check the normality of numercial variables using seaborn and matplotlib"
   ]
  },
  {
   "cell_type": "code",
   "execution_count": 35,
   "id": "e4bc6784",
   "metadata": {},
   "outputs": [
    {
     "data": {
      "image/png": "[encoded data removed]",
      "text/plain": [
       "<Figure size 500x500 with 1 Axes>"
      ]
     },
     "metadata": {},
     "output_type": "display_data"
    },
    {
     "data": {
      "image/png": "[encoded data removed]",
      "text/plain": [
       "<Figure size 500x500 with 1 Axes>"
      ]
     },
     "metadata": {},
     "output_type": "display_data"
    },
    {
     "data": {
      "image/png": "[encoded data removed]",
      "text/plain": [
       "<Figure size 500x500 with 1 Axes>"
      ]
     },
     "metadata": {},
     "output_type": "display_data"
    },
    {
     "data": {
      "image/png": "[encoded data removed]",
      "text/plain": [
       "<Figure size 500x500 with 1 Axes>"
      ]
     },
     "metadata": {},
     "output_type": "display_data"
    },
    {
     "data": {
      "image/png": "[encoded data removed]",
      "text/plain": [
       "<Figure size 500x500 with 1 Axes>"
      ]
     },
     "metadata": {},
     "output_type": "display_data"
    },
    {
     "data": {
      "image/png": "[encoded data removed]",
      "text/plain": [
       "<Figure size 500x500 with 1 Axes>"
      ]
     },
     "metadata": {},
     "output_type": "display_data"
    },
    {
     "data": {
      "image/png": "[encoded data removed]",
      "text/plain": [
       "<Figure size 500x500 with 1 Axes>"
      ]
     },
     "metadata": {},
     "output_type": "display_data"
    },
    {
     "data": {
      "image/png": "[encoded data removed]",
      "text/plain": [
       "<Figure size 500x500 with 1 Axes>"
      ]
     },
     "metadata": {},
     "output_type": "display_data"
    },
    {
     "data": {
      "image/png": "[encoded data removed]",
      "text/plain": [
       "<Figure size 500x500 with 1 Axes>"
      ]
     },
     "metadata": {},
     "output_type": "display_data"
    },
    {
     "data": {
      "image/png": "[encoded data removed]",
      "text/plain": [
       "<Figure size 500x500 with 1 Axes>"
      ]
     },
     "metadata": {},
     "output_type": "display_data"
    }
   ],
   "source": [
    "## Exercise 2a - Use SNS to plot distribution plots\n",
    "\n",
    "for i in numerical:\n",
    "    sns.displot(marketing_data[i])\n",
    "    plt.show()"
   ]
  },
  {
   "cell_type": "code",
   "execution_count": 36,
   "id": "7d4db5a3",
   "metadata": {},
   "outputs": [
    {
     "data": {
      "image/png": "[encoded data removed]",
      "text/plain": [
       "<Figure size 640x480 with 1 Axes>"
      ]
     },
     "metadata": {},
     "output_type": "display_data"
    },
    {
     "data": {
      "image/png": "[encoded data removed]",
      "text/plain": [
       "<Figure size 640x480 with 1 Axes>"
      ]
     },
     "metadata": {},
     "output_type": "display_data"
    },
    {
     "data": {
      "image/png": "[encoded data removed]",
      "text/plain": [
       "<Figure size 640x480 with 1 Axes>"
      ]
     },
     "metadata": {},
     "output_type": "display_data"
    },
    {
     "data": {
      "image/png": "[encoded data removed]",
      "text/plain": [
       "<Figure size 640x480 with 1 Axes>"
      ]
     },
     "metadata": {},
     "output_type": "display_data"
    },
    {
     "data": {
      "image/png": "[encoded data removed]",
      "text/plain": [
       "<Figure size 640x480 with 1 Axes>"
      ]
     },
     "metadata": {},
     "output_type": "display_data"
    },
    {
     "data": {
      "image/png": "[encoded data removed]",
      "text/plain": [
       "<Figure size 640x480 with 1 Axes>"
      ]
     },
     "metadata": {},
     "output_type": "display_data"
    },
    {
     "data": {
      "image/png": "[encoded data removed]",
      "text/plain": [
       "<Figure size 640x480 with 1 Axes>"
      ]
     },
     "metadata": {},
     "output_type": "display_data"
    },
    {
     "data": {
      "image/png": "[encoded data removed]",
      "text/plain": [
       "<Figure size 640x480 with 1 Axes>"
      ]
     },
     "metadata": {},
     "output_type": "display_data"
    },
    {
     "data": {
      "image/png": "[encoded data removed]",
      "text/plain": [
       "<Figure size 640x480 with 1 Axes>"
      ]
     },
     "metadata": {},
     "output_type": "display_data"
    },
    {
     "data": {
      "image/png": "[encoded data removed]",
      "text/plain": [
       "<Figure size 640x480 with 1 Axes>"
      ]
     },
     "metadata": {},
     "output_type": "display_data"
    }
   ],
   "source": [
    "## Exercise 2b - Use PLT to plot histograms plots\n",
    "\n",
    "for i in numerical:\n",
    "    plt.hist(marketing_data[i])\n",
    "    plt.ylabel('Count')\n",
    "    plt.xlabel(i)\n",
    "    plt.show()\n",
    "    "
   ]
  },
  {
   "cell_type": "markdown",
   "id": "c116f7d7",
   "metadata": {},
   "source": [
    "##Exercise 2c - Do they appear to be normally distributed?\n",
    "\n",
    "The following columns seem to be normally distributed:\n",
    "\n",
    "    1. Months since last claim\n",
    "    2. Number since policy inception\n",
    "    3. Effective to month\n",
    "    4. If we take out the outlier in income, we can consider this as normally distributed"
   ]
  },
  {
   "cell_type": "markdown",
   "id": "84fe8163",
   "metadata": {},
   "source": [
    "#### Exercise 3 - Check for multicollinerarity"
   ]
  },
  {
   "cell_type": "code",
   "execution_count": 37,
   "id": "8a7f66c2",
   "metadata": {},
   "outputs": [
    {
     "data": {
      "text/html": [
       "<div>\n",
       "<style scoped>\n",
       "    .dataframe tbody tr th:only-of-type {\n",
       "        vertical-align: middle;\n",
       "    }\n",
       "\n",
       "    .dataframe tbody tr th {\n",
       "        vertical-align: top;\n",
       "    }\n",
       "\n",
       "    .dataframe thead th {\n",
       "        text-align: right;\n",
       "    }\n",
       "</style>\n",
       "<table border=\"1\" class=\"dataframe\">\n",
       "  <thead>\n",
       "    <tr style=\"text-align: right;\">\n",
       "      <th></th>\n",
       "      <th>customer lifetime value</th>\n",
       "      <th>income</th>\n",
       "      <th>monthly premium auto</th>\n",
       "      <th>months since last claim</th>\n",
       "      <th>months since policy inception</th>\n",
       "      <th>number of open complaints</th>\n",
       "      <th>number of policies</th>\n",
       "      <th>total claim amount</th>\n",
       "      <th>effective to month</th>\n",
       "      <th>response rate</th>\n",
       "    </tr>\n",
       "  </thead>\n",
       "  <tbody>\n",
       "    <tr>\n",
       "      <th>customer lifetime value</th>\n",
       "      <td>1.00</td>\n",
       "      <td>0.03</td>\n",
       "      <td>0.40</td>\n",
       "      <td>0.02</td>\n",
       "      <td>0.02</td>\n",
       "      <td>-0.03</td>\n",
       "      <td>0.02</td>\n",
       "      <td>0.23</td>\n",
       "      <td>-0.01</td>\n",
       "      <td>-0.01</td>\n",
       "    </tr>\n",
       "    <tr>\n",
       "      <th>income</th>\n",
       "      <td>0.03</td>\n",
       "      <td>1.00</td>\n",
       "      <td>-0.01</td>\n",
       "      <td>-0.02</td>\n",
       "      <td>-0.01</td>\n",
       "      <td>0.01</td>\n",
       "      <td>-0.01</td>\n",
       "      <td>-0.35</td>\n",
       "      <td>-0.00</td>\n",
       "      <td>0.01</td>\n",
       "    </tr>\n",
       "    <tr>\n",
       "      <th>monthly premium auto</th>\n",
       "      <td>0.40</td>\n",
       "      <td>-0.01</td>\n",
       "      <td>1.00</td>\n",
       "      <td>0.01</td>\n",
       "      <td>0.02</td>\n",
       "      <td>-0.01</td>\n",
       "      <td>-0.02</td>\n",
       "      <td>0.63</td>\n",
       "      <td>0.01</td>\n",
       "      <td>0.01</td>\n",
       "    </tr>\n",
       "    <tr>\n",
       "      <th>months since last claim</th>\n",
       "      <td>0.02</td>\n",
       "      <td>-0.02</td>\n",
       "      <td>0.01</td>\n",
       "      <td>1.00</td>\n",
       "      <td>-0.04</td>\n",
       "      <td>0.00</td>\n",
       "      <td>0.01</td>\n",
       "      <td>0.01</td>\n",
       "      <td>-0.02</td>\n",
       "      <td>-0.02</td>\n",
       "    </tr>\n",
       "    <tr>\n",
       "      <th>months since policy inception</th>\n",
       "      <td>0.02</td>\n",
       "      <td>-0.01</td>\n",
       "      <td>0.02</td>\n",
       "      <td>-0.04</td>\n",
       "      <td>1.00</td>\n",
       "      <td>0.00</td>\n",
       "      <td>-0.01</td>\n",
       "      <td>0.00</td>\n",
       "      <td>0.02</td>\n",
       "      <td>-0.00</td>\n",
       "    </tr>\n",
       "    <tr>\n",
       "      <th>number of open complaints</th>\n",
       "      <td>-0.03</td>\n",
       "      <td>0.01</td>\n",
       "      <td>-0.01</td>\n",
       "      <td>0.00</td>\n",
       "      <td>0.00</td>\n",
       "      <td>1.00</td>\n",
       "      <td>0.00</td>\n",
       "      <td>-0.01</td>\n",
       "      <td>-0.00</td>\n",
       "      <td>-0.01</td>\n",
       "    </tr>\n",
       "    <tr>\n",
       "      <th>number of policies</th>\n",
       "      <td>0.02</td>\n",
       "      <td>-0.01</td>\n",
       "      <td>-0.02</td>\n",
       "      <td>0.01</td>\n",
       "      <td>-0.01</td>\n",
       "      <td>0.00</td>\n",
       "      <td>1.00</td>\n",
       "      <td>-0.01</td>\n",
       "      <td>0.01</td>\n",
       "      <td>-0.02</td>\n",
       "    </tr>\n",
       "    <tr>\n",
       "      <th>total claim amount</th>\n",
       "      <td>0.23</td>\n",
       "      <td>-0.35</td>\n",
       "      <td>0.63</td>\n",
       "      <td>0.01</td>\n",
       "      <td>0.00</td>\n",
       "      <td>-0.01</td>\n",
       "      <td>-0.01</td>\n",
       "      <td>1.00</td>\n",
       "      <td>0.00</td>\n",
       "      <td>0.02</td>\n",
       "    </tr>\n",
       "    <tr>\n",
       "      <th>effective to month</th>\n",
       "      <td>-0.01</td>\n",
       "      <td>-0.00</td>\n",
       "      <td>0.01</td>\n",
       "      <td>-0.02</td>\n",
       "      <td>0.02</td>\n",
       "      <td>-0.00</td>\n",
       "      <td>0.01</td>\n",
       "      <td>0.00</td>\n",
       "      <td>1.00</td>\n",
       "      <td>-0.03</td>\n",
       "    </tr>\n",
       "    <tr>\n",
       "      <th>response rate</th>\n",
       "      <td>-0.01</td>\n",
       "      <td>0.01</td>\n",
       "      <td>0.01</td>\n",
       "      <td>-0.02</td>\n",
       "      <td>-0.00</td>\n",
       "      <td>-0.01</td>\n",
       "      <td>-0.02</td>\n",
       "      <td>0.02</td>\n",
       "      <td>-0.03</td>\n",
       "      <td>1.00</td>\n",
       "    </tr>\n",
       "  </tbody>\n",
       "</table>\n",
       "</div>"
      ],
      "text/plain": [
       "                               customer lifetime value  income  \\\n",
       "customer lifetime value                           1.00    0.03   \n",
       "income                                            0.03    1.00   \n",
       "monthly premium auto                              0.40   -0.01   \n",
       "months since last claim                           0.02   -0.02   \n",
       "months since policy inception                     0.02   -0.01   \n",
       "number of open complaints                        -0.03    0.01   \n",
       "number of policies                                0.02   -0.01   \n",
       "total claim amount                                0.23   -0.35   \n",
       "effective to month                               -0.01   -0.00   \n",
       "response rate                                    -0.01    0.01   \n",
       "\n",
       "                               monthly premium auto  months since last claim  \\\n",
       "customer lifetime value                        0.40                     0.02   \n",
       "income                                        -0.01                    -0.02   \n",
       "monthly premium auto                           1.00                     0.01   \n",
       "months since last claim                        0.01                     1.00   \n",
       "months since policy inception                  0.02                    -0.04   \n",
       "number of open complaints                     -0.01                     0.00   \n",
       "number of policies                            -0.02                     0.01   \n",
       "total claim amount                             0.63                     0.01   \n",
       "effective to month                             0.01                    -0.02   \n",
       "response rate                                  0.01                    -0.02   \n",
       "\n",
       "                               months since policy inception  \\\n",
       "customer lifetime value                                 0.02   \n",
       "income                                                 -0.01   \n",
       "monthly premium auto                                    0.02   \n",
       "months since last claim                                -0.04   \n",
       "months since policy inception                           1.00   \n",
       "number of open complaints                               0.00   \n",
       "number of policies                                     -0.01   \n",
       "total claim amount                                      0.00   \n",
       "effective to month                                      0.02   \n",
       "response rate                                          -0.00   \n",
       "\n",
       "                               number of open complaints  number of policies  \\\n",
       "customer lifetime value                            -0.03                0.02   \n",
       "income                                              0.01               -0.01   \n",
       "monthly premium auto                               -0.01               -0.02   \n",
       "months since last claim                             0.00                0.01   \n",
       "months since policy inception                       0.00               -0.01   \n",
       "number of open complaints                           1.00                0.00   \n",
       "number of policies                                  0.00                1.00   \n",
       "total claim amount                                 -0.01               -0.01   \n",
       "effective to month                                 -0.00                0.01   \n",
       "response rate                                      -0.01               -0.02   \n",
       "\n",
       "                               total claim amount  effective to month  \\\n",
       "customer lifetime value                      0.23               -0.01   \n",
       "income                                      -0.35               -0.00   \n",
       "monthly premium auto                         0.63                0.01   \n",
       "months since last claim                      0.01               -0.02   \n",
       "months since policy inception                0.00                0.02   \n",
       "number of open complaints                   -0.01               -0.00   \n",
       "number of policies                          -0.01                0.01   \n",
       "total claim amount                           1.00                0.00   \n",
       "effective to month                           0.00                1.00   \n",
       "response rate                                0.02               -0.03   \n",
       "\n",
       "                               response rate  \n",
       "customer lifetime value                -0.01  \n",
       "income                                  0.01  \n",
       "monthly premium auto                    0.01  \n",
       "months since last claim                -0.02  \n",
       "months since policy inception          -0.00  \n",
       "number of open complaints              -0.01  \n",
       "number of policies                     -0.02  \n",
       "total claim amount                      0.02  \n",
       "effective to month                     -0.03  \n",
       "response rate                           1.00  "
      ]
     },
     "metadata": {},
     "output_type": "display_data"
    }
   ],
   "source": [
    "# First let's do a correlation matrix\n",
    "correlations_matrix = marketing_data.corr()\n",
    "correlations_matrix = correlations_matrix.round(2)\n",
    "display(correlations_matrix)"
   ]
  },
  {
   "cell_type": "code",
   "execution_count": 38,
   "id": "c1bde7ab",
   "metadata": {},
   "outputs": [
    {
     "data": {
      "image/png": "[encoded data removed]",
      "text/plain": [
       "<Figure size 640x480 with 2 Axes>"
      ]
     },
     "metadata": {},
     "output_type": "display_data"
    }
   ],
   "source": [
    "corr_heatmap = sns.heatmap(correlations_matrix, annot=True)\n",
    "plt.show()\n",
    "\n",
    "#We notice that the features that have a higher correlation are monthly premium auto and total claim amount."
   ]
  },
  {
   "cell_type": "markdown",
   "id": "3d5cd4aa",
   "metadata": {},
   "source": [
    "#### Exercise 4 - Consider dropping variables"
   ]
  },
  {
   "cell_type": "code",
   "execution_count": 39,
   "id": "6cc574be",
   "metadata": {},
   "outputs": [],
   "source": [
    "# For now there are no features that need to be dropped"
   ]
  },
  {
   "cell_type": "markdown",
   "id": "ca8b43a7",
   "metadata": {},
   "source": [
    "### ROUND 5\n",
    "\n",
    "1. X-y split\n",
    "2. Normalize numerical variables"
   ]
  },
  {
   "cell_type": "markdown",
   "id": "8981199d",
   "metadata": {},
   "source": [
    "#### Exercise 1 - define y and X"
   ]
  },
  {
   "cell_type": "code",
   "execution_count": 40,
   "id": "a3c18e4b",
   "metadata": {},
   "outputs": [],
   "source": [
    "# Split the data in y and X\n",
    "y = marketing_data['total claim amount']\n",
    "# Delete some variables that we will not need further\n",
    "X = marketing_data.drop(['total claim amount','response rate', 'effective to month','customer', 'effective to date' ], axis = 1)\n",
    "\n",
    "# Put the features in same groups, NUMMERICALS NEED TO BE SCALED, Categoricals don't\n",
    "X_num = X.select_dtypes(include = np.number)\n",
    "X_cat = X.select_dtypes(include = object)"
   ]
  },
  {
   "cell_type": "code",
   "execution_count": 41,
   "id": "9331348c",
   "metadata": {},
   "outputs": [],
   "source": [
    "#CLEANED DATA SET\n",
    "marketing_data_cleaned = marketing_data.drop(['customer', 'response rate', 'effective to month', 'effective to date'], axis = 1)"
   ]
  },
  {
   "cell_type": "code",
   "execution_count": 42,
   "id": "d32c3e93",
   "metadata": {},
   "outputs": [
    {
     "data": {
      "text/plain": [
       "(10910, 7)"
      ]
     },
     "execution_count": 42,
     "metadata": {},
     "output_type": "execute_result"
    }
   ],
   "source": [
    "X_num.shape"
   ]
  },
  {
   "cell_type": "code",
   "execution_count": 43,
   "id": "05637a69",
   "metadata": {},
   "outputs": [
    {
     "data": {
      "text/plain": [
       "(10910, 15)"
      ]
     },
     "execution_count": 43,
     "metadata": {},
     "output_type": "execute_result"
    }
   ],
   "source": [
    "X_cat.shape"
   ]
  },
  {
   "cell_type": "markdown",
   "id": "80aaeaac",
   "metadata": {},
   "source": [
    "#### Exercise 2 -Normalize the data - numericals"
   ]
  },
  {
   "cell_type": "code",
   "execution_count": 44,
   "id": "445fdad5",
   "metadata": {},
   "outputs": [
    {
     "name": "stdout",
     "output_type": "stream",
     "text": [
      "(10910, 7)\n"
     ]
    }
   ],
   "source": [
    "# Exercise 2 -Normalize the data\n",
    "from sklearn.preprocessing import MinMaxScaler\n",
    "\n",
    "# 1. Create a function \n",
    "transformer = MinMaxScaler().fit(X_num) #it will squize in the numbers between the min and max and uniformlly seperate it\n",
    "# 2. Output are the scaled values\n",
    "X_normalized = transformer.transform(X_num) #It is a dataframe but will be turned into an array\n",
    "print(X_normalized.shape)\n",
    "\n",
    "X_normalized\n",
    "\n",
    "#Rename it because I change the dataset from an array into a Dataframe\n",
    "normalized_data = pd.DataFrame(X_normalized, columns=X_num.columns) #correlation matrix for normlized features"
   ]
  },
  {
   "cell_type": "code",
   "execution_count": 45,
   "id": "31ce27cb",
   "metadata": {},
   "outputs": [
    {
     "data": {
      "text/html": [
       "<div>\n",
       "<style scoped>\n",
       "    .dataframe tbody tr th:only-of-type {\n",
       "        vertical-align: middle;\n",
       "    }\n",
       "\n",
       "    .dataframe tbody tr th {\n",
       "        vertical-align: top;\n",
       "    }\n",
       "\n",
       "    .dataframe thead th {\n",
       "        text-align: right;\n",
       "    }\n",
       "</style>\n",
       "<table border=\"1\" class=\"dataframe\">\n",
       "  <thead>\n",
       "    <tr style=\"text-align: right;\">\n",
       "      <th></th>\n",
       "      <th>customer lifetime value</th>\n",
       "      <th>income</th>\n",
       "      <th>monthly premium auto</th>\n",
       "      <th>months since last claim</th>\n",
       "      <th>months since policy inception</th>\n",
       "      <th>number of open complaints</th>\n",
       "      <th>number of policies</th>\n",
       "    </tr>\n",
       "  </thead>\n",
       "  <tbody>\n",
       "    <tr>\n",
       "      <th>customer lifetime value</th>\n",
       "      <td>1.00</td>\n",
       "      <td>0.03</td>\n",
       "      <td>0.40</td>\n",
       "      <td>0.02</td>\n",
       "      <td>0.02</td>\n",
       "      <td>-0.03</td>\n",
       "      <td>0.01</td>\n",
       "    </tr>\n",
       "    <tr>\n",
       "      <th>income</th>\n",
       "      <td>0.03</td>\n",
       "      <td>1.00</td>\n",
       "      <td>-0.01</td>\n",
       "      <td>-0.02</td>\n",
       "      <td>-0.01</td>\n",
       "      <td>0.01</td>\n",
       "      <td>-0.01</td>\n",
       "    </tr>\n",
       "    <tr>\n",
       "      <th>monthly premium auto</th>\n",
       "      <td>0.40</td>\n",
       "      <td>-0.01</td>\n",
       "      <td>1.00</td>\n",
       "      <td>0.01</td>\n",
       "      <td>0.02</td>\n",
       "      <td>-0.01</td>\n",
       "      <td>-0.02</td>\n",
       "    </tr>\n",
       "    <tr>\n",
       "      <th>months since last claim</th>\n",
       "      <td>0.02</td>\n",
       "      <td>-0.02</td>\n",
       "      <td>0.01</td>\n",
       "      <td>1.00</td>\n",
       "      <td>-0.04</td>\n",
       "      <td>0.00</td>\n",
       "      <td>0.01</td>\n",
       "    </tr>\n",
       "    <tr>\n",
       "      <th>months since policy inception</th>\n",
       "      <td>0.02</td>\n",
       "      <td>-0.01</td>\n",
       "      <td>0.02</td>\n",
       "      <td>-0.04</td>\n",
       "      <td>1.00</td>\n",
       "      <td>0.00</td>\n",
       "      <td>-0.01</td>\n",
       "    </tr>\n",
       "    <tr>\n",
       "      <th>number of open complaints</th>\n",
       "      <td>-0.03</td>\n",
       "      <td>0.01</td>\n",
       "      <td>-0.01</td>\n",
       "      <td>0.00</td>\n",
       "      <td>0.00</td>\n",
       "      <td>1.00</td>\n",
       "      <td>0.00</td>\n",
       "    </tr>\n",
       "    <tr>\n",
       "      <th>number of policies</th>\n",
       "      <td>0.01</td>\n",
       "      <td>-0.01</td>\n",
       "      <td>-0.02</td>\n",
       "      <td>0.01</td>\n",
       "      <td>-0.01</td>\n",
       "      <td>0.00</td>\n",
       "      <td>1.00</td>\n",
       "    </tr>\n",
       "  </tbody>\n",
       "</table>\n",
       "</div>"
      ],
      "text/plain": [
       "                               customer lifetime value  income  \\\n",
       "customer lifetime value                           1.00    0.03   \n",
       "income                                            0.03    1.00   \n",
       "monthly premium auto                              0.40   -0.01   \n",
       "months since last claim                           0.02   -0.02   \n",
       "months since policy inception                     0.02   -0.01   \n",
       "number of open complaints                        -0.03    0.01   \n",
       "number of policies                                0.01   -0.01   \n",
       "\n",
       "                               monthly premium auto  months since last claim  \\\n",
       "customer lifetime value                        0.40                     0.02   \n",
       "income                                        -0.01                    -0.02   \n",
       "monthly premium auto                           1.00                     0.01   \n",
       "months since last claim                        0.01                     1.00   \n",
       "months since policy inception                  0.02                    -0.04   \n",
       "number of open complaints                     -0.01                     0.00   \n",
       "number of policies                            -0.02                     0.01   \n",
       "\n",
       "                               months since policy inception  \\\n",
       "customer lifetime value                                 0.02   \n",
       "income                                                 -0.01   \n",
       "monthly premium auto                                    0.02   \n",
       "months since last claim                                -0.04   \n",
       "months since policy inception                           1.00   \n",
       "number of open complaints                               0.00   \n",
       "number of policies                                     -0.01   \n",
       "\n",
       "                               number of open complaints  number of policies  \n",
       "customer lifetime value                            -0.03                0.01  \n",
       "income                                              0.01               -0.01  \n",
       "monthly premium auto                               -0.01               -0.02  \n",
       "months since last claim                             0.00                0.01  \n",
       "months since policy inception                       0.00               -0.01  \n",
       "number of open complaints                           1.00                0.00  \n",
       "number of policies                                  0.00                1.00  "
      ]
     },
     "execution_count": 45,
     "metadata": {},
     "output_type": "execute_result"
    }
   ],
   "source": [
    "normalized_data = normalized_data.round(2)\n",
    "#sns.heatmap(normalized_data, annot = True)\n",
    "normalized_corr_matrix = normalized_data.corr().round(2)\n",
    "normalized_corr_matrix"
   ]
  },
  {
   "cell_type": "markdown",
   "id": "7511397e",
   "metadata": {},
   "source": [
    "#### ROUND 6\n",
    "1. One Hot/Label Encoding (categorical)\n",
    "2. Concat Dataframes\n",
    "3. Train-test split\n",
    "4. Apply linear regression\n",
    "5. Description:\n",
    "    a. R2\n",
    "    b. MSE\n",
    "    c. RMSE\n",
    "    d. MAE"
   ]
  },
  {
   "cell_type": "markdown",
   "id": "85c47c10",
   "metadata": {},
   "source": [
    "LAB: 6\n",
    "    - Processing Data\n",
    "       - categorical encoding\n",
    "        - concat both frames together in variable X\n",
    "    - Train test split use random state\n",
    "    - Apply Linear regression\n",
    "    - Run the matrixes"
   ]
  },
  {
   "cell_type": "markdown",
   "id": "2304f000",
   "metadata": {},
   "source": [
    "#### Exercise 1 - One Hot/Label Encoding for categorical variables"
   ]
  },
  {
   "cell_type": "code",
   "execution_count": 46,
   "id": "2433486c",
   "metadata": {},
   "outputs": [
    {
     "data": {
      "text/html": [
       "<div>\n",
       "<style scoped>\n",
       "    .dataframe tbody tr th:only-of-type {\n",
       "        vertical-align: middle;\n",
       "    }\n",
       "\n",
       "    .dataframe tbody tr th {\n",
       "        vertical-align: top;\n",
       "    }\n",
       "\n",
       "    .dataframe thead th {\n",
       "        text-align: right;\n",
       "    }\n",
       "</style>\n",
       "<table border=\"1\" class=\"dataframe\">\n",
       "  <thead>\n",
       "    <tr style=\"text-align: right;\">\n",
       "      <th></th>\n",
       "      <th>state</th>\n",
       "      <th>response</th>\n",
       "      <th>coverage</th>\n",
       "      <th>education</th>\n",
       "      <th>employmentstatus</th>\n",
       "      <th>gender</th>\n",
       "      <th>location code</th>\n",
       "      <th>marital status</th>\n",
       "      <th>policy type</th>\n",
       "      <th>policy</th>\n",
       "      <th>renew offer type</th>\n",
       "      <th>sales channel</th>\n",
       "      <th>vehicle class</th>\n",
       "      <th>vehicle size</th>\n",
       "      <th>vehicle type</th>\n",
       "    </tr>\n",
       "  </thead>\n",
       "  <tbody>\n",
       "    <tr>\n",
       "      <th>0</th>\n",
       "      <td>Arizona</td>\n",
       "      <td>No</td>\n",
       "      <td>Basic</td>\n",
       "      <td>College</td>\n",
       "      <td>Employed</td>\n",
       "      <td>M</td>\n",
       "      <td>Suburban</td>\n",
       "      <td>Married</td>\n",
       "      <td>Corporate Auto</td>\n",
       "      <td>Corporate L3</td>\n",
       "      <td>Offer3</td>\n",
       "      <td>Agent</td>\n",
       "      <td>Four-Door Car</td>\n",
       "      <td>Medsize</td>\n",
       "      <td>M</td>\n",
       "    </tr>\n",
       "    <tr>\n",
       "      <th>1</th>\n",
       "      <td>California</td>\n",
       "      <td>No</td>\n",
       "      <td>Basic</td>\n",
       "      <td>College</td>\n",
       "      <td>Unemployed</td>\n",
       "      <td>F</td>\n",
       "      <td>Suburban</td>\n",
       "      <td>Single</td>\n",
       "      <td>Personal Auto</td>\n",
       "      <td>Personal L3</td>\n",
       "      <td>Offer4</td>\n",
       "      <td>Call Center</td>\n",
       "      <td>Four-Door Car</td>\n",
       "      <td>Medsize</td>\n",
       "      <td>M</td>\n",
       "    </tr>\n",
       "    <tr>\n",
       "      <th>2</th>\n",
       "      <td>Washington</td>\n",
       "      <td>No</td>\n",
       "      <td>Basic</td>\n",
       "      <td>Bachelor</td>\n",
       "      <td>Employed</td>\n",
       "      <td>M</td>\n",
       "      <td>Suburban</td>\n",
       "      <td>Single</td>\n",
       "      <td>Personal Auto</td>\n",
       "      <td>Personal L3</td>\n",
       "      <td>Offer3</td>\n",
       "      <td>Call Center</td>\n",
       "      <td>SUV</td>\n",
       "      <td>Medsize</td>\n",
       "      <td>A</td>\n",
       "    </tr>\n",
       "    <tr>\n",
       "      <th>3</th>\n",
       "      <td>Oregon</td>\n",
       "      <td>Yes</td>\n",
       "      <td>Extended</td>\n",
       "      <td>College</td>\n",
       "      <td>Employed</td>\n",
       "      <td>M</td>\n",
       "      <td>Suburban</td>\n",
       "      <td>Single</td>\n",
       "      <td>Corporate Auto</td>\n",
       "      <td>Corporate L3</td>\n",
       "      <td>Offer2</td>\n",
       "      <td>Branch</td>\n",
       "      <td>Four-Door Car</td>\n",
       "      <td>Medsize</td>\n",
       "      <td>A</td>\n",
       "    </tr>\n",
       "    <tr>\n",
       "      <th>4</th>\n",
       "      <td>Oregon</td>\n",
       "      <td>No</td>\n",
       "      <td>Premium</td>\n",
       "      <td>Bachelor</td>\n",
       "      <td>Medical Leave</td>\n",
       "      <td>F</td>\n",
       "      <td>Suburban</td>\n",
       "      <td>Married</td>\n",
       "      <td>Personal Auto</td>\n",
       "      <td>Personal L2</td>\n",
       "      <td>Offer1</td>\n",
       "      <td>Branch</td>\n",
       "      <td>Four-Door Car</td>\n",
       "      <td>Medsize</td>\n",
       "      <td>M</td>\n",
       "    </tr>\n",
       "    <tr>\n",
       "      <th>...</th>\n",
       "      <td>...</td>\n",
       "      <td>...</td>\n",
       "      <td>...</td>\n",
       "      <td>...</td>\n",
       "      <td>...</td>\n",
       "      <td>...</td>\n",
       "      <td>...</td>\n",
       "      <td>...</td>\n",
       "      <td>...</td>\n",
       "      <td>...</td>\n",
       "      <td>...</td>\n",
       "      <td>...</td>\n",
       "      <td>...</td>\n",
       "      <td>...</td>\n",
       "      <td>...</td>\n",
       "    </tr>\n",
       "    <tr>\n",
       "      <th>10905</th>\n",
       "      <td>Nevada</td>\n",
       "      <td>No</td>\n",
       "      <td>Premium</td>\n",
       "      <td>Bachelor</td>\n",
       "      <td>Unemployed</td>\n",
       "      <td>F</td>\n",
       "      <td>Suburban</td>\n",
       "      <td>Married</td>\n",
       "      <td>Personal Auto</td>\n",
       "      <td>Personal L1</td>\n",
       "      <td>Offer3</td>\n",
       "      <td>Web</td>\n",
       "      <td>Luxury Car</td>\n",
       "      <td>Medsize</td>\n",
       "      <td>A</td>\n",
       "    </tr>\n",
       "    <tr>\n",
       "      <th>10906</th>\n",
       "      <td>Oregon</td>\n",
       "      <td>No</td>\n",
       "      <td>Basic</td>\n",
       "      <td>College</td>\n",
       "      <td>Employed</td>\n",
       "      <td>F</td>\n",
       "      <td>Urban</td>\n",
       "      <td>Married</td>\n",
       "      <td>Personal Auto</td>\n",
       "      <td>Personal L3</td>\n",
       "      <td>Offer2</td>\n",
       "      <td>Branch</td>\n",
       "      <td>Four-Door Car</td>\n",
       "      <td>Medsize</td>\n",
       "      <td>A</td>\n",
       "    </tr>\n",
       "    <tr>\n",
       "      <th>10907</th>\n",
       "      <td>Arizona</td>\n",
       "      <td>No</td>\n",
       "      <td>Extended</td>\n",
       "      <td>Bachelor</td>\n",
       "      <td>Employed</td>\n",
       "      <td>F</td>\n",
       "      <td>Rural</td>\n",
       "      <td>Married</td>\n",
       "      <td>Corporate Auto</td>\n",
       "      <td>Corporate L3</td>\n",
       "      <td>Offer1</td>\n",
       "      <td>Web</td>\n",
       "      <td>Luxury SUV</td>\n",
       "      <td>Medsize</td>\n",
       "      <td>M</td>\n",
       "    </tr>\n",
       "    <tr>\n",
       "      <th>10908</th>\n",
       "      <td>California</td>\n",
       "      <td>No</td>\n",
       "      <td>Premium</td>\n",
       "      <td>College</td>\n",
       "      <td>Employed</td>\n",
       "      <td>F</td>\n",
       "      <td>Urban</td>\n",
       "      <td>Divorced</td>\n",
       "      <td>Personal Auto</td>\n",
       "      <td>Personal L1</td>\n",
       "      <td>Offer1</td>\n",
       "      <td>Branch</td>\n",
       "      <td>SUV</td>\n",
       "      <td>Medsize</td>\n",
       "      <td>A</td>\n",
       "    </tr>\n",
       "    <tr>\n",
       "      <th>10909</th>\n",
       "      <td>California</td>\n",
       "      <td>No</td>\n",
       "      <td>Basic</td>\n",
       "      <td>Bachelor</td>\n",
       "      <td>Unemployed</td>\n",
       "      <td>M</td>\n",
       "      <td>Suburban</td>\n",
       "      <td>Single</td>\n",
       "      <td>Personal Auto</td>\n",
       "      <td>Personal L1</td>\n",
       "      <td>Offer4</td>\n",
       "      <td>Web</td>\n",
       "      <td>SUV</td>\n",
       "      <td>Medsize</td>\n",
       "      <td>M</td>\n",
       "    </tr>\n",
       "  </tbody>\n",
       "</table>\n",
       "<p>10910 rows × 15 columns</p>\n",
       "</div>"
      ],
      "text/plain": [
       "            state response  coverage education employmentstatus gender  \\\n",
       "0         Arizona       No     Basic   College         Employed      M   \n",
       "1      California       No     Basic   College       Unemployed      F   \n",
       "2      Washington       No     Basic  Bachelor         Employed      M   \n",
       "3          Oregon      Yes  Extended   College         Employed      M   \n",
       "4          Oregon       No   Premium  Bachelor    Medical Leave      F   \n",
       "...           ...      ...       ...       ...              ...    ...   \n",
       "10905      Nevada       No   Premium  Bachelor       Unemployed      F   \n",
       "10906      Oregon       No     Basic   College         Employed      F   \n",
       "10907     Arizona       No  Extended  Bachelor         Employed      F   \n",
       "10908  California       No   Premium   College         Employed      F   \n",
       "10909  California       No     Basic  Bachelor       Unemployed      M   \n",
       "\n",
       "      location code marital status     policy type        policy  \\\n",
       "0          Suburban        Married  Corporate Auto  Corporate L3   \n",
       "1          Suburban         Single   Personal Auto   Personal L3   \n",
       "2          Suburban         Single   Personal Auto   Personal L3   \n",
       "3          Suburban         Single  Corporate Auto  Corporate L3   \n",
       "4          Suburban        Married   Personal Auto   Personal L2   \n",
       "...             ...            ...             ...           ...   \n",
       "10905      Suburban        Married   Personal Auto   Personal L1   \n",
       "10906         Urban        Married   Personal Auto   Personal L3   \n",
       "10907         Rural        Married  Corporate Auto  Corporate L3   \n",
       "10908         Urban       Divorced   Personal Auto   Personal L1   \n",
       "10909      Suburban         Single   Personal Auto   Personal L1   \n",
       "\n",
       "      renew offer type sales channel  vehicle class vehicle size vehicle type  \n",
       "0               Offer3         Agent  Four-Door Car      Medsize            M  \n",
       "1               Offer4   Call Center  Four-Door Car      Medsize            M  \n",
       "2               Offer3   Call Center            SUV      Medsize            A  \n",
       "3               Offer2        Branch  Four-Door Car      Medsize            A  \n",
       "4               Offer1        Branch  Four-Door Car      Medsize            M  \n",
       "...                ...           ...            ...          ...          ...  \n",
       "10905           Offer3           Web     Luxury Car      Medsize            A  \n",
       "10906           Offer2        Branch  Four-Door Car      Medsize            A  \n",
       "10907           Offer1           Web     Luxury SUV      Medsize            M  \n",
       "10908           Offer1        Branch            SUV      Medsize            A  \n",
       "10909           Offer4           Web            SUV      Medsize            M  \n",
       "\n",
       "[10910 rows x 15 columns]"
      ]
     },
     "execution_count": 46,
     "metadata": {},
     "output_type": "execute_result"
    }
   ],
   "source": [
    "X_cat"
   ]
  },
  {
   "cell_type": "code",
   "execution_count": 47,
   "id": "a3a5ccef",
   "metadata": {},
   "outputs": [
    {
     "name": "stdout",
     "output_type": "stream",
     "text": [
      "[array(['Arizona', 'California', 'Nevada', 'Oregon', 'Washington'],\n",
      "      dtype=object), array(['No', 'Yes'], dtype=object), array(['Basic', 'Extended', 'Premium'], dtype=object), array(['Bachelor', 'College', 'Doctor', 'High School or Below', 'Master'],\n",
      "      dtype=object), array(['Disabled', 'Employed', 'Medical Leave', 'Retired', 'Unemployed'],\n",
      "      dtype=object), array(['F', 'M'], dtype=object), array(['Rural', 'Suburban', 'Urban'], dtype=object), array(['Divorced', 'Married', 'Single'], dtype=object), array(['Corporate Auto', 'Personal Auto', 'Special Auto'], dtype=object), array(['Corporate L1', 'Corporate L2', 'Corporate L3', 'Personal L1',\n",
      "       'Personal L2', 'Personal L3', 'Special L1', 'Special L2',\n",
      "       'Special L3'], dtype=object), array(['Offer1', 'Offer2', 'Offer3', 'Offer4'], dtype=object), array(['Agent', 'Branch', 'Call Center', 'Web'], dtype=object), array(['Four-Door Car', 'Luxury Car', 'Luxury SUV', 'SUV', 'Sports Car',\n",
      "       'Two-Door Car'], dtype=object), array(['Large', 'Medsize', 'Small'], dtype=object), array(['A', 'M'], dtype=object)]\n",
      "[[0. 0. 0. ... 1. 0. 1.]\n",
      " [1. 0. 0. ... 1. 0. 1.]\n",
      " [0. 0. 0. ... 1. 0. 0.]\n",
      " ...\n",
      " [0. 0. 0. ... 1. 0. 1.]\n",
      " [1. 0. 0. ... 1. 0. 0.]\n",
      " [1. 0. 0. ... 1. 0. 1.]]\n"
     ]
    },
    {
     "name": "stderr",
     "output_type": "stream",
     "text": [
      "/opt/anaconda3/lib/python3.9/site-packages/sklearn/utils/deprecation.py:87: FutureWarning: Function get_feature_names is deprecated; get_feature_names is deprecated in 1.0 and will be removed in 1.2. Please use get_feature_names_out instead.\n",
      "  warnings.warn(msg, category=FutureWarning)\n"
     ]
    },
    {
     "data": {
      "text/html": [
       "<div>\n",
       "<style scoped>\n",
       "    .dataframe tbody tr th:only-of-type {\n",
       "        vertical-align: middle;\n",
       "    }\n",
       "\n",
       "    .dataframe tbody tr th {\n",
       "        vertical-align: top;\n",
       "    }\n",
       "\n",
       "    .dataframe thead th {\n",
       "        text-align: right;\n",
       "    }\n",
       "</style>\n",
       "<table border=\"1\" class=\"dataframe\">\n",
       "  <thead>\n",
       "    <tr style=\"text-align: right;\">\n",
       "      <th></th>\n",
       "      <th>state_California</th>\n",
       "      <th>state_Nevada</th>\n",
       "      <th>state_Oregon</th>\n",
       "      <th>state_Washington</th>\n",
       "      <th>response_Yes</th>\n",
       "      <th>coverage_Extended</th>\n",
       "      <th>coverage_Premium</th>\n",
       "      <th>education_College</th>\n",
       "      <th>education_Doctor</th>\n",
       "      <th>education_High School or Below</th>\n",
       "      <th>...</th>\n",
       "      <th>sales channel_Call Center</th>\n",
       "      <th>sales channel_Web</th>\n",
       "      <th>vehicle class_Luxury Car</th>\n",
       "      <th>vehicle class_Luxury SUV</th>\n",
       "      <th>vehicle class_SUV</th>\n",
       "      <th>vehicle class_Sports Car</th>\n",
       "      <th>vehicle class_Two-Door Car</th>\n",
       "      <th>vehicle size_Medsize</th>\n",
       "      <th>vehicle size_Small</th>\n",
       "      <th>vehicle type_M</th>\n",
       "    </tr>\n",
       "  </thead>\n",
       "  <tbody>\n",
       "    <tr>\n",
       "      <th>0</th>\n",
       "      <td>0.0</td>\n",
       "      <td>0.0</td>\n",
       "      <td>0.0</td>\n",
       "      <td>0.0</td>\n",
       "      <td>0.0</td>\n",
       "      <td>0.0</td>\n",
       "      <td>0.0</td>\n",
       "      <td>1.0</td>\n",
       "      <td>0.0</td>\n",
       "      <td>0.0</td>\n",
       "      <td>...</td>\n",
       "      <td>0.0</td>\n",
       "      <td>0.0</td>\n",
       "      <td>0.0</td>\n",
       "      <td>0.0</td>\n",
       "      <td>0.0</td>\n",
       "      <td>0.0</td>\n",
       "      <td>0.0</td>\n",
       "      <td>1.0</td>\n",
       "      <td>0.0</td>\n",
       "      <td>1.0</td>\n",
       "    </tr>\n",
       "    <tr>\n",
       "      <th>1</th>\n",
       "      <td>1.0</td>\n",
       "      <td>0.0</td>\n",
       "      <td>0.0</td>\n",
       "      <td>0.0</td>\n",
       "      <td>0.0</td>\n",
       "      <td>0.0</td>\n",
       "      <td>0.0</td>\n",
       "      <td>1.0</td>\n",
       "      <td>0.0</td>\n",
       "      <td>0.0</td>\n",
       "      <td>...</td>\n",
       "      <td>1.0</td>\n",
       "      <td>0.0</td>\n",
       "      <td>0.0</td>\n",
       "      <td>0.0</td>\n",
       "      <td>0.0</td>\n",
       "      <td>0.0</td>\n",
       "      <td>0.0</td>\n",
       "      <td>1.0</td>\n",
       "      <td>0.0</td>\n",
       "      <td>1.0</td>\n",
       "    </tr>\n",
       "  </tbody>\n",
       "</table>\n",
       "<p>2 rows × 44 columns</p>\n",
       "</div>"
      ],
      "text/plain": [
       "   state_California  state_Nevada  state_Oregon  state_Washington  \\\n",
       "0               0.0           0.0           0.0               0.0   \n",
       "1               1.0           0.0           0.0               0.0   \n",
       "\n",
       "   response_Yes  coverage_Extended  coverage_Premium  education_College  \\\n",
       "0           0.0                0.0               0.0                1.0   \n",
       "1           0.0                0.0               0.0                1.0   \n",
       "\n",
       "   education_Doctor  education_High School or Below  ...  \\\n",
       "0               0.0                             0.0  ...   \n",
       "1               0.0                             0.0  ...   \n",
       "\n",
       "   sales channel_Call Center  sales channel_Web  vehicle class_Luxury Car  \\\n",
       "0                        0.0                0.0                       0.0   \n",
       "1                        1.0                0.0                       0.0   \n",
       "\n",
       "   vehicle class_Luxury SUV  vehicle class_SUV  vehicle class_Sports Car  \\\n",
       "0                       0.0                0.0                       0.0   \n",
       "1                       0.0                0.0                       0.0   \n",
       "\n",
       "   vehicle class_Two-Door Car  vehicle size_Medsize  vehicle size_Small  \\\n",
       "0                         0.0                   1.0                 0.0   \n",
       "1                         0.0                   1.0                 0.0   \n",
       "\n",
       "   vehicle type_M  \n",
       "0             1.0  \n",
       "1             1.0  \n",
       "\n",
       "[2 rows x 44 columns]"
      ]
     },
     "execution_count": 47,
     "metadata": {},
     "output_type": "execute_result"
    }
   ],
   "source": [
    "# JUST DO ONE HOT LABEL ENCODING FOR NOW - Later split it\n",
    "from sklearn.preprocessing import OneHotEncoder\n",
    "\n",
    "# Step 1. \n",
    "#We need to train the encoder with a command to create dummy variables\n",
    "encoder = OneHotEncoder(drop='first').fit(X_cat)\n",
    "\n",
    "#2. Show the new categories\n",
    "print(encoder.categories_)\n",
    "\n",
    "# 3. Change the variable into an array\n",
    "encoded = encoder.transform(X_cat).toarray()\n",
    "print(encoded)\n",
    "\n",
    "# 4. Create cols\n",
    "cols=[]\n",
    "for row in encoder.categories_:\n",
    "    for colname in row:\n",
    "        cols.append(colname)\n",
    "cols\n",
    "\n",
    "# 5. Add names to the features again\n",
    "cols = encoder.get_feature_names(input_features=X_cat.columns)\n",
    "cols\n",
    "\n",
    "# 6. Let's see if it worked\n",
    "onehot_encoded = pd.DataFrame(encoded, columns=cols)\n",
    "onehot_encoded.head(2)"
   ]
  },
  {
   "cell_type": "markdown",
   "id": "79eac706",
   "metadata": {},
   "source": [
    "#### Exercise 2 - Concat the features and prepare it for the analysis"
   ]
  },
  {
   "cell_type": "code",
   "execution_count": 48,
   "id": "63ea8ed0",
   "metadata": {},
   "outputs": [],
   "source": [
    "X = pd.concat([normalized_data, onehot_encoded], axis =1)"
   ]
  },
  {
   "cell_type": "code",
   "execution_count": 49,
   "id": "82de0319",
   "metadata": {},
   "outputs": [
    {
     "data": {
      "text/html": [
       "<div>\n",
       "<style scoped>\n",
       "    .dataframe tbody tr th:only-of-type {\n",
       "        vertical-align: middle;\n",
       "    }\n",
       "\n",
       "    .dataframe tbody tr th {\n",
       "        vertical-align: top;\n",
       "    }\n",
       "\n",
       "    .dataframe thead th {\n",
       "        text-align: right;\n",
       "    }\n",
       "</style>\n",
       "<table border=\"1\" class=\"dataframe\">\n",
       "  <thead>\n",
       "    <tr style=\"text-align: right;\">\n",
       "      <th></th>\n",
       "      <th>customer lifetime value</th>\n",
       "      <th>income</th>\n",
       "      <th>monthly premium auto</th>\n",
       "      <th>months since last claim</th>\n",
       "      <th>months since policy inception</th>\n",
       "      <th>number of open complaints</th>\n",
       "      <th>number of policies</th>\n",
       "      <th>state_California</th>\n",
       "      <th>state_Nevada</th>\n",
       "      <th>state_Oregon</th>\n",
       "      <th>...</th>\n",
       "      <th>sales channel_Call Center</th>\n",
       "      <th>sales channel_Web</th>\n",
       "      <th>vehicle class_Luxury Car</th>\n",
       "      <th>vehicle class_Luxury SUV</th>\n",
       "      <th>vehicle class_SUV</th>\n",
       "      <th>vehicle class_Sports Car</th>\n",
       "      <th>vehicle class_Two-Door Car</th>\n",
       "      <th>vehicle size_Medsize</th>\n",
       "      <th>vehicle size_Small</th>\n",
       "      <th>vehicle type_M</th>\n",
       "    </tr>\n",
       "  </thead>\n",
       "  <tbody>\n",
       "    <tr>\n",
       "      <th>0</th>\n",
       "      <td>0.04</td>\n",
       "      <td>0.48</td>\n",
       "      <td>0.00</td>\n",
       "      <td>0.20</td>\n",
       "      <td>0.53</td>\n",
       "      <td>0.00</td>\n",
       "      <td>1.00</td>\n",
       "      <td>0.0</td>\n",
       "      <td>0.0</td>\n",
       "      <td>0.0</td>\n",
       "      <td>...</td>\n",
       "      <td>0.0</td>\n",
       "      <td>0.0</td>\n",
       "      <td>0.0</td>\n",
       "      <td>0.0</td>\n",
       "      <td>0.0</td>\n",
       "      <td>0.0</td>\n",
       "      <td>0.0</td>\n",
       "      <td>1.0</td>\n",
       "      <td>0.0</td>\n",
       "      <td>1.0</td>\n",
       "    </tr>\n",
       "    <tr>\n",
       "      <th>1</th>\n",
       "      <td>0.00</td>\n",
       "      <td>0.00</td>\n",
       "      <td>0.01</td>\n",
       "      <td>0.09</td>\n",
       "      <td>0.26</td>\n",
       "      <td>0.00</td>\n",
       "      <td>0.00</td>\n",
       "      <td>1.0</td>\n",
       "      <td>0.0</td>\n",
       "      <td>0.0</td>\n",
       "      <td>...</td>\n",
       "      <td>1.0</td>\n",
       "      <td>0.0</td>\n",
       "      <td>0.0</td>\n",
       "      <td>0.0</td>\n",
       "      <td>0.0</td>\n",
       "      <td>0.0</td>\n",
       "      <td>0.0</td>\n",
       "      <td>1.0</td>\n",
       "      <td>0.0</td>\n",
       "      <td>1.0</td>\n",
       "    </tr>\n",
       "    <tr>\n",
       "      <th>2</th>\n",
       "      <td>0.16</td>\n",
       "      <td>0.22</td>\n",
       "      <td>0.16</td>\n",
       "      <td>0.97</td>\n",
       "      <td>0.31</td>\n",
       "      <td>0.00</td>\n",
       "      <td>0.12</td>\n",
       "      <td>0.0</td>\n",
       "      <td>0.0</td>\n",
       "      <td>0.0</td>\n",
       "      <td>...</td>\n",
       "      <td>1.0</td>\n",
       "      <td>0.0</td>\n",
       "      <td>0.0</td>\n",
       "      <td>0.0</td>\n",
       "      <td>1.0</td>\n",
       "      <td>0.0</td>\n",
       "      <td>0.0</td>\n",
       "      <td>1.0</td>\n",
       "      <td>0.0</td>\n",
       "      <td>0.0</td>\n",
       "    </tr>\n",
       "    <tr>\n",
       "      <th>3</th>\n",
       "      <td>0.25</td>\n",
       "      <td>0.49</td>\n",
       "      <td>0.15</td>\n",
       "      <td>0.29</td>\n",
       "      <td>0.03</td>\n",
       "      <td>0.00</td>\n",
       "      <td>0.12</td>\n",
       "      <td>0.0</td>\n",
       "      <td>0.0</td>\n",
       "      <td>1.0</td>\n",
       "      <td>...</td>\n",
       "      <td>0.0</td>\n",
       "      <td>0.0</td>\n",
       "      <td>0.0</td>\n",
       "      <td>0.0</td>\n",
       "      <td>0.0</td>\n",
       "      <td>0.0</td>\n",
       "      <td>0.0</td>\n",
       "      <td>1.0</td>\n",
       "      <td>0.0</td>\n",
       "      <td>0.0</td>\n",
       "    </tr>\n",
       "    <tr>\n",
       "      <th>4</th>\n",
       "      <td>0.09</td>\n",
       "      <td>0.24</td>\n",
       "      <td>0.24</td>\n",
       "      <td>0.43</td>\n",
       "      <td>0.31</td>\n",
       "      <td>0.08</td>\n",
       "      <td>0.75</td>\n",
       "      <td>0.0</td>\n",
       "      <td>0.0</td>\n",
       "      <td>1.0</td>\n",
       "      <td>...</td>\n",
       "      <td>0.0</td>\n",
       "      <td>0.0</td>\n",
       "      <td>0.0</td>\n",
       "      <td>0.0</td>\n",
       "      <td>0.0</td>\n",
       "      <td>0.0</td>\n",
       "      <td>0.0</td>\n",
       "      <td>1.0</td>\n",
       "      <td>0.0</td>\n",
       "      <td>1.0</td>\n",
       "    </tr>\n",
       "  </tbody>\n",
       "</table>\n",
       "<p>5 rows × 51 columns</p>\n",
       "</div>"
      ],
      "text/plain": [
       "   customer lifetime value  income  monthly premium auto  \\\n",
       "0                     0.04    0.48                  0.00   \n",
       "1                     0.00    0.00                  0.01   \n",
       "2                     0.16    0.22                  0.16   \n",
       "3                     0.25    0.49                  0.15   \n",
       "4                     0.09    0.24                  0.24   \n",
       "\n",
       "   months since last claim  months since policy inception  \\\n",
       "0                     0.20                           0.53   \n",
       "1                     0.09                           0.26   \n",
       "2                     0.97                           0.31   \n",
       "3                     0.29                           0.03   \n",
       "4                     0.43                           0.31   \n",
       "\n",
       "   number of open complaints  number of policies  state_California  \\\n",
       "0                       0.00                1.00               0.0   \n",
       "1                       0.00                0.00               1.0   \n",
       "2                       0.00                0.12               0.0   \n",
       "3                       0.00                0.12               0.0   \n",
       "4                       0.08                0.75               0.0   \n",
       "\n",
       "   state_Nevada  state_Oregon  ...  sales channel_Call Center  \\\n",
       "0           0.0           0.0  ...                        0.0   \n",
       "1           0.0           0.0  ...                        1.0   \n",
       "2           0.0           0.0  ...                        1.0   \n",
       "3           0.0           1.0  ...                        0.0   \n",
       "4           0.0           1.0  ...                        0.0   \n",
       "\n",
       "   sales channel_Web  vehicle class_Luxury Car  vehicle class_Luxury SUV  \\\n",
       "0                0.0                       0.0                       0.0   \n",
       "1                0.0                       0.0                       0.0   \n",
       "2                0.0                       0.0                       0.0   \n",
       "3                0.0                       0.0                       0.0   \n",
       "4                0.0                       0.0                       0.0   \n",
       "\n",
       "   vehicle class_SUV  vehicle class_Sports Car  vehicle class_Two-Door Car  \\\n",
       "0                0.0                       0.0                         0.0   \n",
       "1                0.0                       0.0                         0.0   \n",
       "2                1.0                       0.0                         0.0   \n",
       "3                0.0                       0.0                         0.0   \n",
       "4                0.0                       0.0                         0.0   \n",
       "\n",
       "   vehicle size_Medsize  vehicle size_Small  vehicle type_M  \n",
       "0                   1.0                 0.0             1.0  \n",
       "1                   1.0                 0.0             1.0  \n",
       "2                   1.0                 0.0             0.0  \n",
       "3                   1.0                 0.0             0.0  \n",
       "4                   1.0                 0.0             1.0  \n",
       "\n",
       "[5 rows x 51 columns]"
      ]
     },
     "execution_count": 49,
     "metadata": {},
     "output_type": "execute_result"
    }
   ],
   "source": [
    "X.head()"
   ]
  },
  {
   "cell_type": "code",
   "execution_count": 50,
   "id": "15ed2d48",
   "metadata": {},
   "outputs": [],
   "source": [
    "# Standardize all of the features - insert '_' - should have happened earlier\n",
    "def clean_data2(df):\n",
    "    \n",
    "    #standardize columns names\n",
    "    df.columns = [e.lower().replace(' ','_') for e in df.columns]\n",
    "    return df"
   ]
  },
  {
   "cell_type": "code",
   "execution_count": 51,
   "id": "86206649",
   "metadata": {},
   "outputs": [],
   "source": [
    "X = clean_data2(X)"
   ]
  },
  {
   "cell_type": "code",
   "execution_count": 52,
   "id": "ede70c6a",
   "metadata": {},
   "outputs": [],
   "source": [
    "y = y.rename('total_claim_amount')"
   ]
  },
  {
   "cell_type": "code",
   "execution_count": 53,
   "id": "09b847ab",
   "metadata": {},
   "outputs": [],
   "source": [
    "marketing_data_cleaned = clean_data2(marketing_data_cleaned)"
   ]
  },
  {
   "cell_type": "markdown",
   "id": "ef83ca4e",
   "metadata": {},
   "source": [
    "#### Exercise 3 - Train-test split"
   ]
  },
  {
   "cell_type": "code",
   "execution_count": 54,
   "id": "08c0caf7",
   "metadata": {},
   "outputs": [
    {
     "name": "stdout",
     "output_type": "stream",
     "text": [
      "(8728, 51)\n",
      "(2182, 51)\n",
      "(8728,)\n",
      "(2182,)\n"
     ]
    }
   ],
   "source": [
    "from sklearn.model_selection import train_test_split\n",
    "\n",
    "# train test split, will output 4 values - good to call them X_train, X_test, y_train and y_test\n",
    "X_train, X_test, y_train, y_test = train_test_split(X, y, test_size=0.2, random_state=42) # insert the label and features, 0.2 is 20% for testing\n",
    "# random_state is used to always have the same test set, same selection will be made - good to use when you want to have the same results, any number can be used\n",
    "\n",
    "# Let's see if it worked\n",
    "print(X_train.shape)\n",
    "print(X_test.shape)\n",
    "print(y_train.shape)\n",
    "print(y_test.shape)"
   ]
  },
  {
   "cell_type": "code",
   "execution_count": 55,
   "id": "2f2dd620",
   "metadata": {},
   "outputs": [
    {
     "data": {
      "text/html": [
       "<div>\n",
       "<style scoped>\n",
       "    .dataframe tbody tr th:only-of-type {\n",
       "        vertical-align: middle;\n",
       "    }\n",
       "\n",
       "    .dataframe tbody tr th {\n",
       "        vertical-align: top;\n",
       "    }\n",
       "\n",
       "    .dataframe thead th {\n",
       "        text-align: right;\n",
       "    }\n",
       "</style>\n",
       "<table border=\"1\" class=\"dataframe\">\n",
       "  <thead>\n",
       "    <tr style=\"text-align: right;\">\n",
       "      <th></th>\n",
       "      <th>customer_lifetime_value</th>\n",
       "      <th>income</th>\n",
       "      <th>monthly_premium_auto</th>\n",
       "      <th>months_since_last_claim</th>\n",
       "      <th>months_since_policy_inception</th>\n",
       "      <th>number_of_open_complaints</th>\n",
       "      <th>number_of_policies</th>\n",
       "      <th>state_california</th>\n",
       "      <th>state_nevada</th>\n",
       "      <th>state_oregon</th>\n",
       "      <th>...</th>\n",
       "      <th>sales_channel_call_center</th>\n",
       "      <th>sales_channel_web</th>\n",
       "      <th>vehicle_class_luxury_car</th>\n",
       "      <th>vehicle_class_luxury_suv</th>\n",
       "      <th>vehicle_class_suv</th>\n",
       "      <th>vehicle_class_sports_car</th>\n",
       "      <th>vehicle_class_two-door_car</th>\n",
       "      <th>vehicle_size_medsize</th>\n",
       "      <th>vehicle_size_small</th>\n",
       "      <th>vehicle_type_m</th>\n",
       "    </tr>\n",
       "  </thead>\n",
       "  <tbody>\n",
       "    <tr>\n",
       "      <th>3105</th>\n",
       "      <td>0.03</td>\n",
       "      <td>0.00</td>\n",
       "      <td>0.00</td>\n",
       "      <td>0.74</td>\n",
       "      <td>0.63</td>\n",
       "      <td>0.0</td>\n",
       "      <td>0.25</td>\n",
       "      <td>0.0</td>\n",
       "      <td>0.0</td>\n",
       "      <td>0.0</td>\n",
       "      <td>...</td>\n",
       "      <td>0.0</td>\n",
       "      <td>0.0</td>\n",
       "      <td>0.0</td>\n",
       "      <td>0.0</td>\n",
       "      <td>0.0</td>\n",
       "      <td>0.0</td>\n",
       "      <td>1.0</td>\n",
       "      <td>0.0</td>\n",
       "      <td>1.0</td>\n",
       "      <td>0.0</td>\n",
       "    </tr>\n",
       "    <tr>\n",
       "      <th>6032</th>\n",
       "      <td>0.10</td>\n",
       "      <td>0.96</td>\n",
       "      <td>0.28</td>\n",
       "      <td>0.54</td>\n",
       "      <td>0.12</td>\n",
       "      <td>0.0</td>\n",
       "      <td>0.25</td>\n",
       "      <td>1.0</td>\n",
       "      <td>0.0</td>\n",
       "      <td>0.0</td>\n",
       "      <td>...</td>\n",
       "      <td>0.0</td>\n",
       "      <td>0.0</td>\n",
       "      <td>0.0</td>\n",
       "      <td>0.0</td>\n",
       "      <td>1.0</td>\n",
       "      <td>0.0</td>\n",
       "      <td>0.0</td>\n",
       "      <td>1.0</td>\n",
       "      <td>0.0</td>\n",
       "      <td>1.0</td>\n",
       "    </tr>\n",
       "    <tr>\n",
       "      <th>157</th>\n",
       "      <td>0.04</td>\n",
       "      <td>0.19</td>\n",
       "      <td>0.27</td>\n",
       "      <td>0.11</td>\n",
       "      <td>0.63</td>\n",
       "      <td>0.0</td>\n",
       "      <td>0.00</td>\n",
       "      <td>0.0</td>\n",
       "      <td>0.0</td>\n",
       "      <td>0.0</td>\n",
       "      <td>...</td>\n",
       "      <td>1.0</td>\n",
       "      <td>0.0</td>\n",
       "      <td>0.0</td>\n",
       "      <td>0.0</td>\n",
       "      <td>1.0</td>\n",
       "      <td>0.0</td>\n",
       "      <td>0.0</td>\n",
       "      <td>1.0</td>\n",
       "      <td>0.0</td>\n",
       "      <td>1.0</td>\n",
       "    </tr>\n",
       "    <tr>\n",
       "      <th>6964</th>\n",
       "      <td>0.06</td>\n",
       "      <td>0.00</td>\n",
       "      <td>0.03</td>\n",
       "      <td>0.69</td>\n",
       "      <td>0.31</td>\n",
       "      <td>0.0</td>\n",
       "      <td>0.12</td>\n",
       "      <td>0.0</td>\n",
       "      <td>0.0</td>\n",
       "      <td>0.0</td>\n",
       "      <td>...</td>\n",
       "      <td>0.0</td>\n",
       "      <td>0.0</td>\n",
       "      <td>0.0</td>\n",
       "      <td>0.0</td>\n",
       "      <td>0.0</td>\n",
       "      <td>0.0</td>\n",
       "      <td>0.0</td>\n",
       "      <td>1.0</td>\n",
       "      <td>0.0</td>\n",
       "      <td>1.0</td>\n",
       "    </tr>\n",
       "    <tr>\n",
       "      <th>6349</th>\n",
       "      <td>0.01</td>\n",
       "      <td>0.64</td>\n",
       "      <td>0.00</td>\n",
       "      <td>0.74</td>\n",
       "      <td>0.82</td>\n",
       "      <td>0.0</td>\n",
       "      <td>0.00</td>\n",
       "      <td>0.0</td>\n",
       "      <td>0.0</td>\n",
       "      <td>1.0</td>\n",
       "      <td>...</td>\n",
       "      <td>0.0</td>\n",
       "      <td>0.0</td>\n",
       "      <td>0.0</td>\n",
       "      <td>0.0</td>\n",
       "      <td>0.0</td>\n",
       "      <td>0.0</td>\n",
       "      <td>0.0</td>\n",
       "      <td>1.0</td>\n",
       "      <td>0.0</td>\n",
       "      <td>1.0</td>\n",
       "    </tr>\n",
       "  </tbody>\n",
       "</table>\n",
       "<p>5 rows × 51 columns</p>\n",
       "</div>"
      ],
      "text/plain": [
       "      customer_lifetime_value  income  monthly_premium_auto  \\\n",
       "3105                     0.03    0.00                  0.00   \n",
       "6032                     0.10    0.96                  0.28   \n",
       "157                      0.04    0.19                  0.27   \n",
       "6964                     0.06    0.00                  0.03   \n",
       "6349                     0.01    0.64                  0.00   \n",
       "\n",
       "      months_since_last_claim  months_since_policy_inception  \\\n",
       "3105                     0.74                           0.63   \n",
       "6032                     0.54                           0.12   \n",
       "157                      0.11                           0.63   \n",
       "6964                     0.69                           0.31   \n",
       "6349                     0.74                           0.82   \n",
       "\n",
       "      number_of_open_complaints  number_of_policies  state_california  \\\n",
       "3105                        0.0                0.25               0.0   \n",
       "6032                        0.0                0.25               1.0   \n",
       "157                         0.0                0.00               0.0   \n",
       "6964                        0.0                0.12               0.0   \n",
       "6349                        0.0                0.00               0.0   \n",
       "\n",
       "      state_nevada  state_oregon  ...  sales_channel_call_center  \\\n",
       "3105           0.0           0.0  ...                        0.0   \n",
       "6032           0.0           0.0  ...                        0.0   \n",
       "157            0.0           0.0  ...                        1.0   \n",
       "6964           0.0           0.0  ...                        0.0   \n",
       "6349           0.0           1.0  ...                        0.0   \n",
       "\n",
       "      sales_channel_web  vehicle_class_luxury_car  vehicle_class_luxury_suv  \\\n",
       "3105                0.0                       0.0                       0.0   \n",
       "6032                0.0                       0.0                       0.0   \n",
       "157                 0.0                       0.0                       0.0   \n",
       "6964                0.0                       0.0                       0.0   \n",
       "6349                0.0                       0.0                       0.0   \n",
       "\n",
       "      vehicle_class_suv  vehicle_class_sports_car  vehicle_class_two-door_car  \\\n",
       "3105                0.0                       0.0                         1.0   \n",
       "6032                1.0                       0.0                         0.0   \n",
       "157                 1.0                       0.0                         0.0   \n",
       "6964                0.0                       0.0                         0.0   \n",
       "6349                0.0                       0.0                         0.0   \n",
       "\n",
       "      vehicle_size_medsize  vehicle_size_small  vehicle_type_m  \n",
       "3105                   0.0                 1.0             0.0  \n",
       "6032                   1.0                 0.0             1.0  \n",
       "157                    1.0                 0.0             1.0  \n",
       "6964                   1.0                 0.0             1.0  \n",
       "6349                   1.0                 0.0             1.0  \n",
       "\n",
       "[5 rows x 51 columns]"
      ]
     },
     "execution_count": 55,
     "metadata": {},
     "output_type": "execute_result"
    }
   ],
   "source": [
    "X_train.head() #just to see how the data looks"
   ]
  },
  {
   "cell_type": "markdown",
   "id": "c2f298a8",
   "metadata": {},
   "source": [
    "#### Exercise 4 - Apply linear regression"
   ]
  },
  {
   "cell_type": "code",
   "execution_count": 56,
   "id": "a4177896",
   "metadata": {},
   "outputs": [
    {
     "data": {
      "text/plain": [
       "LinearRegression()"
      ]
     },
     "execution_count": 56,
     "metadata": {},
     "output_type": "execute_result"
    }
   ],
   "source": [
    "## NOW WE NEED TO DEFINE OUR MODEL THAT WE WANT TO TRAIN - lm_tmc = linear model for total claim amount\n",
    "\n",
    "lm_tcm = linear_model.LinearRegression()\n",
    "lm_tcm.fit(X_train,y_train)\n",
    "\n"
   ]
  },
  {
   "cell_type": "markdown",
   "id": "1d151301",
   "metadata": {},
   "source": [
    "#### Exercise 5 - Model Validation"
   ]
  },
  {
   "cell_type": "code",
   "execution_count": 57,
   "id": "260464e8",
   "metadata": {},
   "outputs": [
    {
     "data": {
      "text/plain": [
       "0.7707243252348869"
      ]
     },
     "execution_count": 57,
     "metadata": {},
     "output_type": "execute_result"
    }
   ],
   "source": [
    "# a1. PREDICT THE R2 - TRAIN VALUES\n",
    "\n",
    "# Predict what the R2 score will be\n",
    "from sklearn.metrics import r2_score\n",
    "predictions = lm_tcm.predict(X_train) \n",
    "r2_train = r2_score(y_train, predictions)\n",
    "r2_train"
   ]
  },
  {
   "cell_type": "code",
   "execution_count": 58,
   "id": "4b1e2609",
   "metadata": {},
   "outputs": [
    {
     "data": {
      "text/plain": [
       "0.7685185336311848"
      ]
     },
     "execution_count": 58,
     "metadata": {},
     "output_type": "execute_result"
    }
   ],
   "source": [
    "    # a2. PREDICT THE R2 - TEST VALUES\n",
    "predictions_test = lm_tcm.predict(X_test)\n",
    "r2_test = r2_score(y_test, predictions_test)\n",
    "r2_test"
   ]
  },
  {
   "cell_type": "code",
   "execution_count": 59,
   "id": "61df9c59",
   "metadata": {},
   "outputs": [
    {
     "data": {
      "text/plain": [
       "19836.04487057611"
      ]
     },
     "execution_count": 59,
     "metadata": {},
     "output_type": "execute_result"
    }
   ],
   "source": [
    "    #b1. MSE - TRAIN VALUES\n",
    "from sklearn.metrics import mean_squared_error\n",
    "mse_train=mean_squared_error(y_train,predictions)\n",
    "mse_train"
   ]
  },
  {
   "cell_type": "code",
   "execution_count": 60,
   "id": "648e1c08",
   "metadata": {},
   "outputs": [
    {
     "data": {
      "text/plain": [
       "18690.502230409264"
      ]
     },
     "execution_count": 60,
     "metadata": {},
     "output_type": "execute_result"
    }
   ],
   "source": [
    "    #b2. MSE - TEST VALUES\n",
    "from sklearn.metrics import mean_squared_error\n",
    "mse_test=mean_squared_error(y_test,predictions_test)\n",
    "mse_test"
   ]
  },
  {
   "cell_type": "code",
   "execution_count": 61,
   "id": "ca9ecdd3",
   "metadata": {},
   "outputs": [
    {
     "data": {
      "text/plain": [
       "140.84049442747676"
      ]
     },
     "execution_count": 61,
     "metadata": {},
     "output_type": "execute_result"
    }
   ],
   "source": [
    "    #c1. RMSE - TRAIN VALUES\n",
    "rmse_train = np.sqrt(mean_squared_error(y_train,predictions))\n",
    "rmse_train"
   ]
  },
  {
   "cell_type": "code",
   "execution_count": 62,
   "id": "7943e918",
   "metadata": {},
   "outputs": [
    {
     "data": {
      "text/plain": [
       "136.71321161617578"
      ]
     },
     "execution_count": 62,
     "metadata": {},
     "output_type": "execute_result"
    }
   ],
   "source": [
    "    #c2. RMSE - TEST VALUES\n",
    "rmse_test = np.sqrt(mean_squared_error(y_test,predictions_test))\n",
    "rmse_test"
   ]
  },
  {
   "cell_type": "code",
   "execution_count": 63,
   "id": "9fd2bee0",
   "metadata": {},
   "outputs": [
    {
     "data": {
      "text/plain": [
       "95.94587975236948"
      ]
     },
     "execution_count": 63,
     "metadata": {},
     "output_type": "execute_result"
    }
   ],
   "source": [
    "    #d1. MAE - TRAIN VALUES\n",
    "from sklearn.metrics import mean_absolute_error\n",
    "mae_train = mean_absolute_error(y_train, predictions)\n",
    "mae_train"
   ]
  },
  {
   "cell_type": "code",
   "execution_count": 64,
   "id": "4e55b5cf",
   "metadata": {},
   "outputs": [
    {
     "data": {
      "text/plain": [
       "95.39355109509451"
      ]
     },
     "execution_count": 64,
     "metadata": {},
     "output_type": "execute_result"
    }
   ],
   "source": [
    "    #d2. MAE - TEST VALUES\n",
    "from sklearn.metrics import mean_absolute_error\n",
    "mae_test = mean_absolute_error(y_test, predictions_test)\n",
    "mae_test"
   ]
  },
  {
   "cell_type": "code",
   "execution_count": 65,
   "id": "63c20fc3",
   "metadata": {},
   "outputs": [
    {
     "data": {
      "text/plain": [
       "434.88832970283863"
      ]
     },
     "execution_count": 65,
     "metadata": {},
     "output_type": "execute_result"
    }
   ],
   "source": [
    "mean_tcm = np.mean(marketing_data['total claim amount'])\n",
    "mean_tcm"
   ]
  },
  {
   "cell_type": "markdown",
   "id": "f81c3a45",
   "metadata": {},
   "source": [
    "LAB: 7\n",
    "    - Think about features we want to take out, which ones are really better\n",
    "    - Try a different method of scaling - e.g. standard scaler\n",
    "    - Use a different ratio train: 85% and test: 15%\n",
    "    - Think about a log transformation and think about doing it. If the curve is convex or concave\n",
    "    - Bonus: build a function\n",
    "    - Try to improve the model - e.g. leave out columns, or use the other scaling model"
   ]
  },
  {
   "cell_type": "markdown",
   "id": "f85d96c1",
   "metadata": {},
   "source": [
    "#### Optimization 1 - Remove insignificant values"
   ]
  },
  {
   "cell_type": "code",
   "execution_count": 66,
   "id": "523eb350",
   "metadata": {},
   "outputs": [
    {
     "data": {
      "text/html": [
       "<div>\n",
       "<style scoped>\n",
       "    .dataframe tbody tr th:only-of-type {\n",
       "        vertical-align: middle;\n",
       "    }\n",
       "\n",
       "    .dataframe tbody tr th {\n",
       "        vertical-align: top;\n",
       "    }\n",
       "\n",
       "    .dataframe thead th {\n",
       "        text-align: right;\n",
       "    }\n",
       "</style>\n",
       "<table border=\"1\" class=\"dataframe\">\n",
       "  <thead>\n",
       "    <tr style=\"text-align: right;\">\n",
       "      <th></th>\n",
       "      <th>customer_lifetime_value</th>\n",
       "      <th>income</th>\n",
       "      <th>monthly_premium_auto</th>\n",
       "      <th>months_since_last_claim</th>\n",
       "      <th>months_since_policy_inception</th>\n",
       "      <th>number_of_open_complaints</th>\n",
       "      <th>number_of_policies</th>\n",
       "      <th>total_claim_amount</th>\n",
       "    </tr>\n",
       "  </thead>\n",
       "  <tbody>\n",
       "    <tr>\n",
       "      <th>customer_lifetime_value</th>\n",
       "      <td>1.000000</td>\n",
       "      <td>0.028306</td>\n",
       "      <td>0.403069</td>\n",
       "      <td>0.015683</td>\n",
       "      <td>0.016960</td>\n",
       "      <td>-0.031501</td>\n",
       "      <td>0.016024</td>\n",
       "      <td>0.232626</td>\n",
       "    </tr>\n",
       "    <tr>\n",
       "      <th>income</th>\n",
       "      <td>0.028306</td>\n",
       "      <td>1.000000</td>\n",
       "      <td>-0.009788</td>\n",
       "      <td>-0.023126</td>\n",
       "      <td>-0.005903</td>\n",
       "      <td>0.006956</td>\n",
       "      <td>-0.009960</td>\n",
       "      <td>-0.354141</td>\n",
       "    </tr>\n",
       "    <tr>\n",
       "      <th>monthly_premium_auto</th>\n",
       "      <td>0.403069</td>\n",
       "      <td>-0.009788</td>\n",
       "      <td>1.000000</td>\n",
       "      <td>0.008504</td>\n",
       "      <td>0.018953</td>\n",
       "      <td>-0.010066</td>\n",
       "      <td>-0.020505</td>\n",
       "      <td>0.631799</td>\n",
       "    </tr>\n",
       "    <tr>\n",
       "      <th>months_since_last_claim</th>\n",
       "      <td>0.015683</td>\n",
       "      <td>-0.023126</td>\n",
       "      <td>0.008504</td>\n",
       "      <td>1.000000</td>\n",
       "      <td>-0.038155</td>\n",
       "      <td>0.002246</td>\n",
       "      <td>0.007425</td>\n",
       "      <td>0.012728</td>\n",
       "    </tr>\n",
       "    <tr>\n",
       "      <th>months_since_policy_inception</th>\n",
       "      <td>0.016960</td>\n",
       "      <td>-0.005903</td>\n",
       "      <td>0.018953</td>\n",
       "      <td>-0.038155</td>\n",
       "      <td>1.000000</td>\n",
       "      <td>0.004247</td>\n",
       "      <td>-0.009123</td>\n",
       "      <td>0.003095</td>\n",
       "    </tr>\n",
       "    <tr>\n",
       "      <th>number_of_open_complaints</th>\n",
       "      <td>-0.031501</td>\n",
       "      <td>0.006956</td>\n",
       "      <td>-0.010066</td>\n",
       "      <td>0.002246</td>\n",
       "      <td>0.004247</td>\n",
       "      <td>1.000000</td>\n",
       "      <td>0.003964</td>\n",
       "      <td>-0.011025</td>\n",
       "    </tr>\n",
       "    <tr>\n",
       "      <th>number_of_policies</th>\n",
       "      <td>0.016024</td>\n",
       "      <td>-0.009960</td>\n",
       "      <td>-0.020505</td>\n",
       "      <td>0.007425</td>\n",
       "      <td>-0.009123</td>\n",
       "      <td>0.003964</td>\n",
       "      <td>1.000000</td>\n",
       "      <td>-0.008923</td>\n",
       "    </tr>\n",
       "    <tr>\n",
       "      <th>total_claim_amount</th>\n",
       "      <td>0.232626</td>\n",
       "      <td>-0.354141</td>\n",
       "      <td>0.631799</td>\n",
       "      <td>0.012728</td>\n",
       "      <td>0.003095</td>\n",
       "      <td>-0.011025</td>\n",
       "      <td>-0.008923</td>\n",
       "      <td>1.000000</td>\n",
       "    </tr>\n",
       "  </tbody>\n",
       "</table>\n",
       "</div>"
      ],
      "text/plain": [
       "                               customer_lifetime_value    income  \\\n",
       "customer_lifetime_value                       1.000000  0.028306   \n",
       "income                                        0.028306  1.000000   \n",
       "monthly_premium_auto                          0.403069 -0.009788   \n",
       "months_since_last_claim                       0.015683 -0.023126   \n",
       "months_since_policy_inception                 0.016960 -0.005903   \n",
       "number_of_open_complaints                    -0.031501  0.006956   \n",
       "number_of_policies                            0.016024 -0.009960   \n",
       "total_claim_amount                            0.232626 -0.354141   \n",
       "\n",
       "                               monthly_premium_auto  months_since_last_claim  \\\n",
       "customer_lifetime_value                    0.403069                 0.015683   \n",
       "income                                    -0.009788                -0.023126   \n",
       "monthly_premium_auto                       1.000000                 0.008504   \n",
       "months_since_last_claim                    0.008504                 1.000000   \n",
       "months_since_policy_inception              0.018953                -0.038155   \n",
       "number_of_open_complaints                 -0.010066                 0.002246   \n",
       "number_of_policies                        -0.020505                 0.007425   \n",
       "total_claim_amount                         0.631799                 0.012728   \n",
       "\n",
       "                               months_since_policy_inception  \\\n",
       "customer_lifetime_value                             0.016960   \n",
       "income                                             -0.005903   \n",
       "monthly_premium_auto                                0.018953   \n",
       "months_since_last_claim                            -0.038155   \n",
       "months_since_policy_inception                       1.000000   \n",
       "number_of_open_complaints                           0.004247   \n",
       "number_of_policies                                 -0.009123   \n",
       "total_claim_amount                                  0.003095   \n",
       "\n",
       "                               number_of_open_complaints  number_of_policies  \\\n",
       "customer_lifetime_value                        -0.031501            0.016024   \n",
       "income                                          0.006956           -0.009960   \n",
       "monthly_premium_auto                           -0.010066           -0.020505   \n",
       "months_since_last_claim                         0.002246            0.007425   \n",
       "months_since_policy_inception                   0.004247           -0.009123   \n",
       "number_of_open_complaints                       1.000000            0.003964   \n",
       "number_of_policies                              0.003964            1.000000   \n",
       "total_claim_amount                             -0.011025           -0.008923   \n",
       "\n",
       "                               total_claim_amount  \n",
       "customer_lifetime_value                  0.232626  \n",
       "income                                  -0.354141  \n",
       "monthly_premium_auto                     0.631799  \n",
       "months_since_last_claim                  0.012728  \n",
       "months_since_policy_inception            0.003095  \n",
       "number_of_open_complaints               -0.011025  \n",
       "number_of_policies                      -0.008923  \n",
       "total_claim_amount                       1.000000  "
      ]
     },
     "execution_count": 66,
     "metadata": {},
     "output_type": "execute_result"
    }
   ],
   "source": [
    "# Check for multicolinearity and take out variables that are not important\n",
    "correlation_matrix_2 = marketing_data_cleaned.corr()\n",
    "correlation_matrix_2"
   ]
  },
  {
   "cell_type": "code",
   "execution_count": 67,
   "id": "d8f529a0",
   "metadata": {},
   "outputs": [],
   "source": [
    "# Remove insignificant values that have a very low correlation with total_claim_amount\n",
    "X_clean = X.drop(['months_since_policy_inception', 'months_since_last_claim', 'number_of_policies'], axis =1)"
   ]
  },
  {
   "cell_type": "code",
   "execution_count": 68,
   "id": "570b0c93",
   "metadata": {},
   "outputs": [],
   "source": [
    "# delete the values for X.Train and X.Test\n",
    "X_train_c = X_train.drop(['months_since_policy_inception', 'months_since_last_claim', 'number_of_policies'], axis =1)\n",
    "#X_test_c = X_train.drop(['months_since_policy_inception', 'months_since_last_claim', 'number_of_policies'], axis =1)"
   ]
  },
  {
   "cell_type": "code",
   "execution_count": 69,
   "id": "b2b44ce4",
   "metadata": {},
   "outputs": [],
   "source": [
    "X_test_c = X_train.drop(['months_since_policy_inception', 'months_since_last_claim', 'number_of_policies'], axis =1)"
   ]
  },
  {
   "cell_type": "code",
   "execution_count": 70,
   "id": "4159926c",
   "metadata": {},
   "outputs": [],
   "source": [
    "X_train_c, X_test_c, y_train, y_test = train_test_split(X_clean, y, test_size=0.2, random_state=42)"
   ]
  },
  {
   "cell_type": "code",
   "execution_count": 71,
   "id": "4b41e738",
   "metadata": {},
   "outputs": [
    {
     "data": {
      "text/plain": [
       "LinearRegression()"
      ]
     },
     "execution_count": 71,
     "metadata": {},
     "output_type": "execute_result"
    }
   ],
   "source": [
    "#Now we run a new Model with cleaned data\n",
    "lm_tcm_c = linear_model.LinearRegression()\n",
    "lm_tcm_c.fit(X_train_c,y_train)"
   ]
  },
  {
   "cell_type": "code",
   "execution_count": 72,
   "id": "eda0bad2",
   "metadata": {},
   "outputs": [
    {
     "data": {
      "text/plain": [
       "0.768468391333978"
      ]
     },
     "execution_count": 72,
     "metadata": {},
     "output_type": "execute_result"
    }
   ],
   "source": [
    "# Check if R2 is improved\n",
    "predictions_test_c = lm_tcm_c.predict(X_test_c)\n",
    "r2_test_c = r2_score(y_test, predictions_test_c)\n",
    "r2_test_c"
   ]
  },
  {
   "cell_type": "code",
   "execution_count": 73,
   "id": "f9e8396c",
   "metadata": {},
   "outputs": [],
   "source": [
    "# Compared to the first model a significant change cannot be seen"
   ]
  },
  {
   "cell_type": "code",
   "execution_count": 74,
   "id": "e84a3327",
   "metadata": {},
   "outputs": [
    {
     "data": {
      "text/plain": [
       "136.72801786266928"
      ]
     },
     "execution_count": 74,
     "metadata": {},
     "output_type": "execute_result"
    }
   ],
   "source": [
    "# Check if there is a change in the RMSE\n",
    "rmse_test_c = np.sqrt(mean_squared_error(y_test,predictions_test_c))\n",
    "rmse_test_c"
   ]
  },
  {
   "cell_type": "code",
   "execution_count": 75,
   "id": "17d98ff6",
   "metadata": {},
   "outputs": [
    {
     "data": {
      "text/plain": [
       "136.71321161617578"
      ]
     },
     "execution_count": 75,
     "metadata": {},
     "output_type": "execute_result"
    }
   ],
   "source": [
    "rmse_test"
   ]
  },
  {
   "cell_type": "code",
   "execution_count": 76,
   "id": "d2d05d62",
   "metadata": {},
   "outputs": [],
   "source": [
    "# Compared to the first model the RMSE does not really change"
   ]
  },
  {
   "cell_type": "markdown",
   "id": "94b57be0",
   "metadata": {},
   "source": [
    "#### Option 2 - Instead of normalizing numericals, standardize numericals"
   ]
  },
  {
   "cell_type": "code",
   "execution_count": 77,
   "id": "7c41a87a",
   "metadata": {},
   "outputs": [
    {
     "name": "stdout",
     "output_type": "stream",
     "text": [
      "(10910, 7)\n"
     ]
    },
    {
     "data": {
      "text/html": [
       "<div>\n",
       "<style scoped>\n",
       "    .dataframe tbody tr th:only-of-type {\n",
       "        vertical-align: middle;\n",
       "    }\n",
       "\n",
       "    .dataframe tbody tr th {\n",
       "        vertical-align: top;\n",
       "    }\n",
       "\n",
       "    .dataframe thead th {\n",
       "        text-align: right;\n",
       "    }\n",
       "</style>\n",
       "<table border=\"1\" class=\"dataframe\">\n",
       "  <thead>\n",
       "    <tr style=\"text-align: right;\">\n",
       "      <th></th>\n",
       "      <th>customer lifetime value</th>\n",
       "      <th>income</th>\n",
       "      <th>monthly premium auto</th>\n",
       "      <th>months since last claim</th>\n",
       "      <th>months since policy inception</th>\n",
       "      <th>number of open complaints</th>\n",
       "      <th>number of policies</th>\n",
       "    </tr>\n",
       "  </thead>\n",
       "  <tbody>\n",
       "    <tr>\n",
       "      <th>0</th>\n",
       "      <td>-0.466105</td>\n",
       "      <td>0.345635</td>\n",
       "      <td>-0.934819</td>\n",
       "      <td>-0.832977</td>\n",
       "      <td>0.139877</td>\n",
       "      <td>-0.433919</td>\n",
       "      <td>2.509455</td>\n",
       "    </tr>\n",
       "    <tr>\n",
       "      <th>1</th>\n",
       "      <td>-0.840946</td>\n",
       "      <td>-1.236462</td>\n",
       "      <td>-0.847713</td>\n",
       "      <td>-1.241846</td>\n",
       "      <td>-0.790709</td>\n",
       "      <td>-0.433919</td>\n",
       "      <td>-0.824922</td>\n",
       "    </tr>\n",
       "    <tr>\n",
       "      <th>2</th>\n",
       "      <td>1.006523</td>\n",
       "      <td>-0.507194</td>\n",
       "      <td>0.197554</td>\n",
       "      <td>1.926893</td>\n",
       "      <td>-0.611750</td>\n",
       "      <td>-0.433919</td>\n",
       "      <td>-0.408125</td>\n",
       "    </tr>\n",
       "    <tr>\n",
       "      <th>3</th>\n",
       "      <td>2.079112</td>\n",
       "      <td>0.380189</td>\n",
       "      <td>0.110448</td>\n",
       "      <td>-0.526325</td>\n",
       "      <td>-1.613919</td>\n",
       "      <td>-0.433919</td>\n",
       "      <td>-0.408125</td>\n",
       "    </tr>\n",
       "    <tr>\n",
       "      <th>4</th>\n",
       "      <td>0.146240</td>\n",
       "      <td>-0.456597</td>\n",
       "      <td>0.691152</td>\n",
       "      <td>0.000000</td>\n",
       "      <td>-0.611750</td>\n",
       "      <td>0.000000</td>\n",
       "      <td>1.675860</td>\n",
       "    </tr>\n",
       "  </tbody>\n",
       "</table>\n",
       "</div>"
      ],
      "text/plain": [
       "   customer lifetime value    income  monthly premium auto  \\\n",
       "0                -0.466105  0.345635             -0.934819   \n",
       "1                -0.840946 -1.236462             -0.847713   \n",
       "2                 1.006523 -0.507194              0.197554   \n",
       "3                 2.079112  0.380189              0.110448   \n",
       "4                 0.146240 -0.456597              0.691152   \n",
       "\n",
       "   months since last claim  months since policy inception  \\\n",
       "0                -0.832977                       0.139877   \n",
       "1                -1.241846                      -0.790709   \n",
       "2                 1.926893                      -0.611750   \n",
       "3                -0.526325                      -1.613919   \n",
       "4                 0.000000                      -0.611750   \n",
       "\n",
       "   number of open complaints  number of policies  \n",
       "0                  -0.433919            2.509455  \n",
       "1                  -0.433919           -0.824922  \n",
       "2                  -0.433919           -0.408125  \n",
       "3                  -0.433919           -0.408125  \n",
       "4                   0.000000            1.675860  "
      ]
     },
     "execution_count": 77,
     "metadata": {},
     "output_type": "execute_result"
    }
   ],
   "source": [
    "# Option 2 - standardize numericals\n",
    "\n",
    "from sklearn.preprocessing import StandardScaler\n",
    "\n",
    "Standardtransformer = StandardScaler().fit(X_num)\n",
    "X_standardized = Standardtransformer.transform(X_num)\n",
    "print(X_standardized.shape)\n",
    "standardized_data = pd.DataFrame(X_standardized,columns=X_num.columns)\n",
    "standardized_data.head()"
   ]
  },
  {
   "cell_type": "code",
   "execution_count": 78,
   "id": "f032787d",
   "metadata": {},
   "outputs": [],
   "source": [
    "# Concatenate a new variable\n",
    "X_new = pd.concat([standardized_data, onehot_encoded], axis =1)"
   ]
  },
  {
   "cell_type": "code",
   "execution_count": 79,
   "id": "347365ce",
   "metadata": {},
   "outputs": [],
   "source": [
    "# Create a new train/-test split to test the new data set\n",
    "X_train_s, X_test_s, y_train, y_test = train_test_split(X_new, y, test_size=0.2, random_state=42)"
   ]
  },
  {
   "cell_type": "code",
   "execution_count": 80,
   "id": "2cfe4a0f",
   "metadata": {},
   "outputs": [
    {
     "data": {
      "text/plain": [
       "LinearRegression()"
      ]
     },
     "execution_count": 80,
     "metadata": {},
     "output_type": "execute_result"
    }
   ],
   "source": [
    "#Now we run a new Model with the standardized data in X\n",
    "lm_tcm_s = linear_model.LinearRegression()\n",
    "lm_tcm_s.fit(X_train_s,y_train)"
   ]
  },
  {
   "cell_type": "code",
   "execution_count": 81,
   "id": "79dcd094",
   "metadata": {},
   "outputs": [
    {
     "data": {
      "text/plain": [
       "0.7689256852341326"
      ]
     },
     "execution_count": 81,
     "metadata": {},
     "output_type": "execute_result"
    }
   ],
   "source": [
    "# Check if R2 is improved\n",
    "predictions_test_s = lm_tcm_s.predict(X_test_s)\n",
    "r2_test_s = r2_score(y_test, predictions_test_s)\n",
    "r2_test_s"
   ]
  },
  {
   "cell_type": "code",
   "execution_count": 82,
   "id": "a68f5fb2",
   "metadata": {},
   "outputs": [
    {
     "data": {
      "text/plain": [
       "136.5929266058429"
      ]
     },
     "execution_count": 82,
     "metadata": {},
     "output_type": "execute_result"
    }
   ],
   "source": [
    "# Check if there is a change in the RMSE\n",
    "rmse_test_s = np.sqrt(mean_squared_error(y_test,predictions_test_s))\n",
    "rmse_test_s"
   ]
  },
  {
   "cell_type": "code",
   "execution_count": 83,
   "id": "0956e6b3",
   "metadata": {},
   "outputs": [
    {
     "data": {
      "text/plain": [
       "136.71321161617578"
      ]
     },
     "execution_count": 83,
     "metadata": {},
     "output_type": "execute_result"
    }
   ],
   "source": [
    "rmse_test"
   ]
  },
  {
   "cell_type": "markdown",
   "id": "2e9888fd",
   "metadata": {},
   "source": [
    "#### Option 3 - log transformation on numerical columns"
   ]
  },
  {
   "cell_type": "code",
   "execution_count": 84,
   "id": "397d9c54",
   "metadata": {},
   "outputs": [],
   "source": [
    "def log_transform_clean1(x):\n",
    "    x = np.log10(x)\n",
    "    if np.isfinite(x):\n",
    "        return x\n",
    "    else:\n",
    "        return 0\n",
    "\n",
    "X_num\n",
    "\n",
    "for x in X_num:\n",
    "    X_num[x] = X_num[x].apply(log_transform_clean1)\n",
    "\n",
    "X_num_log = X_num"
   ]
  },
  {
   "cell_type": "code",
   "execution_count": 85,
   "id": "9b5e6c47",
   "metadata": {},
   "outputs": [
    {
     "name": "stdout",
     "output_type": "stream",
     "text": [
      "(10910, 7)\n"
     ]
    }
   ],
   "source": [
    "# NORMALIZE DATA AGAIN\n",
    "\n",
    "# 1. Create a function \n",
    "transformer = MinMaxScaler().fit(X_num_log) #it will squize in the numbers between the min and max and uniformlly seperate it\n",
    "# 2. Output are the scaled values\n",
    "X_normalized_log = transformer.transform(X_num_log) #It is a dataframe but will be turned into an array\n",
    "print(X_normalized.shape)\n",
    "\n",
    "X_normalized_log\n",
    "\n",
    "#Rename it because I change the dataset from an array into a Dataframe\n",
    "normalized_data = pd.DataFrame(X_normalized_log, columns=X_num_log.columns)"
   ]
  },
  {
   "cell_type": "code",
   "execution_count": 86,
   "id": "faf4c4d7",
   "metadata": {},
   "outputs": [],
   "source": [
    "X_log = pd.concat([normalized_data, onehot_encoded], axis =1)"
   ]
  },
  {
   "cell_type": "code",
   "execution_count": 87,
   "id": "d641adc6",
   "metadata": {},
   "outputs": [],
   "source": [
    "# Create a new train/-test split to test the new data set\n",
    "X_train_l, X_test_l, y_train, y_test = train_test_split(X_num_log, y, test_size=0.2, random_state=42)"
   ]
  },
  {
   "cell_type": "code",
   "execution_count": 88,
   "id": "2d711084",
   "metadata": {},
   "outputs": [
    {
     "data": {
      "text/plain": [
       "LinearRegression()"
      ]
     },
     "execution_count": 88,
     "metadata": {},
     "output_type": "execute_result"
    }
   ],
   "source": [
    "#Now we run a new Model with the standardized data in X\n",
    "lm_tcm_l = linear_model.LinearRegression()\n",
    "lm_tcm_l.fit(X_train_l,y_train)"
   ]
  },
  {
   "cell_type": "code",
   "execution_count": 91,
   "id": "3c1cc0c1",
   "metadata": {},
   "outputs": [
    {
     "name": "stdout",
     "output_type": "stream",
     "text": [
      "0.4933111829362624\n",
      "First model has an R2 of: 0.7685185336311848\n",
      "202.2660684389242\n",
      "First model has an RMSE of: 136.71321161617578\n"
     ]
    }
   ],
   "source": [
    "predictions_test_l = lm_tcm_l.predict(X_test_l)\n",
    "r2_test_l = r2_score(y_test, predictions_test_l)\n",
    "print(r2_test_l)\n",
    "print('First model has an R2 of:', r2_test)\n",
    "\n",
    "# Check if there is a change in the RMSE\n",
    "rmse_test_l = np.sqrt(mean_squared_error(y_test,predictions_test_l))\n",
    "print(rmse_test_l)\n",
    "print('First model has an RMSE of:', rmse_test)"
   ]
  },
  {
   "cell_type": "code",
   "execution_count": null,
   "id": "6b92d3c5",
   "metadata": {},
   "outputs": [],
   "source": [
    "#The model did not improve"
   ]
  },
  {
   "cell_type": "code",
   "execution_count": null,
   "id": "966b503f",
   "metadata": {},
   "outputs": [],
   "source": []
  },
  {
   "cell_type": "code",
   "execution_count": null,
   "id": "34460a0b",
   "metadata": {},
   "outputs": [],
   "source": []
  },
  {
   "cell_type": "markdown",
   "id": "2f856044",
   "metadata": {},
   "source": [
    "#### Option 4 - Change the test ratio"
   ]
  },
  {
   "cell_type": "code",
   "execution_count": null,
   "id": "83e66ded",
   "metadata": {},
   "outputs": [],
   "source": [
    "# train test split, will output 4 values - good to call them X_train, X_test, y_train and y_test\n",
    "X_train, X_test, y_train, y_test = train_test_split(X, y, test_size=0.15, random_state=42) # insert the label and features, 0.2 is 20% for testing\n",
    "# random_state is used to always have the same test set, same selection will be made - good to use when you want to have the same results, any number can be used\n"
   ]
  },
  {
   "cell_type": "code",
   "execution_count": null,
   "id": "c082e642",
   "metadata": {},
   "outputs": [],
   "source": [
    "lm_tcm_r = linear_model.LinearRegression()\n",
    "lm_tcm_r.fit(X_train,y_train)"
   ]
  },
  {
   "cell_type": "code",
   "execution_count": null,
   "id": "e5f12a8a",
   "metadata": {},
   "outputs": [],
   "source": [
    "predictions_test_r = lm_tcm_r.predict(X_test)\n",
    "r2_test_r = r2_score(y_test, predictions_test_r)\n",
    "print(r2_test_r)\n",
    "print(r2_test)\n",
    "\n",
    "# Check if there is a change in the RMSE\n",
    "rmse_test_r = np.sqrt(mean_squared_error(y_test,predictions_test_r))\n",
    "print(rmse_test_r)\n",
    "print(rmse_test)"
   ]
  },
  {
   "cell_type": "markdown",
   "id": "5fd8e7a2",
   "metadata": {},
   "source": [
    "#### Option 3 - Use label encoding on some features"
   ]
  },
  {
   "cell_type": "code",
   "execution_count": null,
   "id": "e350655f",
   "metadata": {},
   "outputs": [],
   "source": [
    "#COMMENT FOR ONE HOT/ LABEL ENCODING 1. We dont need the column customer, response .drop 2. ONE HOT FEATURES: - state, response, gender, suburban, marital status, policy type, policy, renew offer type, sales channel, vehicle class, vehicle type LABEL ENCODING - coverage, education, employmentstatus, vehicle size"
   ]
  },
  {
   "cell_type": "markdown",
   "id": "56a87f83",
   "metadata": {},
   "source": [
    "LAB: Final\n",
    "        - Give some insights on what we found out along the way, that might be interesting\n",
    "        - Also what made things better\n",
    "        - Clean everything up"
   ]
  }
 ],
 "metadata": {
  "kernelspec": {
   "display_name": "Python 3 (ipykernel)",
   "language": "python",
   "name": "python3"
  },
  "language_info": {
   "codemirror_mode": {
    "name": "ipython",
    "version": 3
   },
   "file_extension": ".py",
   "mimetype": "text/x-python",
   "name": "python",
   "nbconvert_exporter": "python",
   "pygments_lexer": "ipython3",
   "version": "3.9.13"
  }
 },
 "nbformat": 4,
 "nbformat_minor": 5
}
