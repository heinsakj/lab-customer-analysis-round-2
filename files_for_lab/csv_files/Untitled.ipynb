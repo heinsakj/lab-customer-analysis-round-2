{
 "cells": [
  {
   "cell_type": "code",
   "execution_count": null,
   "id": "8b00906a",
   "metadata": {},
   "outputs": [],
   "source": [
    "REPORTING\n",
    "LAB 3:\n",
    "1. The sales channel ' Agent ' received in total the most of the yes responses, followed by branch. \n",
    "However receiving a response was in general really low and should be optimized. Get the graph sales_response\n",
    "2. Customers with a total claim amount between roughly 400 to 750 were most likely to respond. See graph tcm_response\n",
    "3. Customers with an income between 20.000 - 40.000 responsed the most. The more income the cusomter has the less likely they are to respond. See graph inc_response\n",
    "\n",
    "LAB 4: \n",
    "1. Features that show a normal distribution are the following\n",
    "\n",
    "    1. Months since last claim \n",
    "    2. Number since policy inception\n",
    "    3. Effective to month\n",
    "    4. If we take out the outlier in income, we can consider this as normally distributed\n",
    "\n",
    "2. When checking for multicollinearity we can see that none of the features correlate highly with each other\n",
    "    Show - 'corr_heatmap'\n",
    "\n",
    "LAB 6: \n",
    "1. The first linear regression model 'lm_tcm' receives a R2 of 0.76 on the test values, with a RMSE of 136.71 dollars, meaning that our predicted data values are 136.71 dollars away from the observes data values.\n",
    "The average error between the predictions and actuals in this dataset is 95.39, which is okay considering the mean total claim amount is 434.88 dollars. \n",
    "However we should optimize the model\n",
    "\n",
    "LAB 7: \n",
    "METHOD 1:\n",
    "1. Let's delete some features that have a low correlation with total claim amount,\n",
    "which is 'months_since_policy_inception', 'months_since_last_claim', 'number_of_policies'\n",
    "2. deleting features from the dataset is not improving the model\n",
    "3. standardizing the numerical values is improving the model a little bit\n",
    "4.\n",
    "5. Changing the ratio is improving the model\n",
    "\n",
    "\n",
    "TABEL WO ALLE NEBENEINANDER SIND\n",
    "lm_tcm, r2_test, mse_test, rmse_test, mae_test\n",
    "lm_tcm_c, r2_test_c, rmse_test_c #remove a few features\n",
    "lm_tcm_s, r2_test_s, rmse_test_s #standardizing\n",
    "lm_tcm_l, r2_test_l, rmse_test_l #log transform did not help\n",
    "lm_tcm_r, r2_test_r, rmse_test_r #ratio\n",
    "\n"
   ]
  }
 ],
 "metadata": {
  "kernelspec": {
   "display_name": "Python 3 (ipykernel)",
   "language": "python",
   "name": "python3"
  },
  "language_info": {
   "codemirror_mode": {
    "name": "ipython",
    "version": 3
   },
   "file_extension": ".py",
   "mimetype": "text/x-python",
   "name": "python",
   "nbconvert_exporter": "python",
   "pygments_lexer": "ipython3",
   "version": "3.9.13"
  }
 },
 "nbformat": 4,
 "nbformat_minor": 5
}
